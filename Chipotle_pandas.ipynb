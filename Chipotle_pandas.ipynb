{
  "nbformat": 4,
  "nbformat_minor": 0,
  "metadata": {
    "colab": {
      "name": "Chipotle_pandas.ipynb",
      "provenance": [],
      "collapsed_sections": [],
      "authorship_tag": "ABX9TyPZp2ZTgIFo3SiKB6R4C0BC",
      "include_colab_link": true
    },
    "kernelspec": {
      "name": "python3",
      "display_name": "Python 3"
    },
    "language_info": {
      "name": "python"
    }
  },
  "cells": [
    {
      "cell_type": "markdown",
      "metadata": {
        "id": "view-in-github",
        "colab_type": "text"
      },
      "source": [
        "<a href=\"https://colab.research.google.com/github/AndyZhang127/temp/blob/main/Chipotle_pandas.ipynb\" target=\"_parent\"><img src=\"https://colab.research.google.com/assets/colab-badge.svg\" alt=\"Open In Colab\"/></a>"
      ]
    },
    {
      "cell_type": "markdown",
      "source": [
        "# Excercise3.Chipotle_pandas\n",
        "\n"
      ],
      "metadata": {
        "id": "NR9iF0J6A6_Y"
      }
    },
    {
      "cell_type": "markdown",
      "source": [
        "\n",
        "\n",
        "1.   read csv file from url(要注意分隔符)\n",
        "2.   float()\n",
        "3.   整列替换\n",
        "4.   unique()\n",
        "5.   query()\n",
        "6.   drop_duplicates()\n",
        "7.   sort_values()\n",
        "8.   len()\n"
      ],
      "metadata": {
        "id": "qDeH4XcGkcBG"
      }
    },
    {
      "cell_type": "code",
      "source": [
        "#Step 1. Import the necessary libraries\n",
        "import pandas as pd \n",
        "import requests\n",
        "\n",
        "url='https://raw.githubusercontent.com/justmarkham/DAT8/master/data/chipotle.tsv'"
      ],
      "metadata": {
        "id": "wCyu_2zFevde"
      },
      "execution_count": null,
      "outputs": []
    },
    {
      "cell_type": "code",
      "source": [
        "#Step 3. Assign it to a variable called chipo.\n",
        "chipo=pd.read_csv(url,sep='\\t')"
      ],
      "metadata": {
        "id": "Hjd56Cwlgnb6"
      },
      "execution_count": null,
      "outputs": []
    },
    {
      "cell_type": "code",
      "source": [
        "#Step 4. How many products cost more than $10.00?\n",
        "# clean the item_price column and transform it in a float\n",
        "prices = [float(value[1 : -1]) for value in chipo.item_price]\n",
        "# reassign the column with the cleaned prices\n",
        "chipo.item_price = prices\n",
        "# get the anser\n",
        "chipo.query('item_price > 10').item_name.nunique()"
      ],
      "metadata": {
        "id": "sGtdF8Xjh0uW"
      },
      "execution_count": null,
      "outputs": []
    },
    {
      "cell_type": "code",
      "source": [
        "# Step 5. What is the price of each item?\n",
        "chipo[['item_name','item_price']].drop_duplicates().sort_values('item_name')"
      ],
      "metadata": {
        "id": "69BIsyYvmyR7"
      },
      "execution_count": null,
      "outputs": []
    },
    {
      "cell_type": "code",
      "source": [
        "# Step 6. Sort by the name of the item\n",
        "chipo.sort_values('item_name')"
      ],
      "metadata": {
        "id": "pRwzeoW1vdll"
      },
      "execution_count": null,
      "outputs": []
    },
    {
      "cell_type": "code",
      "source": [
        "# Step 7. What was the quantity of the most expensive item ordered?\n",
        "chipo.sort_values('item_price',ascending=0).head(1)[['quantity']]"
      ],
      "metadata": {
        "id": "Co6cpGX5vkok"
      },
      "execution_count": null,
      "outputs": []
    },
    {
      "cell_type": "code",
      "source": [
        "#Step 8. How many times was a Veggie Salad Bowl ordered?\n",
        "chipo_salad =chipo[chipo['item_name']=='Veggie Salad Bowl']\n",
        "len(chipo_salad)"
      ],
      "metadata": {
        "id": "sayMTtjTwzab"
      },
      "execution_count": null,
      "outputs": []
    },
    {
      "cell_type": "code",
      "source": [
        "#Step 9. How many times did someone order more than one Canned Soda?\n",
        "chipo_drink_steak_bowl = chipo[(chipo['quantity']>1) & (chipo['item_name']=='Canned Soda')]\n",
        "len(chipo_drink_steak_bowl)"
      ],
      "metadata": {
        "id": "Mr5_PjCsyW_h"
      },
      "execution_count": null,
      "outputs": []
    }
  ]
}