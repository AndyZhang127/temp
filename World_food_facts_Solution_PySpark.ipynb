{
  "nbformat": 4,
  "nbformat_minor": 0,
  "metadata": {
    "colab": {
      "name": "World food facts_Solution_PySpark.ipynb",
      "provenance": [],
      "collapsed_sections": [],
      "authorship_tag": "ABX9TyO2LVSd/9+ek1NcL9ItvgMi",
      "include_colab_link": true
    },
    "kernelspec": {
      "name": "python3",
      "display_name": "Python 3"
    },
    "language_info": {
      "name": "python"
    }
  },
  "cells": [
    {
      "cell_type": "markdown",
      "metadata": {
        "id": "view-in-github",
        "colab_type": "text"
      },
      "source": [
        "<a href=\"https://colab.research.google.com/github/AndyZhang127/temp/blob/main/World_food_facts_Solution_PySpark.ipynb\" target=\"_parent\"><img src=\"https://colab.research.google.com/assets/colab-badge.svg\" alt=\"Open In Colab\"/></a>"
      ]
    },
    {
      "cell_type": "code",
      "source": [
        "pip install pyspark"
      ],
      "metadata": {
        "id": "35OUDfEblIhc"
      },
      "execution_count": null,
      "outputs": []
    },
    {
      "cell_type": "code",
      "source": [
        "#Step1.Import the necessary libraries\n",
        "\n",
        "import pyspark\n",
        "from pyspark.sql import SparkSession\n",
        "\n",
        "spark=SparkSession.builder.appName('ex1').getOrCreate()\n",
        "spark\n"
      ],
      "metadata": {
        "id": "tFRyTjlDjtNX"
      },
      "execution_count": null,
      "outputs": []
    },
    {
      "cell_type": "code",
      "source": [
        "#Step3.Use the tsv file and assign it to a dataframe called food\n",
        "food=spark.read.csv('/content/en.openfoodfacts.org.products.tsv',header=True,inferSchema=True,sep='\\t')"
      ],
      "metadata": {
        "id": "f-rsUDXHmDTk"
      },
      "execution_count": null,
      "outputs": []
    },
    {
      "cell_type": "code",
      "source": [
        "#Step4.See the first 5 entires\n",
        "food.head(1)"
      ],
      "metadata": {
        "id": "ngosnUq8mllA"
      },
      "execution_count": null,
      "outputs": []
    },
    {
      "cell_type": "code",
      "source": [
        "#Step5.What is the number of observation in the dataset?\n",
        "food.count()"
      ],
      "metadata": {
        "id": "AYiTZYYmmzrR"
      },
      "execution_count": null,
      "outputs": []
    },
    {
      "cell_type": "code",
      "source": [
        "#Step6.What is the number of columns in the dataset?\n",
        "len(food.columns)"
      ],
      "metadata": {
        "id": "IKQoRmZ0nHS8"
      },
      "execution_count": null,
      "outputs": []
    },
    {
      "cell_type": "code",
      "source": [
        "#Step7.Print the name of all the columns\n",
        "food.columns"
      ],
      "metadata": {
        "id": "vSJD1QT-oezv"
      },
      "execution_count": null,
      "outputs": []
    },
    {
      "cell_type": "code",
      "source": [
        "#Step8.What is the name of 105th column?\n",
        "food.columns[104]"
      ],
      "metadata": {
        "id": "1Of6NaE5pJq9"
      },
      "execution_count": null,
      "outputs": []
    },
    {
      "cell_type": "code",
      "source": [
        "#Step9.What is the type of the observations of the 105th column?\n",
        "dict(food.dtypes)[food.columns[104]]"
      ],
      "metadata": {
        "id": "9Rp-9HiOqs8S"
      },
      "execution_count": null,
      "outputs": []
    },
    {
      "cell_type": "code",
      "source": [
        "#Step10.How is the dataset indexed?\n"
      ],
      "metadata": {
        "id": "Rgm5bpo6FVYU"
      },
      "execution_count": null,
      "outputs": []
    },
    {
      "cell_type": "code",
      "source": [
        "#Step11.What is the prodcut name of the 19th observation?\n",
        "print(food.select('product_name').collect()[18])"
      ],
      "metadata": {
        "id": "_kFmpBX_Fpea"
      },
      "execution_count": null,
      "outputs": []
    }
  ]
}