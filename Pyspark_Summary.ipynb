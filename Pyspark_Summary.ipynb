{
  "nbformat": 4,
  "nbformat_minor": 0,
  "metadata": {
    "colab": {
      "name": "Pyspark_Summary.ipynb",
      "provenance": [],
      "collapsed_sections": [],
      "toc_visible": true,
      "authorship_tag": "ABX9TyPMXCkoftKJAYeeoD1KDaIU",
      "include_colab_link": true
    },
    "kernelspec": {
      "name": "python3",
      "display_name": "Python 3"
    },
    "language_info": {
      "name": "python"
    }
  },
  "cells": [
    {
      "cell_type": "markdown",
      "metadata": {
        "id": "view-in-github",
        "colab_type": "text"
      },
      "source": [
        "<a href=\"https://colab.research.google.com/github/AndyZhang127/temp/blob/main/Pyspark_Summary.ipynb\" target=\"_parent\"><img src=\"https://colab.research.google.com/assets/colab-badge.svg\" alt=\"Open In Colab\"/></a>"
      ]
    },
    {
      "cell_type": "code",
      "source": [
        "pip install pyspark"
      ],
      "metadata": {
        "colab": {
          "base_uri": "https://localhost:8080/"
        },
        "id": "XbgWy_g8Y0K0",
        "outputId": "94d66eca-89ca-407c-e05d-7811ebc7d9f9"
      },
      "execution_count": 2,
      "outputs": [
        {
          "output_type": "stream",
          "name": "stdout",
          "text": [
            "Looking in indexes: https://pypi.org/simple, https://us-python.pkg.dev/colab-wheels/public/simple/\n",
            "Collecting pyspark\n",
            "  Downloading pyspark-3.3.0.tar.gz (281.3 MB)\n",
            "\u001b[K     |████████████████████████████████| 281.3 MB 40 kB/s \n",
            "\u001b[?25hCollecting py4j==0.10.9.5\n",
            "  Downloading py4j-0.10.9.5-py2.py3-none-any.whl (199 kB)\n",
            "\u001b[K     |████████████████████████████████| 199 kB 48.2 MB/s \n",
            "\u001b[?25hBuilding wheels for collected packages: pyspark\n",
            "  Building wheel for pyspark (setup.py) ... \u001b[?25l\u001b[?25hdone\n",
            "  Created wheel for pyspark: filename=pyspark-3.3.0-py2.py3-none-any.whl size=281764026 sha256=68187aa5c78d637116e3ff8d4892bd1213a35d30ff5e1514b4062124ea91f883\n",
            "  Stored in directory: /root/.cache/pip/wheels/7a/8e/1b/f73a52650d2e5f337708d9f6a1750d451a7349a867f928b885\n",
            "Successfully built pyspark\n",
            "Installing collected packages: py4j, pyspark\n",
            "Successfully installed py4j-0.10.9.5 pyspark-3.3.0\n"
          ]
        }
      ]
    },
    {
      "cell_type": "code",
      "source": [
        "from pyspark.sql import functions as F"
      ],
      "metadata": {
        "id": "Jdye5q27L3nB"
      },
      "execution_count": 3,
      "outputs": []
    },
    {
      "cell_type": "code",
      "source": [
        "import pyspark\n",
        "from pyspark.sql import SparkSession\n",
        "\n",
        "spark = SparkSession.builder.appName(\"Task\").getOrCreate()\n",
        "spark"
      ],
      "metadata": {
        "id": "enJ4ZIb7ZIS3"
      },
      "execution_count": null,
      "outputs": []
    },
    {
      "cell_type": "markdown",
      "source": [
        "# 1.Getting Various Source Data"
      ],
      "metadata": {
        "id": "SwDXfMsWYtx-"
      }
    },
    {
      "cell_type": "markdown",
      "source": [
        "## 1.1 **[URL]**"
      ],
      "metadata": {
        "id": "TuYzkENfZtFg"
      }
    },
    {
      "cell_type": "markdown",
      "source": [
        "Use **spark.sparkContext.addFile()** firstly, Then **SparkFiles.get()** to get file\n",
        "\n",
        "\n",
        "\n",
        "\n",
        "\n",
        "\n",
        "\n",
        "\n",
        "\n"
      ],
      "metadata": {
        "id": "TW8rBRT1ayMd"
      }
    },
    {
      "cell_type": "markdown",
      "source": [
        "### 1.1.1 Chipotle\n",
        "\n",
        "*   header=True\n",
        "*   inferSchema=True\n",
        "*   sep='\\t'"
      ],
      "metadata": {
        "id": "j63Vi4qIcZPi"
      }
    },
    {
      "cell_type": "code",
      "execution_count": null,
      "metadata": {
        "id": "0XJBZRMLYmaa"
      },
      "outputs": [],
      "source": [
        "from pyspark import SparkFiles\n",
        "\n",
        "url = \"https://raw.githubusercontent.com/justmarkham/DAT8/master/data/chipotle.tsv\"\n",
        "spark.sparkContext.addFile(url)\n",
        "chipotle=spark.read.csv(SparkFiles.get(\"chipotle.tsv\"), header=True, inferSchema=True, sep='\\t')\n",
        "\n",
        "chipotle.show()"
      ]
    },
    {
      "cell_type": "code",
      "source": [
        "chipotle.select(chipotle.item_name,F.when(chipotle.quantity>1,1).otherwise(0).alias('is_greate_than_1')).show()"
      ],
      "metadata": {
        "id": "ipa6qGs4J5w7"
      },
      "execution_count": null,
      "outputs": []
    },
    {
      "cell_type": "markdown",
      "source": [
        "### 1.1.2 Occupation"
      ],
      "metadata": {
        "id": "uwhf8hYDc1zx"
      }
    },
    {
      "cell_type": "code",
      "source": [
        "from pyspark import SparkFiles\n",
        "\n",
        "url=\"https://raw.githubusercontent.com/justmarkham/DAT8/master/data/u.user\"\n",
        "spark.sparkContext.addFile(url)\n",
        "occupation=spark.read.csv(SparkFiles.get(\"u.user\"),header=True,inferSchema=True,sep='|')\n",
        "\n",
        "occupation.show()"
      ],
      "metadata": {
        "id": "AMZvqJ-bc9SM"
      },
      "execution_count": null,
      "outputs": []
    },
    {
      "cell_type": "markdown",
      "source": [
        "### 1.1.3 Euro12"
      ],
      "metadata": {
        "id": "FKmgCuHgWuuV"
      }
    },
    {
      "cell_type": "code",
      "source": [
        "url = \"https://raw.githubusercontent.com/guipsamora/pandas_exercises/master/02_Filtering_%26_Sorting/Euro12/Euro_2012_stats_TEAM.csv\"\n",
        "spark.sparkContext.addFile(url)\n",
        "euro12 = spark.read.csv(SparkFiles.get('Euro_2012_stats_TEAM.csv'), header=True, inferSchema=True, sep=',')\n",
        "euro12.show()"
      ],
      "metadata": {
        "id": "FT62kXgzW4lt"
      },
      "execution_count": null,
      "outputs": []
    },
    {
      "cell_type": "markdown",
      "source": [
        "### 1.1.4 Drinks"
      ],
      "metadata": {
        "id": "-vdBkhWv6_bm"
      }
    },
    {
      "cell_type": "code",
      "source": [
        "url = \"https://raw.githubusercontent.com/justmarkham/DAT8/master/data/drinks.csv\"\n",
        "spark.sparkContext.addFile(url)\n",
        "drinks = spark.read.csv(SparkFiles.get(\"drinks.csv\"), header=True, inferSchema=True, sep=\",\")\n",
        "drinks.show(5)"
      ],
      "metadata": {
        "id": "0a6djOSj69Qn"
      },
      "execution_count": null,
      "outputs": []
    },
    {
      "cell_type": "markdown",
      "source": [
        "### 1.1.4 Iris"
      ],
      "metadata": {
        "id": "0zkAJFaIdGzr"
      }
    },
    {
      "cell_type": "code",
      "source": [
        "url = \"https://archive.ics.uci.edu/ml/machine-learning-databases/iris/iris.data\"\n",
        "spark.sparkContext.addFile(url)\n",
        "iris = spark.read.csv(SparkFiles.get(\"iris.data\"), header=False, inferSchema=True, sep=',')\n",
        "iris.show(5)"
      ],
      "metadata": {
        "id": "AscGtKnOcEzg"
      },
      "execution_count": null,
      "outputs": []
    },
    {
      "cell_type": "code",
      "source": [
        "new_names = [\"sepal_length\", \n",
        "             \"sepal_width\",\n",
        "             \"petal_length\",\n",
        "             \"petal_width\",\n",
        "             \"class\"]\n",
        "iris = iris.toDF(*new_names)\n",
        "iris.show(5)"
      ],
      "metadata": {
        "id": "5_InBIYhdY8F"
      },
      "execution_count": null,
      "outputs": []
    },
    {
      "cell_type": "markdown",
      "source": [
        "### 1.1.5 users"
      ],
      "metadata": {
        "id": "Q-BhmWrGp3R2"
      }
    },
    {
      "cell_type": "code",
      "source": [
        "url = \"https://raw.githubusercontent.com/justmarkham/DAT8/master/data/u.user\"\n",
        "spark.sparkContext.addFile(url)\n",
        "users = spark.read.csv(SparkFiles.get(\"u.user\"), header=True, inferSchema=True, sep='|')\n",
        "users.show(5)"
      ],
      "metadata": {
        "id": "nyzdXGLsp7AI"
      },
      "execution_count": null,
      "outputs": []
    },
    {
      "cell_type": "markdown",
      "source": [
        "### 1.1.6 stud_alcoh"
      ],
      "metadata": {
        "id": "SLhg5dLqpBh9"
      }
    },
    {
      "cell_type": "code",
      "source": [
        "url = \"https://raw.githubusercontent.com/guipsamora/pandas_exercises/master/04_Apply/Students_Alcohol_Consumption/student-mat.csv\"\n",
        "\n",
        "spark.sparkContext.addFile(url)\n",
        "\n",
        "stud_alcoh = spark.read.csv(SparkFiles.get(\"student-mat.csv\"), header=True, inferSchema=True, sep=',')\n",
        "stud_alcoh.show()"
      ],
      "metadata": {
        "id": "8mtAdlWfpA8C"
      },
      "execution_count": null,
      "outputs": []
    },
    {
      "cell_type": "markdown",
      "source": [
        "### 1.1.7 crime"
      ],
      "metadata": {
        "id": "uBKsiR8to2-E"
      }
    },
    {
      "cell_type": "code",
      "source": [
        "url = \"https://raw.githubusercontent.com/guipsamora/pandas_exercises/master/04_Apply/US_Crime_Rates/US_Crime_Rates_1960_2014.csv\"\n",
        "\n",
        "spark.sparkContext.addFile(url)\n",
        "\n",
        "crime = spark.read.csv(SparkFiles.get(\"US_Crime_Rates_1960_2014.csv\"), inferSchema=True, header=True, sep=\",\" )\n",
        "crime.show(5)"
      ],
      "metadata": {
        "id": "XPEbMSFpo3RF"
      },
      "execution_count": null,
      "outputs": []
    },
    {
      "cell_type": "markdown",
      "source": [
        "### 1.1.8 cars"
      ],
      "metadata": {
        "id": "-bZAGs1gnb4S"
      }
    },
    {
      "cell_type": "code",
      "source": [
        "cars1_URL = \"https://raw.githubusercontent.com/guipsamora/pandas_exercises/master/05_Merge/Auto_MPG/cars1.csv\"\n",
        "cars2_URL = \"https://raw.githubusercontent.com/guipsamora/pandas_exercises/master/05_Merge/Auto_MPG/cars2.csv\"\n",
        "\n",
        "spark.sparkContext.addFile(cars1_URL)\n",
        "spark.sparkContext.addFile(cars2_URL)\n",
        "\n",
        "cars1 = spark.read.csv(SparkFiles.get(\"cars1.csv\"), header=True, inferSchema=True, sep=',')\n",
        "cars2 = spark.read.csv(SparkFiles.get(\"cars2.csv\"), header=True, inferSchema=True, sep=',')"
      ],
      "metadata": {
        "id": "q5vf93E3nYXD"
      },
      "execution_count": 8,
      "outputs": []
    },
    {
      "cell_type": "markdown",
      "source": [
        "### 1.1.9 baby_names"
      ],
      "metadata": {
        "id": "_-3skIlZmUcx"
      }
    },
    {
      "cell_type": "code",
      "source": [
        "from pyspark import SparkFiles\n",
        "import pandas as pd\n",
        "\n",
        "url = \"https://raw.githubusercontent.com/guipsamora/pandas_exercises/master/06_Stats/US_Baby_Names/US_Baby_Names_right.csv\"\n",
        "\n",
        "spark.sparkContext.addFile(url)\n",
        "\n",
        "baby_names = spark.read.csv(SparkFiles.get(\"US_Baby_Names_right.csv\"), header=True, inferSchema=True, sep=',')\n",
        "baby_names.show(5)"
      ],
      "metadata": {
        "id": "tGQVUxLwmTbj"
      },
      "execution_count": null,
      "outputs": []
    },
    {
      "cell_type": "markdown",
      "source": [
        "### 1.1.10 wind_stat"
      ],
      "metadata": {
        "id": "l6gfysVjhNEk"
      }
    },
    {
      "cell_type": "code",
      "source": [
        "from pyspark import SparkFiles\n",
        "import pandas as pd\n",
        "data_url = 'https://raw.githubusercontent.com/guipsamora/pandas_exercises/master/06_Stats/Wind_Stats/wind.data'\n",
        "data = pd.read_csv(data_url, sep = \"\\s+\", parse_dates = [[0,1,2]]) \n",
        "data_df = spark.createDataFrame(data)\n",
        "data_df.show(10)"
      ],
      "metadata": {
        "id": "2o9dQOUChSf2"
      },
      "execution_count": null,
      "outputs": []
    },
    {
      "cell_type": "markdown",
      "source": [
        "## 1.2  **[LOCAL]**"
      ],
      "metadata": {
        "id": "DEojlb1pe79P"
      }
    },
    {
      "cell_type": "markdown",
      "source": [
        "### 1.2.1 Food"
      ],
      "metadata": {
        "id": "VU5XFJcJfOkn"
      }
    },
    {
      "cell_type": "code",
      "source": [
        "food = spark.read.csv('en.openfoodfacts.org.products.tsv',header=True, inferSchema=True, sep='\\t')"
      ],
      "metadata": {
        "id": "m2uSGU4_fHKo"
      },
      "execution_count": null,
      "outputs": []
    },
    {
      "cell_type": "markdown",
      "source": [
        "## 1.3 [DICTIONARY]"
      ],
      "metadata": {
        "id": "X19l6IZCklFf"
      }
    },
    {
      "cell_type": "markdown",
      "source": [
        "Firstly,Transfer raw_data into **pandas dataframe**.\n",
        "Secondly,Transfer **pandas dataframe** to **Spark dataframe**"
      ],
      "metadata": {
        "id": "W1L2wZKoleVd"
      }
    },
    {
      "cell_type": "markdown",
      "source": [
        "### 1.3.1 Fictional Army"
      ],
      "metadata": {
        "id": "wGnuU6lwX2wB"
      }
    },
    {
      "cell_type": "code",
      "source": [
        "raw_data = {'regiment': ['Nighthawks', 'Nighthawks', 'Nighthawks', 'Nighthawks', 'Dragoons', 'Dragoons', 'Dragoons', 'Dragoons', 'Scouts', 'Scouts', 'Scouts', 'Scouts'],\n",
        "            'company': ['1st', '1st', '2nd', '2nd', '1st', '1st', '2nd', '2nd','1st', '1st', '2nd', '2nd'],\n",
        "            'deaths': [523, 52, 25, 616, 43, 234, 523, 62, 62, 73, 37, 35],\n",
        "            'battles': [5, 42, 2, 2, 4, 7, 8, 3, 4, 7, 8, 9],\n",
        "            'size': [1045, 957, 1099, 1400, 1592, 1006, 987, 849, 973, 1005, 1099, 1523],\n",
        "            'veterans': [1, 5, 62, 26, 73, 37, 949, 48, 48, 435, 63, 345],\n",
        "            'readiness': [1, 2, 3, 3, 2, 1, 2, 3, 2, 1, 2, 3],\n",
        "            'armored': [1, 0, 1, 1, 0, 1, 0, 1, 0, 0, 1, 1],\n",
        "            'deserters': [4, 24, 31, 2, 3, 4, 24, 31, 2, 3, 2, 3],\n",
        "            'origin': ['Arizona', 'California', 'Texas', 'Florida', 'Maine', 'Iowa', 'Alaska', 'Washington','Oregon','Wyoming','Louisana','Georgia']\n",
        "}"
      ],
      "metadata": {
        "id": "wHbWdpG2knpy"
      },
      "execution_count": 10,
      "outputs": []
    },
    {
      "cell_type": "code",
      "source": [
        "import pandas as pd\n",
        "\n",
        "army = spark.createDataFrame(pd.DataFrame(data=raw_data))\n",
        "army.show()"
      ],
      "metadata": {
        "id": "NfvPUj_ElMAM"
      },
      "execution_count": null,
      "outputs": []
    },
    {
      "cell_type": "markdown",
      "source": [
        "### 1.3.2 Regiment"
      ],
      "metadata": {
        "id": "ZR_B0ZYJYiFW"
      }
    },
    {
      "cell_type": "code",
      "source": [
        "raw_data = {'regiment': ['Nighthawks', 'Nighthawks', 'Nighthawks', 'Nighthawks', 'Dragoons', 'Dragoons', 'Dragoons', 'Dragoons', 'Scouts', 'Scouts', 'Scouts', 'Scouts'], \n",
        "        'company': ['1st', '1st', '2nd', '2nd', '1st', '1st', '2nd', '2nd','1st', '1st', '2nd', '2nd'], \n",
        "        'name': ['Miller', 'Jacobson', 'Ali', 'Milner', 'Cooze', 'Jacon', 'Ryaner', 'Sone', 'Sloan', 'Piger', 'Riani', 'Ali'], \n",
        "        'preTestScore': [4, 24, 31, 2, 3, 4, 24, 31, 2, 3, 2, 3],\n",
        "        'postTestScore': [25, 94, 57, 62, 70, 25, 94, 57, 62, 70, 62, 70]}"
      ],
      "metadata": {
        "id": "zIOuga3rYhp0"
      },
      "execution_count": 17,
      "outputs": []
    },
    {
      "cell_type": "code",
      "source": [
        "import pandas as pd\n",
        "regiment = spark.createDataFrame(pd.DataFrame(data=raw_data))\n",
        "regiment.show(5)"
      ],
      "metadata": {
        "id": "bRfE5HTrYsyA"
      },
      "execution_count": null,
      "outputs": []
    },
    {
      "cell_type": "markdown",
      "source": [
        "### 1.3.3 Pokemon"
      ],
      "metadata": {
        "id": "yUiEvvN_gWRD"
      }
    },
    {
      "cell_type": "code",
      "source": [
        "data = [(\"Ivysaur\",45,\"Bulbasaur\",\"yes\",\"grass\"),\n",
        "        (\"Charmeleon\",39,\"Charmander\",\"no\",\"fire\"),\n",
        "        (\"Wartortle\",44,\"Squirtle\",\"yes\",\"water\"),\n",
        "        (\"Metapod\",45,\"Caterpie\",\"no\",\"bug\")]\n",
        "  \n",
        "# giving column names of dataframe\n",
        "columns = [\"evolution\", \"hp\", \"name\",\"pokedex\", \"type\"]\n",
        "\n",
        "# creating a dataframe df\n",
        "pokemon = spark.createDataFrame(data, columns)\n",
        "pokemon.show()"
      ],
      "metadata": {
        "id": "FrZJaCRkgcyL"
      },
      "execution_count": 29,
      "outputs": []
    },
    {
      "cell_type": "markdown",
      "source": [
        "### 1.3.4 Fictitious"
      ],
      "metadata": {
        "id": "81rmIfOLtzvk"
      }
    },
    {
      "cell_type": "code",
      "source": [
        "raw_data_1 = {\n",
        "        'subject_id': ['1', '2', '3', '4', '5'],\n",
        "        'first_name': ['Alex', 'Amy', 'Allen', 'Alice', 'Ayoung'], \n",
        "        'last_name': ['Anderson', 'Ackerman', 'Ali', 'Aoni', 'Atiches']}\n",
        "\n",
        "raw_data_2 = {\n",
        "        'subject_id': ['4', '5', '6', '7', '8'],\n",
        "        'first_name': ['Billy', 'Brian', 'Bran', 'Bryce', 'Betty'], \n",
        "        'last_name': ['Bonder', 'Black', 'Balwner', 'Brice', 'Btisan']}\n",
        "\n",
        "raw_data_3 = {\n",
        "        'subject_id': ['1', '2', '3', '4', '5', '7', '8', '9', '10', '11'],\n",
        "        'test_id': [51, 15, 15, 61, 16, 14, 15, 1, 61, 16]}"
      ],
      "metadata": {
        "id": "cT9V5zeWfb4W"
      },
      "execution_count": 139,
      "outputs": []
    },
    {
      "cell_type": "code",
      "source": [
        "data1 = spark.createDataFrame(pd.DataFrame(raw_data_1))\n",
        "data1.show()\n",
        "\n",
        "data2 = spark.createDataFrame(pd.DataFrame(raw_data_2))\n",
        "data2.show()\n",
        "\n",
        "data3 = spark.createDataFrame(pd.DataFrame(raw_data_3))\n",
        "data3.show()"
      ],
      "metadata": {
        "id": "55RHsU5lfdAf"
      },
      "execution_count": null,
      "outputs": []
    },
    {
      "cell_type": "markdown",
      "source": [
        "## 1.4 [Series]"
      ],
      "metadata": {
        "id": "7wBc0B35aI8l"
      }
    },
    {
      "cell_type": "markdown",
      "source": [
        "###1.4.1 housemkt"
      ],
      "metadata": {
        "id": "MaZ71yiyvZQi"
      }
    },
    {
      "cell_type": "code",
      "source": [
        "import numpy as np\n",
        "import pandas as pd\n",
        "r1 = list(map(int, list(np.random.randint(low=1, high=5, size=100))))\n",
        "print(r1)\n",
        "print(type(r1))\n",
        "print(type(r1[0]))\n",
        "\n",
        "r2 = list(map(int, list(np.random.randint(low=1, high=4, size=100))))\n",
        "print(r2)\n",
        "print(type(r2))\n",
        "print(type(r2[0]))\n",
        "\n",
        "r3 = list(map(int, list(np.random.randint(low=10000, high=30001, size=100))))\n",
        "print(r3)\n",
        "print(type(r3))\n",
        "print(type(r3[0]))"
      ],
      "metadata": {
        "id": "eMJy5J0BaZs_"
      },
      "execution_count": null,
      "outputs": []
    },
    {
      "cell_type": "code",
      "source": [
        "from pyspark.sql.functions import *\n",
        "from pyspark.sql.types import *\n",
        "from pyspark.sql import Row\n",
        "\n",
        "data = list(zip(r1, r2, r3))\n",
        "columns = [\"R1\", \"R2\", \"R3\"]\n",
        "dataframe = spark.createDataFrame(data, columns)\n",
        "dataframe.head(2)\n",
        "dataframe.show(5)"
      ],
      "metadata": {
        "id": "3WyLXI0zap_X"
      },
      "execution_count": null,
      "outputs": []
    },
    {
      "cell_type": "markdown",
      "source": [
        "# 2.Lambda Function"
      ],
      "metadata": {
        "id": "iCE8TH3RiuMp"
      }
    },
    {
      "cell_type": "markdown",
      "source": [
        "1.Steps of using lambda function in Pyspark\n",
        "\n",
        "1.   define general function \n",
        "2.   use **udf()** define lambda function\n",
        "3.   use **withColumn()** to apply the function to specific column\n",
        "\n",
        "2.The expression of lambda \n",
        "\n",
        "  **lambda x: dolariser(x)**\n",
        "\n",
        "\n",
        "\n",
        "*   x: return value\n",
        "*   dolariser(x): x input value; dolariser(x) apply dolariser function to each x column\n",
        "\n",
        "\n",
        "\n",
        "\n"
      ],
      "metadata": {
        "id": "g8poXWavlDSx"
      }
    },
    {
      "cell_type": "markdown",
      "source": [
        "##2.1 CASE 1"
      ],
      "metadata": {
        "id": "3G3wNkRG-83j"
      }
    },
    {
      "cell_type": "code",
      "source": [
        "from pyspark.sql.functions import udf, col\n",
        "from pyspark.sql.types import FloatType, StringType\n",
        "\n",
        "def dolariser(x):\n",
        "    return str(x[1:-1])\n",
        "\n",
        "udf_dolariser = udf(lambda x: dolariser(x), StringType())\n",
        "chipo_df = chipo.withColumn(\"item_price\",udf_dolariser(col(\"item_price\")))\n",
        "chipo_df = chipo_df.withColumn(\"item_price\", chipo_df[\"item_price\"].cast('float'))"
      ],
      "metadata": {
        "id": "hFWYtoHNkDqn"
      },
      "execution_count": 37,
      "outputs": []
    },
    {
      "cell_type": "markdown",
      "source": [
        "## 2.2 CASE 2"
      ],
      "metadata": {
        "id": "KKtz6E0a_B7m"
      }
    },
    {
      "cell_type": "code",
      "source": [
        "from pyspark.sql.functions import *\n",
        "from pyspark.sql.types import *"
      ],
      "metadata": {
        "id": "avzwFpg2_GwP"
      },
      "execution_count": 94,
      "outputs": []
    },
    {
      "cell_type": "code",
      "source": [
        "def gender_num(x):\n",
        "    if x == \"M\":\n",
        "        return int(1)\n",
        "    if x == \"F\":\n",
        "        return int(0)\n",
        "udf_gender_num = udf(lambda x: gender_num(x),IntegerType()) \n",
        "\n",
        "users_df = users.withColumn(\"gender_num\", udf_gender_num(col(\"gender\")))\n",
        "users_df.show(5)"
      ],
      "metadata": {
        "id": "nrtazlMT_V98"
      },
      "execution_count": null,
      "outputs": []
    },
    {
      "cell_type": "markdown",
      "source": [
        "## 2.3 CASE 3"
      ],
      "metadata": {
        "id": "L3iEQYyMnduV"
      }
    },
    {
      "cell_type": "code",
      "source": [
        "def capitalizer(x):\n",
        "    return str(x[0].upper() + x[1:].lower())\n",
        "\n",
        "cap = lambda x : x.capitalize()\n",
        "s1 = \"lamBda\"\n",
        "print(cap(s1))\n",
        "\n",
        "udf_cap = udf(lambda x : x.capitalize(), StringType())\n",
        "\n",
        "school_df = school_df.withColumn(\"Mjob\", udf_cap(col(\"Mjob\")))\n",
        "school_df = school_df.withColumn(\"Fjob\", udf_cap(col(\"Fjob\")))\n",
        "school_df.show(5)"
      ],
      "metadata": {
        "id": "nsH4H7JjZyru"
      },
      "execution_count": null,
      "outputs": []
    },
    {
      "cell_type": "markdown",
      "source": [
        "# 3.Select"
      ],
      "metadata": {
        "id": "UuQfGkvRFbxv"
      }
    },
    {
      "cell_type": "markdown",
      "source": [
        "### 3.1 Specific columns"
      ],
      "metadata": {
        "id": "D1zCC4mX2hSx"
      }
    },
    {
      "cell_type": "code",
      "source": [
        "chipo_df.select(\"item_name\",\"item_price\").show()"
      ],
      "metadata": {
        "id": "Zho4JSJEnq8o"
      },
      "execution_count": null,
      "outputs": []
    },
    {
      "cell_type": "code",
      "source": [
        "chipo_df.select([\"item_name\",\"item_price\"]).show()"
      ],
      "metadata": {
        "id": "TLEf_MLMnvTI"
      },
      "execution_count": null,
      "outputs": []
    },
    {
      "cell_type": "code",
      "source": [
        "columns=[\"item_name\",\"item_price\"]\n",
        "chipo_df.select(columns).show()"
      ],
      "metadata": {
        "id": "2QEYWpchn1Aq"
      },
      "execution_count": null,
      "outputs": []
    },
    {
      "cell_type": "markdown",
      "source": [
        "### 3.2 Range of column"
      ],
      "metadata": {
        "id": "LgXGEzCf2YjF"
      }
    },
    {
      "cell_type": "code",
      "source": [
        "army.select(army.columns[2:7]).show(5)"
      ],
      "metadata": {
        "id": "w255n_HM2W5u"
      },
      "execution_count": null,
      "outputs": []
    },
    {
      "cell_type": "code",
      "source": [
        "school_df = df.select(df.columns[df.columns.index(\"school\"): df.columns.index(\"guardian\") + 1 ])\n",
        "school_df.show(5)"
      ],
      "metadata": {
        "id": "cAFFGa28ZoNe"
      },
      "execution_count": null,
      "outputs": []
    },
    {
      "cell_type": "markdown",
      "source": [
        "# 4.Filter/Where"
      ],
      "metadata": {
        "id": "ESax6enqmujA"
      }
    },
    {
      "cell_type": "markdown",
      "source": [
        "\n",
        "\"Filter\" & \"Where\" are used interchangibly due to their similar funtionality\n",
        "1.   **where**\n",
        "2.   **filter**\n",
        "\n"
      ],
      "metadata": {
        "id": "_CMsdPa-rA6p"
      }
    },
    {
      "cell_type": "markdown",
      "source": [
        "## 4.1 Single Condition"
      ],
      "metadata": {
        "id": "SoRjh93rnLQ8"
      }
    },
    {
      "cell_type": "code",
      "source": [
        "chipo_df.filter(\"item_price>10\").show()"
      ],
      "metadata": {
        "id": "_z2QoE2_nEmd"
      },
      "execution_count": null,
      "outputs": []
    },
    {
      "cell_type": "code",
      "source": [
        "chipo_df.filter(chipo_df.item_price>10).show()"
      ],
      "metadata": {
        "id": "bZ3oirhKqJzD"
      },
      "execution_count": 67,
      "outputs": []
    },
    {
      "cell_type": "code",
      "source": [
        "chipo_df.where(chipo_df.item_name==\"Veggie Salad Bowl\").show()"
      ],
      "metadata": {
        "id": "uXPElOxcp-4R"
      },
      "execution_count": 70,
      "outputs": []
    },
    {
      "cell_type": "markdown",
      "source": [
        "## 4.2 Multiple Conditions "
      ],
      "metadata": {
        "id": "sch_eGdKqQgJ"
      }
    },
    {
      "cell_type": "code",
      "source": [
        "chipo_df.where((chipo_df.item_name==\"Canned Soda\") & (chipo_df.quantity>1)).show()"
      ],
      "metadata": {
        "id": "pw-JDQvRqXuY"
      },
      "execution_count": null,
      "outputs": []
    },
    {
      "cell_type": "code",
      "source": [
        "army.where((army.deaths>500) | (army.deaths<50)).show()"
      ],
      "metadata": {
        "id": "sPB432Tq08LC"
      },
      "execution_count": null,
      "outputs": []
    },
    {
      "cell_type": "code",
      "source": [
        "army.filter((army.deaths>500) | (army.deaths<50)).show()"
      ],
      "metadata": {
        "id": "y9lLixyF0_4T"
      },
      "execution_count": null,
      "outputs": []
    },
    {
      "cell_type": "markdown",
      "source": [
        "# 5.Sort "
      ],
      "metadata": {
        "id": "Xq8uQSNtoYYY"
      }
    },
    {
      "cell_type": "markdown",
      "source": [
        "**orderBy**"
      ],
      "metadata": {
        "id": "gqGrjqxVptmi"
      }
    },
    {
      "cell_type": "markdown",
      "source": [
        "## 5.1 Single Column"
      ],
      "metadata": {
        "id": "eh3PWkBqpk-H"
      }
    },
    {
      "cell_type": "code",
      "source": [
        "chipo_df.orderBy(chipo_df[\"item_name\"], ascending= 1).show(5)"
      ],
      "metadata": {
        "id": "Jt0Qq73QpOVp"
      },
      "execution_count": null,
      "outputs": []
    },
    {
      "cell_type": "markdown",
      "source": [
        "## 5.2 Mutiple Column"
      ],
      "metadata": {
        "id": "REmx1XJGxw6l"
      }
    },
    {
      "cell_type": "code",
      "source": [
        "#default all column ascending=1;Sort the teams by Red Cards, then to Yellow Cards \n",
        "euro12.orderBy([\"Red Cards\",\"Yellow Cards\"]).show()"
      ],
      "metadata": {
        "id": "SrDAgp2Lx2nh"
      },
      "execution_count": null,
      "outputs": []
    },
    {
      "cell_type": "markdown",
      "source": [
        "# 6.Group"
      ],
      "metadata": {
        "id": "SYKPyi80r3gX"
      }
    },
    {
      "cell_type": "code",
      "source": [
        "chipo_df.groupBy(\"item_name\").count().show()"
      ],
      "metadata": {
        "id": "3LUfUa2NsPLA"
      },
      "execution_count": null,
      "outputs": []
    },
    {
      "cell_type": "markdown",
      "source": [
        "# 7.Functions"
      ],
      "metadata": {
        "id": "v34o0GicwTjx"
      }
    },
    {
      "cell_type": "markdown",
      "source": [
        "## 7.1 Aggregate function"
      ],
      "metadata": {
        "id": "ix0vlTeqxDEC"
      }
    },
    {
      "cell_type": "markdown",
      "source": [
        "### 7.1.1 count"
      ],
      "metadata": {
        "id": "3k8Tcs5nwtKR"
      }
    },
    {
      "cell_type": "code",
      "source": [
        "euro12.select(count('Team')).show()"
      ],
      "metadata": {
        "id": "el6TqmPLxj7P"
      },
      "execution_count": null,
      "outputs": []
    },
    {
      "cell_type": "code",
      "source": [
        "gender_ocup = users.groupBy(\"occupation\",\"gender\").agg({\"gender\": \"count\"})\n",
        "gender_ocup = gender_ocup.withColumnRenamed(\"count(gender)\", \"gender_count\")\n",
        "gender_ocup.show(5)"
      ],
      "metadata": {
        "id": "U43NdR8KMJY1"
      },
      "execution_count": null,
      "outputs": []
    },
    {
      "cell_type": "code",
      "source": [
        "occup_count = users.groupBy(\"occupation\").count()\n",
        "occup_count = occup_count.withColumnRenamed(\"count\",\"occup_count\")\n",
        "occup_count.show(5)"
      ],
      "metadata": {
        "id": "i8iHT89mMST-"
      },
      "execution_count": null,
      "outputs": []
    },
    {
      "cell_type": "code",
      "source": [
        "chipo_df.select(count(\"order_id\")).show()"
      ],
      "metadata": {
        "id": "sge-MbkjWjPo"
      },
      "execution_count": null,
      "outputs": []
    },
    {
      "cell_type": "markdown",
      "source": [
        "### 7.1.2 countDistinct"
      ],
      "metadata": {
        "id": "tomuBOb_w49e"
      }
    },
    {
      "cell_type": "code",
      "source": [
        "euro12.select(countDistinct('Team')).show()"
      ],
      "metadata": {
        "id": "y9_6ybZ3xcL6"
      },
      "execution_count": null,
      "outputs": []
    },
    {
      "cell_type": "code",
      "source": [
        "chipo_df.select(countDistinct(\"order_id\")).show()"
      ],
      "metadata": {
        "id": "4RIxUQyFWaiP"
      },
      "execution_count": null,
      "outputs": []
    },
    {
      "cell_type": "markdown",
      "source": [
        "### 7.1.3 **mean**"
      ],
      "metadata": {
        "id": "A8Lnzlr_yoRh"
      }
    },
    {
      "cell_type": "code",
      "source": [
        "euro12.agg({\"Yellow Cards\" : \"mean\"}).show()"
      ],
      "metadata": {
        "id": "iXZcgFR6yv-6"
      },
      "execution_count": null,
      "outputs": []
    },
    {
      "cell_type": "markdown",
      "source": [
        "### 7.1.4 **avg**"
      ],
      "metadata": {
        "id": "VQVdGkmP6o1q"
      }
    },
    {
      "cell_type": "code",
      "source": [
        "beer_continent = drinks.groupBy(\"continent\").agg({\"beer_servings\":\"avg\"})\n",
        "beer_continent.orderBy(\"avg(beer_servings)\", ascending=0).show()"
      ],
      "metadata": {
        "id": "56cYh64h6oPl"
      },
      "execution_count": null,
      "outputs": []
    },
    {
      "cell_type": "code",
      "source": [
        "drinks.select([\"beer_servings\",\"continent\"]).groupBy(\"continent\").mean().orderBy(\"avg(beer_servings)\", ascending=0).show()"
      ],
      "metadata": {
        "id": "gfJBkSpn8EYs"
      },
      "execution_count": null,
      "outputs": []
    },
    {
      "cell_type": "code",
      "source": [
        "drinks.groupBy(\"continent\").mean().show()"
      ],
      "metadata": {
        "id": "oMInpGJ6765I"
      },
      "execution_count": null,
      "outputs": []
    },
    {
      "cell_type": "markdown",
      "source": [
        "### 7.1.5 min"
      ],
      "metadata": {
        "id": "EVrQcn79HMZm"
      }
    },
    {
      "cell_type": "code",
      "source": [
        "users.groupBy(\"occupation\").agg(min('age')).show(5)"
      ],
      "metadata": {
        "id": "hU5E27DbHWeN"
      },
      "execution_count": null,
      "outputs": []
    },
    {
      "cell_type": "markdown",
      "source": [
        "### 7.1.6 max"
      ],
      "metadata": {
        "id": "uutkZYPuHb-z"
      }
    },
    {
      "cell_type": "code",
      "source": [
        "users.groupBy(\"occupation\").agg(max('age')).show(5)"
      ],
      "metadata": {
        "id": "zJJ2QyE7IKEv"
      },
      "execution_count": null,
      "outputs": []
    },
    {
      "cell_type": "markdown",
      "source": [
        "### 7.1.6 sum"
      ],
      "metadata": {
        "id": "SPxzSwsSSAEX"
      }
    },
    {
      "cell_type": "code",
      "source": [
        "most_ordered_item = chipotle.groupBy(\"item_name\").sum()\n",
        "most_ordered_item.orderBy(\"sum(quantity)\",ascending=0).show(1)"
      ],
      "metadata": {
        "id": "C6szItQ4SEgJ"
      },
      "execution_count": null,
      "outputs": []
    },
    {
      "cell_type": "code",
      "source": [
        "most_choice_description_item = chipotle.groupBy(\"choice_description\").sum()\n",
        "most_choice_description_item.orderBy(\"sum(quantity)\",ascending=0).show(2)"
      ],
      "metadata": {
        "id": "Z5GQlzXTSTH6"
      },
      "execution_count": null,
      "outputs": []
    },
    {
      "cell_type": "code",
      "source": [
        "total_quantity = chipotle.agg({\"quantity\":\"sum\"})\n",
        "total_quantity.show()"
      ],
      "metadata": {
        "id": "pZRNhx5MSWIG"
      },
      "execution_count": null,
      "outputs": []
    },
    {
      "cell_type": "markdown",
      "source": [
        "## 7.2 General Function"
      ],
      "metadata": {
        "id": "fVIRJxQMR14u"
      }
    },
    {
      "cell_type": "markdown",
      "source": [
        "### 7.2.1 startswith()"
      ],
      "metadata": {
        "id": "Zj2z-a10zMnt"
      }
    },
    {
      "cell_type": "code",
      "source": [
        "euro12.where(euro12.Team.startswith(\"G\")).select(\"Team\").show()"
      ],
      "metadata": {
        "id": "tQ4dHpsIzULr"
      },
      "execution_count": null,
      "outputs": []
    },
    {
      "cell_type": "markdown",
      "source": [
        "### 7.2.2 isin()"
      ],
      "metadata": {
        "id": "Gk7_zEfjzdP6"
      }
    },
    {
      "cell_type": "code",
      "source": [
        "euro12.select(\"Team\",\"Shooting Accuracy\").filter(euro12.Team.isin(['England','Italy','Russia'])).show()"
      ],
      "metadata": {
        "id": "wdZ9NYGfzh48"
      },
      "execution_count": null,
      "outputs": []
    },
    {
      "cell_type": "code",
      "source": [
        "countries = ['England','Italy','Russia']\n",
        "euro12.select(\"Team\",\"Shooting Accuracy\").filter(euro12.Team.isin(countries)).show()"
      ],
      "metadata": {
        "id": "7K_84GGCzt5-"
      },
      "execution_count": null,
      "outputs": []
    },
    {
      "cell_type": "markdown",
      "source": [
        "### 7.2.3 cast()"
      ],
      "metadata": {
        "id": "j25H_pRY8dWu"
      }
    },
    {
      "cell_type": "code",
      "source": [
        "chipo_df = chipo_df.withColumn(\"item_price\", chipo_df[\"item_price\"].cast('float'))\n",
        "chipo_df.show(5)"
      ],
      "metadata": {
        "id": "P_rm-TkTSrp-"
      },
      "execution_count": null,
      "outputs": []
    },
    {
      "cell_type": "markdown",
      "source": [
        "## 7.3 Statistic Function"
      ],
      "metadata": {
        "id": "ohScU8nfsiXL"
      }
    },
    {
      "cell_type": "markdown",
      "source": [
        "### 7.3.1 describe()"
      ],
      "metadata": {
        "id": "K4ROl5gv86Qq"
      }
    },
    {
      "cell_type": "code",
      "source": [
        "drinks.describe().show()"
      ],
      "metadata": {
        "id": "O62Iq-3U9F02"
      },
      "execution_count": null,
      "outputs": []
    },
    {
      "cell_type": "code",
      "source": [
        "drinks.describe().select(\"summary\",\"spirit_servings\").show()"
      ],
      "metadata": {
        "id": "mSfZG1jz9MBG"
      },
      "execution_count": null,
      "outputs": []
    },
    {
      "cell_type": "code",
      "source": [
        "continent = drinks.select(\"continent\").distinct().collect()\n",
        "continents = sorted([x[0] for x in continent])\n",
        "\n",
        "for each in continents:\n",
        "    print(each)\n",
        "    drinks.filter(drinks.continent.isin(each)).describe().select(\"summary\",\"wine_servings\").show()"
      ],
      "metadata": {
        "id": "_4kg5YiM-KGa"
      },
      "execution_count": null,
      "outputs": []
    },
    {
      "cell_type": "markdown",
      "source": [
        "### 7.3.2 approxQuantile()"
      ],
      "metadata": {
        "id": "acO2wlav9t6G"
      }
    },
    {
      "cell_type": "code",
      "source": [
        "continent = drinks.select(\"continent\").distinct().collect()\n",
        "continents = sorted([x[0] for x in continent])\n",
        "for each in continents:\n",
        "    print(each)\n",
        "    print(['beer_servings', 'spirit_servings', 'wine_servings', 'total_litres_of_pure_alcohol'])\n",
        "    print(drinks.filter(drinks.continent.isin(each)).approxQuantile(['beer_servings', 'spirit_servings', 'wine_servings', 'total_litres_of_pure_alcohol'], [0.5],0.001))"
      ],
      "metadata": {
        "id": "P0n0XsCL90GH"
      },
      "execution_count": null,
      "outputs": []
    },
    {
      "cell_type": "markdown",
      "source": [
        "## 7.3 Date Function"
      ],
      "metadata": {
        "id": "BGkdHlVNa1Dk"
      }
    },
    {
      "cell_type": "code",
      "source": [
        "import pyspark.sql.functions as f\n",
        "crime = crime.withColumn(\"Year\", f.to_date(f.from_unixtime(f.col(\"Year\"))))\n",
        "crime.show()"
      ],
      "metadata": {
        "id": "uvZ3Lzoia6SQ"
      },
      "execution_count": null,
      "outputs": []
    },
    {
      "cell_type": "code",
      "source": [
        "data_df = data_df.withColumn(\"Yr_Mo_Dy\", to_date(\"Yr_Mo_Dy\"))\n",
        "data_df.show(5)"
      ],
      "metadata": {
        "id": "s4XpXS3mgwNh"
      },
      "execution_count": null,
      "outputs": []
    },
    {
      "cell_type": "code",
      "source": [
        "date_data_df = data_df.withColumn(\"Yr\", year(\"Yr_Mo_Dy\")) \\\n",
        ".withColumn(\"Mo\",month(\"Yr_Mo_Dy\")) \\\n",
        ".withColumn(\"Dy\", dayofmonth(\"Yr_Mo_Dy\"))\n",
        "\n",
        "date_data_df.show(5)"
      ],
      "metadata": {
        "id": "j5kGezdyg1dK"
      },
      "execution_count": null,
      "outputs": []
    },
    {
      "cell_type": "markdown",
      "source": [
        "# 9.Join Table"
      ],
      "metadata": {
        "id": "I097OP4LBTHx"
      }
    },
    {
      "cell_type": "markdown",
      "source": [
        "## 9.1 join()\n",
        "\n",
        "default inner join"
      ],
      "metadata": {
        "id": "wFcYLjBbB9iN"
      }
    },
    {
      "cell_type": "markdown",
      "source": [
        "### 9.1.1 CASE 1-inner join"
      ],
      "metadata": {
        "id": "0u4Z3QW0CBXS"
      }
    },
    {
      "cell_type": "code",
      "source": [
        "users_male = users_df.filter(users_df.gender == \"M\").groupBy(\"occupation\").count()\n",
        "users_male = users_male.withColumnRenamed(\"count\", \"male_count\")\n",
        "users_male.show(5)"
      ],
      "metadata": {
        "id": "GVorAJFCBusf"
      },
      "execution_count": null,
      "outputs": []
    },
    {
      "cell_type": "code",
      "source": [
        "users_all = users_df.groupBy(\"occupation\").count()\n",
        "users_all = users_all.withColumnRenamed(\"count\",\"occ_total\")\n",
        "users_all.show(5)"
      ],
      "metadata": {
        "id": "YkXmVWs6CMHg"
      },
      "execution_count": null,
      "outputs": []
    },
    {
      "cell_type": "code",
      "source": [
        "result = users_male.join(users_all, [\"occupation\"])\n",
        "result.show(5)"
      ],
      "metadata": {
        "id": "poAjUujkDoSa"
      },
      "execution_count": null,
      "outputs": []
    },
    {
      "cell_type": "markdown",
      "source": [
        "### 9.1.2 CASE 2-inner join"
      ],
      "metadata": {
        "id": "aa70mhX7I7YZ"
      }
    },
    {
      "cell_type": "code",
      "source": [
        "gender_ocup = users.groupBy(\"occupation\",\"gender\").agg({\"gender\": \"count\"})\n",
        "gender_ocup = gender_ocup.withColumnRenamed(\"count(gender)\", \"gender_count\")\n",
        "gender_ocup.show(5)"
      ],
      "metadata": {
        "id": "98uaO596JXsU"
      },
      "execution_count": null,
      "outputs": []
    },
    {
      "cell_type": "code",
      "source": [
        "occup_count = users.groupBy(\"occupation\").count()\n",
        "occup_count = occup_count.withColumnRenamed(\"count\",\"occup_count\")\n",
        "occup_count.show(5)"
      ],
      "metadata": {
        "id": "6XzT8Y-lJbCw"
      },
      "execution_count": null,
      "outputs": []
    },
    {
      "cell_type": "code",
      "source": [
        "occup_gender = gender_ocup.join(occup_count,['occupation'])\n",
        "occup_gender.show(5)"
      ],
      "metadata": {
        "id": "8cEBJjvIJf88"
      },
      "execution_count": null,
      "outputs": []
    },
    {
      "cell_type": "markdown",
      "source": [
        "### 9.1.3 CASE 3-inner join"
      ],
      "metadata": {
        "id": "grSXTXNOfwnH"
      }
    },
    {
      "cell_type": "code",
      "source": [
        "result = all_data.join(data3, ['subject_id'])\n",
        "result.show()"
      ],
      "metadata": {
        "id": "b88TWWNsfxDI"
      },
      "execution_count": null,
      "outputs": []
    },
    {
      "cell_type": "code",
      "source": [
        "data_12 = data1.join(data2,['subject_id'], 'inner')\n",
        "data_12.show()"
      ],
      "metadata": {
        "id": "rdh68gYjgAP4"
      },
      "execution_count": null,
      "outputs": []
    },
    {
      "cell_type": "markdown",
      "source": [
        "### 9.1.4 CASE 4-outer join"
      ],
      "metadata": {
        "id": "_6K2cliQgBHF"
      }
    },
    {
      "cell_type": "code",
      "source": [
        "data_all = data1.join(data2,['subject_id'], 'outer')\n",
        "data_all.show()"
      ],
      "metadata": {
        "id": "wWWsIjdVgBba"
      },
      "execution_count": null,
      "outputs": []
    },
    {
      "cell_type": "markdown",
      "source": [
        "## 9.2 unionByName()"
      ],
      "metadata": {
        "id": "Yu3Kir97fJQW"
      }
    },
    {
      "cell_type": "code",
      "source": [
        "all_data = data1.unionByName(data2)\n",
        "all_data.show()"
      ],
      "metadata": {
        "id": "Gb7-UGB8fUTw"
      },
      "execution_count": null,
      "outputs": []
    },
    {
      "cell_type": "markdown",
      "source": [
        "# 8.Operation in columns"
      ],
      "metadata": {
        "id": "MElV3XKjAPQG"
      }
    },
    {
      "cell_type": "markdown",
      "source": [
        "## 8.1 withColumnRenamed()"
      ],
      "metadata": {
        "id": "hD0XoqmFAWNd"
      }
    },
    {
      "cell_type": "code",
      "source": [
        "users_male = users_df.filter(users_df.gender == \"M\").groupBy(\"occupation\").count()\n",
        "users_male = users_male.withColumnRenamed(\"count\", \"male_count\")\n",
        "users_male.show(5)"
      ],
      "metadata": {
        "id": "WLCrQ_sKAfjE"
      },
      "execution_count": null,
      "outputs": []
    },
    {
      "cell_type": "markdown",
      "source": [
        "##8.2 withColumn()"
      ],
      "metadata": {
        "id": "ncUnvOBdETV2"
      }
    },
    {
      "cell_type": "markdown",
      "source": [
        "### 8.2.1 add new column"
      ],
      "metadata": {
        "id": "9S_Q281REzcD"
      }
    },
    {
      "cell_type": "markdown",
      "source": [
        "#### 8.2.1.1 CASE 1"
      ],
      "metadata": {
        "id": "M2uERVMjJnJU"
      }
    },
    {
      "cell_type": "code",
      "source": [
        "result_male_ratio = result.withColumn(\"male_ratio\",(result['male_count']/result['occ_total'])*100 )\n",
        "result_male_ratio.orderBy(\"male_ratio\", ascending=0).show(5)"
      ],
      "metadata": {
        "id": "6UvdDSypEu-n"
      },
      "execution_count": null,
      "outputs": []
    },
    {
      "cell_type": "markdown",
      "source": [
        "#### 8.2.1.2 CASE2"
      ],
      "metadata": {
        "id": "RblOKRBDKkh1"
      }
    },
    {
      "cell_type": "code",
      "source": [
        "occup_gender = occup_gender.withColumn(\"percent_presence\", (occup_gender['gender_count']/occup_gender['occup_count'])*100)\n",
        "occup_gender.orderBy([\"occupation\",\"gender\"], ascending=1).show(5)"
      ],
      "metadata": {
        "id": "KFlEb1UVIzPt"
      },
      "execution_count": null,
      "outputs": []
    },
    {
      "cell_type": "markdown",
      "source": [
        "### 8.2.1 operate old column"
      ],
      "metadata": {
        "id": "kb6YRQYJaO2q"
      }
    },
    {
      "cell_type": "code",
      "source": [
        "df = df.withColumn(\"Mjob\", udf_cap(col(\"Mjob\")))\n",
        "df = df.withColumn(\"Fjob\", udf_cap(col(\"Fjob\")))\n",
        "df.show(5)"
      ],
      "metadata": {
        "id": "Q7H33SJhaPT9"
      },
      "execution_count": null,
      "outputs": []
    },
    {
      "cell_type": "markdown",
      "source": [
        "## 8.3 alias()"
      ],
      "metadata": {
        "id": "FP2dngGPNmgh"
      }
    },
    {
      "cell_type": "code",
      "source": [
        "euro12.select(count('Team').alias('Team_cnt')).show()"
      ],
      "metadata": {
        "id": "MP6Sn_jIN6Ec"
      },
      "execution_count": null,
      "outputs": []
    },
    {
      "cell_type": "markdown",
      "source": [
        "##8.4 drop()"
      ],
      "metadata": {
        "id": "eXmyk7F2bdGv"
      }
    },
    {
      "cell_type": "markdown",
      "source": [
        "###8.4.1 CASE1"
      ],
      "metadata": {
        "id": "J-8eA8_QoZzc"
      }
    },
    {
      "cell_type": "code",
      "source": [
        "crime.drop(\"Total\").show(5)"
      ],
      "metadata": {
        "id": "E5w4ZJyabrOp"
      },
      "execution_count": null,
      "outputs": []
    },
    {
      "cell_type": "markdown",
      "source": [
        "###8.4.2 CASE2"
      ],
      "metadata": {
        "id": "sT5T3jjSod6e"
      }
    },
    {
      "cell_type": "code",
      "source": [
        "cols_to_drop = [\"_c0\",\"Id\"]\n",
        "baby_names= baby_names.drop(*cols_to_drop)\n",
        "baby_names.show(2)"
      ],
      "metadata": {
        "id": "kypf2g-rgab_"
      },
      "execution_count": null,
      "outputs": []
    },
    {
      "cell_type": "markdown",
      "source": [
        "###8.4.3 CASE3"
      ],
      "metadata": {
        "id": "8taQetU8oiEZ"
      }
    },
    {
      "cell_type": "code",
      "source": [
        "print(cars1.columns)\n",
        "\n",
        "cols_to_delete = []\n",
        "for c in cars1.columns:\n",
        "    if c.startswith('_'):\n",
        "        cols_to_delete.append(c)\n",
        "\n",
        "print(cols_to_delete)\n",
        "\n",
        "cars1 = cars1.drop(*cols_to_delete)\n",
        "cars1.show(2)"
      ],
      "metadata": {
        "id": "Jju0aFVVok1Q"
      },
      "execution_count": null,
      "outputs": []
    },
    {
      "cell_type": "markdown",
      "source": [
        "# 10.Know your data"
      ],
      "metadata": {
        "id": "4A6ejhClblUo"
      }
    },
    {
      "cell_type": "markdown",
      "source": [
        "## 10.1 printSchema()"
      ],
      "metadata": {
        "id": "xUciZ21eA4hh"
      }
    },
    {
      "cell_type": "code",
      "source": [
        "users_male.printSchema()"
      ],
      "metadata": {
        "id": "mfDII-YBAzIF"
      },
      "execution_count": null,
      "outputs": []
    },
    {
      "cell_type": "markdown",
      "source": [
        "## 10.2 show()"
      ],
      "metadata": {
        "id": "tewg6Rr3Q94Q"
      }
    },
    {
      "cell_type": "code",
      "source": [
        "chipotle.show(10)"
      ],
      "metadata": {
        "id": "jQQk2Dl4Q-OM"
      },
      "execution_count": null,
      "outputs": []
    },
    {
      "cell_type": "markdown",
      "source": [
        "## 10.3 take()"
      ],
      "metadata": {
        "id": "CWSrVbnRRDMb"
      }
    },
    {
      "cell_type": "code",
      "source": [
        "chipotle.take(2)"
      ],
      "metadata": {
        "id": "VYYtgEjTRKUB"
      },
      "execution_count": null,
      "outputs": []
    },
    {
      "cell_type": "markdown",
      "source": [
        "## 10.4 number of rows and columns"
      ],
      "metadata": {
        "id": "5u-kIiKIRSQ4"
      }
    },
    {
      "cell_type": "code",
      "source": [
        "# Solution 1\n",
        "print(chipotle.count(), \",\", len(chipotle.columns))"
      ],
      "metadata": {
        "id": "_s2m1GaBRRcT"
      },
      "execution_count": null,
      "outputs": []
    },
    {
      "cell_type": "code",
      "source": [
        "# Solution 2\n",
        "def sparkShape(dataFrame):\n",
        "    return (dataFrame.count(), len(dataFrame.columns))\n",
        "\n",
        "pyspark.sql.dataframe.DataFrame.shape = sparkShape\n",
        "\n",
        "print(chipotle.shape())"
      ],
      "metadata": {
        "id": "t390RZ7DRh-w"
      },
      "execution_count": null,
      "outputs": []
    },
    {
      "cell_type": "markdown",
      "source": [
        "## 10.5 tail()"
      ],
      "metadata": {
        "id": "XiT5EUfWaC60"
      }
    },
    {
      "cell_type": "code",
      "source": [
        "school_df.tail(2)"
      ],
      "metadata": {
        "id": "WgCnhzG3aExr"
      },
      "execution_count": null,
      "outputs": []
    },
    {
      "cell_type": "markdown",
      "source": [
        "# 11.Comprehensive"
      ],
      "metadata": {
        "id": "eLpk079a8o0b"
      }
    },
    {
      "cell_type": "code",
      "source": [
        "#below query can not use where to filter because once use where then the orderBy can not work \n",
        "chipo_df.groupBy(\"item_name\").count().filter(chipo_df.item_name.isin([\"Veggie Salad Bowl\",\"Izze\"])).orderBy(['count'],ascending= 0).show()\n"
      ],
      "metadata": {
        "id": "xbb8KhkMs3eo"
      },
      "execution_count": null,
      "outputs": []
    }
  ]
}