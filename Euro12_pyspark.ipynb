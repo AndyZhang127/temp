{
  "nbformat": 4,
  "nbformat_minor": 0,
  "metadata": {
    "colab": {
      "name": "Euro12_pyspark.ipynb",
      "provenance": [],
      "collapsed_sections": [],
      "authorship_tag": "ABX9TyPrc/JV6nQDNSFV9QbeSm9e",
      "include_colab_link": true
    },
    "kernelspec": {
      "name": "python3",
      "display_name": "Python 3"
    },
    "language_info": {
      "name": "python"
    }
  },
  "cells": [
    {
      "cell_type": "markdown",
      "metadata": {
        "id": "view-in-github",
        "colab_type": "text"
      },
      "source": [
        "<a href=\"https://colab.research.google.com/github/AndyZhang127/temp/blob/main/Euro12_pyspark.ipynb\" target=\"_parent\"><img src=\"https://colab.research.google.com/assets/colab-badge.svg\" alt=\"Open In Colab\"/></a>"
      ]
    },
    {
      "cell_type": "code",
      "source": [
        "pip install pyspark"
      ],
      "metadata": {
        "id": "zV1x0Fu4SagB"
      },
      "execution_count": null,
      "outputs": []
    },
    {
      "cell_type": "code",
      "source": [
        "import pandas as pd\n",
        "from  pyspark.sql import SparkSession\n",
        "spark=SparkSession.builder.appName(\"Euro\").getOrCreate()\n",
        "spark"
      ],
      "metadata": {
        "id": "EZBzZNP1weUO"
      },
      "execution_count": null,
      "outputs": []
    },
    {
      "cell_type": "code",
      "source": [
        "#Step 3. Assign it to a variable called euro12\n",
        "from pyspark import SparkFiles\n",
        "url=\"https://raw.githubusercontent.com/guipsamora/pandas_exercises/master/02_Filtering_%26_Sorting/Euro12/Euro_2012_stats_TEAM.csv\"\n",
        "spark.sparkContext.addFile(url)\n",
        "euro12=spark.read.csv(SparkFiles.get(\"Euro_2012_stats_TEAM.csv\"),header=True,sep=\",\",inferSchema=True)\n",
        "euro12.show()"
      ],
      "metadata": {
        "id": "piIAych5xeWR"
      },
      "execution_count": null,
      "outputs": []
    },
    {
      "cell_type": "code",
      "source": [
        "#Step 4. Select only the Goal column\n",
        "euro12.select(\"Goals\").show()"
      ],
      "metadata": {
        "id": "OiHgRRoWz2jo"
      },
      "execution_count": null,
      "outputs": []
    },
    {
      "cell_type": "code",
      "source": [
        "#Step 5. How many team participated in the Euro2012?\n",
        "euro12.select(\"Team\").distinct().count()"
      ],
      "metadata": {
        "id": "6DLCvxj-0XiH"
      },
      "execution_count": null,
      "outputs": []
    },
    {
      "cell_type": "code",
      "source": [
        "#Step 6. What is the number of columns in the dataset?\n",
        "len(euro12.columns)"
      ],
      "metadata": {
        "id": "uTC751aJ0zas"
      },
      "execution_count": null,
      "outputs": []
    },
    {
      "cell_type": "code",
      "source": [
        "#Step 7. View only the columns Team, Yellow Cards and Red Cards and assign them to a dataframe called discipline\n",
        "discipline=euro12.select(\"Team\",\"Yellow Cards\",\"Red Cards\")\n",
        "discipline.show()"
      ],
      "metadata": {
        "id": "HJ2hqqz11G0y"
      },
      "execution_count": null,
      "outputs": []
    },
    {
      "cell_type": "code",
      "source": [
        "#Step 8. Sort the teams by Red Cards, then to Yellow Cards\n",
        "discipline.orderBy([\"Red Cards\",\"Yellow Cards\"]).show()\n"
      ],
      "metadata": {
        "id": "Zk7494nH1u__"
      },
      "execution_count": null,
      "outputs": []
    },
    {
      "cell_type": "code",
      "source": [
        "#Step 9. Calculate the mean Yellow Cards given per Team\n",
        "euro12.groupBy('Team').agg({'Yellow Cards':'mean'}).withColumnRenamed('avg(Yellow Cards)','avg_Yellow_cards').show()"
      ],
      "metadata": {
        "id": "1MpIjvfgRkwn"
      },
      "execution_count": null,
      "outputs": []
    },
    {
      "cell_type": "code",
      "source": [
        "#Step 10.Filter teams that scored more than 6 goals\n",
        "euro12.groupBy('Team').agg({'Goals':'sum'}).filter('sum(Goals) > 6').show()"
      ],
      "metadata": {
        "id": "KbtWJ3EnTZiZ"
      },
      "execution_count": null,
      "outputs": []
    },
    {
      "cell_type": "code",
      "source": [
        "#Step 11. Select the teams that start with G\n",
        "euro12.filter(euro12.Team.startswith(\"G\")).select(\"Team\").show()"
      ],
      "metadata": {
        "id": "1TGz49cRU5k7"
      },
      "execution_count": null,
      "outputs": []
    },
    {
      "cell_type": "code",
      "source": [
        "#Step 12. Select the first 7 columns\n",
        "euro12.select(euro12.columns[:7]).show()"
      ],
      "metadata": {
        "id": "Tj61NyDVV_VQ"
      },
      "execution_count": null,
      "outputs": []
    },
    {
      "cell_type": "code",
      "source": [
        "#Step 13. Select all columns except the last 3.\n",
        "euro12.select(euro12.columns[0:-3]).show()"
      ],
      "metadata": {
        "id": "Ao7Si__SXBr7"
      },
      "execution_count": null,
      "outputs": []
    },
    {
      "cell_type": "code",
      "source": [
        "#Step 14. Present only the Shooting Accuracy from England, Italy and Russia\n",
        "Teams=['England','Italy','Russia']\n",
        "euro12.filter(euro12.Team.isin(Teams)).select('Shooting Accuracy').show()"
      ],
      "metadata": {
        "id": "nRGXzyKxXZoD"
      },
      "execution_count": null,
      "outputs": []
    }
  ]
}