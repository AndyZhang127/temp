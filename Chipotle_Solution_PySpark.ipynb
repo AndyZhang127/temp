{
  "nbformat": 4,
  "nbformat_minor": 0,
  "metadata": {
    "colab": {
      "name": "Chipotle_Solution_PySpark.ipynb",
      "provenance": [],
      "collapsed_sections": [],
      "authorship_tag": "ABX9TyPB1qCTrnE87whduTfnmLPC",
      "include_colab_link": true
    },
    "kernelspec": {
      "name": "python3",
      "display_name": "Python 3"
    },
    "language_info": {
      "name": "python"
    }
  },
  "cells": [
    {
      "cell_type": "markdown",
      "metadata": {
        "id": "view-in-github",
        "colab_type": "text"
      },
      "source": [
        "<a href=\"https://colab.research.google.com/github/AndyZhang127/temp/blob/main/Chipotle_Solution_PySpark.ipynb\" target=\"_parent\"><img src=\"https://colab.research.google.com/assets/colab-badge.svg\" alt=\"Open In Colab\"/></a>"
      ]
    },
    {
      "cell_type": "code",
      "source": [
        "pip install pyspark"
      ],
      "metadata": {
        "colab": {
          "base_uri": "https://localhost:8080/",
          "height": 0
        },
        "id": "u3cNWzWFgV2l",
        "outputId": "6ef690be-e67a-47a1-9e11-8ad55b65d491"
      },
      "execution_count": 2,
      "outputs": [
        {
          "output_type": "stream",
          "name": "stdout",
          "text": [
            "Looking in indexes: https://pypi.org/simple, https://us-python.pkg.dev/colab-wheels/public/simple/\n",
            "Collecting pyspark\n",
            "  Downloading pyspark-3.3.0.tar.gz (281.3 MB)\n",
            "\u001b[K     |████████████████████████████████| 281.3 MB 46 kB/s \n",
            "\u001b[?25hCollecting py4j==0.10.9.5\n",
            "  Downloading py4j-0.10.9.5-py2.py3-none-any.whl (199 kB)\n",
            "\u001b[K     |████████████████████████████████| 199 kB 61.1 MB/s \n",
            "\u001b[?25hBuilding wheels for collected packages: pyspark\n",
            "  Building wheel for pyspark (setup.py) ... \u001b[?25l\u001b[?25hdone\n",
            "  Created wheel for pyspark: filename=pyspark-3.3.0-py2.py3-none-any.whl size=281764026 sha256=a3134ad674d0a01b52616fd78f28d77958927d19943acdde6c4f0279e5e8c028\n",
            "  Stored in directory: /root/.cache/pip/wheels/7a/8e/1b/f73a52650d2e5f337708d9f6a1750d451a7349a867f928b885\n",
            "Successfully built pyspark\n",
            "Installing collected packages: py4j, pyspark\n",
            "Successfully installed py4j-0.10.9.5 pyspark-3.3.0\n"
          ]
        }
      ]
    },
    {
      "cell_type": "code",
      "source": [
        "#step1.Import the necessary libraries\n",
        "\n",
        "import pyspark\n",
        "from pyspark.sql import SparkSession\n",
        "from pyspark import SparkFiles\n",
        "\n",
        "spark=SparkSession.builder.appName('ex2').getOrCreate()\n",
        "spark"
      ],
      "metadata": {
        "id": "ha0LzjnjOBu9",
        "colab": {
          "base_uri": "https://localhost:8080/",
          "height": 221
        },
        "outputId": "f06d9f93-d6a7-4939-8ce8-c2dd96914158"
      },
      "execution_count": 3,
      "outputs": [
        {
          "output_type": "execute_result",
          "data": {
            "text/plain": [
              "<pyspark.sql.session.SparkSession at 0x7fded6096290>"
            ],
            "text/html": [
              "\n",
              "            <div>\n",
              "                <p><b>SparkSession - in-memory</b></p>\n",
              "                \n",
              "        <div>\n",
              "            <p><b>SparkContext</b></p>\n",
              "\n",
              "            <p><a href=\"http://55088c351e0e:4040\">Spark UI</a></p>\n",
              "\n",
              "            <dl>\n",
              "              <dt>Version</dt>\n",
              "                <dd><code>v3.3.0</code></dd>\n",
              "              <dt>Master</dt>\n",
              "                <dd><code>local[*]</code></dd>\n",
              "              <dt>AppName</dt>\n",
              "                <dd><code>ex2</code></dd>\n",
              "            </dl>\n",
              "        </div>\n",
              "        \n",
              "            </div>\n",
              "        "
            ]
          },
          "metadata": {},
          "execution_count": 3
        }
      ]
    },
    {
      "cell_type": "code",
      "source": [
        "#Step2.import the dataaset from this address\n",
        "url='https://raw.githubusercontent.com/justmarkham/DAT8/master/data/chipotle.tsv'\n",
        "spark.sparkContext.addFile(url)"
      ],
      "metadata": {
        "id": "7z7i7-mMPwFn"
      },
      "execution_count": 4,
      "outputs": []
    },
    {
      "cell_type": "code",
      "source": [
        "#Step3.Assign it to a variable called chipo\n",
        "chio=spark.read.csv(SparkFiles.get(\"chipotle.tsv\"),header=True,sep='\\t',inferSchema=True)"
      ],
      "metadata": {
        "id": "dzBYCNJtQjiv"
      },
      "execution_count": 5,
      "outputs": []
    },
    {
      "cell_type": "code",
      "source": [
        "#Step4.See the first 10 entires\n",
        "chio.show()"
      ],
      "metadata": {
        "id": "XBOxBC7gWppX",
        "colab": {
          "base_uri": "https://localhost:8080/",
          "height": 0
        },
        "outputId": "e1bcc708-9fd8-48a8-ce20-551f887fd5d8"
      },
      "execution_count": 6,
      "outputs": [
        {
          "output_type": "stream",
          "name": "stdout",
          "text": [
            "+--------+--------+--------------------+--------------------+----------+\n",
            "|order_id|quantity|           item_name|  choice_description|item_price|\n",
            "+--------+--------+--------------------+--------------------+----------+\n",
            "|       1|       1|Chips and Fresh T...|                NULL|    $2.39 |\n",
            "|       1|       1|                Izze|        [Clementine]|    $3.39 |\n",
            "|       1|       1|    Nantucket Nectar|             [Apple]|    $3.39 |\n",
            "|       1|       1|Chips and Tomatil...|                NULL|    $2.39 |\n",
            "|       2|       2|        Chicken Bowl|[Tomatillo-Red Ch...|   $16.98 |\n",
            "|       3|       1|        Chicken Bowl|[Fresh Tomato Sal...|   $10.98 |\n",
            "|       3|       1|       Side of Chips|                NULL|    $1.69 |\n",
            "|       4|       1|       Steak Burrito|[Tomatillo Red Ch...|   $11.75 |\n",
            "|       4|       1|    Steak Soft Tacos|[Tomatillo Green ...|    $9.25 |\n",
            "|       5|       1|       Steak Burrito|[Fresh Tomato Sal...|    $9.25 |\n",
            "|       5|       1| Chips and Guacamole|                NULL|    $4.45 |\n",
            "|       6|       1|Chicken Crispy Tacos|[Roasted Chili Co...|    $8.75 |\n",
            "|       6|       1|  Chicken Soft Tacos|[Roasted Chili Co...|    $8.75 |\n",
            "|       7|       1|        Chicken Bowl|[Fresh Tomato Sal...|   $11.25 |\n",
            "|       7|       1| Chips and Guacamole|                NULL|    $4.45 |\n",
            "|       8|       1|Chips and Tomatil...|                NULL|    $2.39 |\n",
            "|       8|       1|     Chicken Burrito|[Tomatillo-Green ...|    $8.49 |\n",
            "|       9|       1|     Chicken Burrito|[Fresh Tomato Sal...|    $8.49 |\n",
            "|       9|       2|         Canned Soda|            [Sprite]|    $2.18 |\n",
            "|      10|       1|        Chicken Bowl|[Tomatillo Red Ch...|    $8.75 |\n",
            "+--------+--------+--------------------+--------------------+----------+\n",
            "only showing top 20 rows\n",
            "\n"
          ]
        }
      ]
    },
    {
      "cell_type": "code",
      "source": [
        "chio.head(2)"
      ],
      "metadata": {
        "id": "69ULjl9jYYLM",
        "colab": {
          "base_uri": "https://localhost:8080/",
          "height": 0
        },
        "outputId": "d5e404ce-0b51-4c40-99a1-5845b4561cc3"
      },
      "execution_count": 7,
      "outputs": [
        {
          "output_type": "execute_result",
          "data": {
            "text/plain": [
              "[Row(order_id=1, quantity=1, item_name='Chips and Fresh Tomato Salsa', choice_description='NULL', item_price='$2.39 '),\n",
              " Row(order_id=1, quantity=1, item_name='Izze', choice_description='[Clementine]', item_price='$3.39 ')]"
            ]
          },
          "metadata": {},
          "execution_count": 7
        }
      ]
    },
    {
      "cell_type": "code",
      "source": [
        "chio.take(2)"
      ],
      "metadata": {
        "id": "-9t3xS-BYaa8",
        "colab": {
          "base_uri": "https://localhost:8080/",
          "height": 0
        },
        "outputId": "b71d7d8e-d65b-49ff-fbd9-28e87f2091ce"
      },
      "execution_count": 8,
      "outputs": [
        {
          "output_type": "execute_result",
          "data": {
            "text/plain": [
              "[Row(order_id=1, quantity=1, item_name='Chips and Fresh Tomato Salsa', choice_description='NULL', item_price='$2.39 '),\n",
              " Row(order_id=1, quantity=1, item_name='Izze', choice_description='[Clementine]', item_price='$3.39 ')]"
            ]
          },
          "metadata": {},
          "execution_count": 8
        }
      ]
    },
    {
      "cell_type": "code",
      "source": [
        "#Step 5. What is the number of observations in the dataset?\n",
        "#Solution 1\n",
        "print(chio.count(),',',len(chio.columns))"
      ],
      "metadata": {
        "colab": {
          "base_uri": "https://localhost:8080/",
          "height": 0
        },
        "id": "wr5GRKAfXC8V",
        "outputId": "12be0d14-bdef-4e5c-f888-c6f9754a8e0b"
      },
      "execution_count": 9,
      "outputs": [
        {
          "output_type": "stream",
          "name": "stdout",
          "text": [
            "4622 , 5\n"
          ]
        }
      ]
    },
    {
      "cell_type": "code",
      "source": [
        "#Solution 2\n",
        "def sparkShape(dataFrame):\n",
        "  return(dataFrame.count(),len(dataFrame.columns))\n",
        "\n",
        "pyspark.sql.dataframe.DataFrame.shape=sparkShape\n",
        "\n",
        "print(chio.shape())"
      ],
      "metadata": {
        "colab": {
          "base_uri": "https://localhost:8080/",
          "height": 0
        },
        "id": "WjgZOZ-xZKwt",
        "outputId": "1690c9a6-9ea6-4beb-824d-34066df7cef2"
      },
      "execution_count": 10,
      "outputs": [
        {
          "output_type": "stream",
          "name": "stdout",
          "text": [
            "(4622, 5)\n"
          ]
        }
      ]
    },
    {
      "cell_type": "code",
      "source": [
        "#Step 6. What is the number of columns in the dataset?\n",
        "len(chio.columns)"
      ],
      "metadata": {
        "colab": {
          "base_uri": "https://localhost:8080/",
          "height": 0
        },
        "id": "BYOie8ZBXP2A",
        "outputId": "16f5244b-fa77-45e6-e24b-9578eb17e168"
      },
      "execution_count": 11,
      "outputs": [
        {
          "output_type": "execute_result",
          "data": {
            "text/plain": [
              "5"
            ]
          },
          "metadata": {},
          "execution_count": 11
        }
      ]
    },
    {
      "cell_type": "code",
      "source": [
        "#Step 7. Print the name of all the columns\n",
        "chio.columns"
      ],
      "metadata": {
        "colab": {
          "base_uri": "https://localhost:8080/",
          "height": 0
        },
        "id": "LtOgh09vXner",
        "outputId": "bce37aa1-504f-4122-fbd9-67e9971cbfca"
      },
      "execution_count": 12,
      "outputs": [
        {
          "output_type": "execute_result",
          "data": {
            "text/plain": [
              "['order_id', 'quantity', 'item_name', 'choice_description', 'item_price']"
            ]
          },
          "metadata": {},
          "execution_count": 12
        }
      ]
    },
    {
      "cell_type": "code",
      "source": [
        "#Step 8. How is the dataset indexed?\n"
      ],
      "metadata": {
        "id": "UNXsWQ3pXriW"
      },
      "execution_count": null,
      "outputs": []
    },
    {
      "cell_type": "code",
      "source": [
        "#Step 9. Which was the most-ordered item?\n",
        "most_ordered_item=chio.groupBy(\"item_name\").sum()\n",
        "most_ordered_item.orderBy(\"sum(quantity)\",ascending=0).show(1)"
      ],
      "metadata": {
        "colab": {
          "base_uri": "https://localhost:8080/",
          "height": 0
        },
        "id": "S63hJhUFX2sg",
        "outputId": "73918117-ee21-42cc-e160-3ff081b227e4"
      },
      "execution_count": 13,
      "outputs": [
        {
          "output_type": "stream",
          "name": "stdout",
          "text": [
            "+------------+-------------+-------------+\n",
            "|   item_name|sum(order_id)|sum(quantity)|\n",
            "+------------+-------------+-------------+\n",
            "|Chicken Bowl|       713926|          761|\n",
            "+------------+-------------+-------------+\n",
            "only showing top 1 row\n",
            "\n"
          ]
        }
      ]
    },
    {
      "cell_type": "code",
      "source": [
        "#Step 10.For the most-ordered item, how many items were ordered?\n",
        "most_ordered_item=chio.groupBy(\"item_name\").sum()\n",
        "most_ordered_item.orderBy(\"sum(quantity)\",ascending=0).show(1)"
      ],
      "metadata": {
        "colab": {
          "base_uri": "https://localhost:8080/",
          "height": 0
        },
        "id": "G27m7fjLbbm_",
        "outputId": "e129db9a-a4cb-4293-8a3b-09c5ab596e8d"
      },
      "execution_count": 14,
      "outputs": [
        {
          "output_type": "stream",
          "name": "stdout",
          "text": [
            "+------------+-------------+-------------+\n",
            "|   item_name|sum(order_id)|sum(quantity)|\n",
            "+------------+-------------+-------------+\n",
            "|Chicken Bowl|       713926|          761|\n",
            "+------------+-------------+-------------+\n",
            "only showing top 1 row\n",
            "\n"
          ]
        }
      ]
    },
    {
      "cell_type": "code",
      "source": [
        "#Step 11. What was the most ordered item in the choice_description column?\n",
        "most_ordered_item_de=chio.groupBy(\"choice_description\").sum()\n",
        "most_ordered_item_de.orderBy(\"sum(quantity)\",ascending=0).show(2)"
      ],
      "metadata": {
        "colab": {
          "base_uri": "https://localhost:8080/",
          "height": 0
        },
        "id": "-iL0-s75ceQX",
        "outputId": "a3e066bc-fa1b-42de-8847-1464da7a41fd"
      },
      "execution_count": 15,
      "outputs": [
        {
          "output_type": "stream",
          "name": "stdout",
          "text": [
            "+------------------+-------------+-------------+\n",
            "|choice_description|sum(order_id)|sum(quantity)|\n",
            "+------------------+-------------+-------------+\n",
            "|              NULL|      1178731|         1382|\n",
            "|       [Diet Coke]|       123455|          159|\n",
            "+------------------+-------------+-------------+\n",
            "only showing top 2 rows\n",
            "\n"
          ]
        }
      ]
    },
    {
      "cell_type": "code",
      "source": [
        "#Step 12. How many items were orderd in total?\n",
        "total_quantity = chio.agg({\"quantity\":\"sum\"})\n",
        "total_quantity.show()"
      ],
      "metadata": {
        "colab": {
          "base_uri": "https://localhost:8080/",
          "height": 0
        },
        "id": "AyCtHHkOdLMV",
        "outputId": "9a8dd52c-f10e-4d5f-b6ad-122bcfb9e71a"
      },
      "execution_count": 16,
      "outputs": [
        {
          "output_type": "stream",
          "name": "stdout",
          "text": [
            "+-------------+\n",
            "|sum(quantity)|\n",
            "+-------------+\n",
            "|         4972|\n",
            "+-------------+\n",
            "\n"
          ]
        }
      ]
    },
    {
      "cell_type": "code",
      "source": [
        "#Step 13.Turn the item price into a float\n",
        "#Step 13-a. Check the item price type\n",
        "from pyspark.sql.functions import regexp_replace\n",
        "\n",
        "chio.show(2)\n",
        "chio.printSchema()"
      ],
      "metadata": {
        "colab": {
          "base_uri": "https://localhost:8080/",
          "height": 0
        },
        "id": "5NMnhbCWd5HL",
        "outputId": "91c74145-b997-4001-8271-91cb34be368a"
      },
      "execution_count": 17,
      "outputs": [
        {
          "output_type": "stream",
          "name": "stdout",
          "text": [
            "+--------+--------+--------------------+------------------+----------+\n",
            "|order_id|quantity|           item_name|choice_description|item_price|\n",
            "+--------+--------+--------------------+------------------+----------+\n",
            "|       1|       1|Chips and Fresh T...|              NULL|    $2.39 |\n",
            "|       1|       1|                Izze|      [Clementine]|    $3.39 |\n",
            "+--------+--------+--------------------+------------------+----------+\n",
            "only showing top 2 rows\n",
            "\n",
            "root\n",
            " |-- order_id: integer (nullable = true)\n",
            " |-- quantity: integer (nullable = true)\n",
            " |-- item_name: string (nullable = true)\n",
            " |-- choice_description: string (nullable = true)\n",
            " |-- item_price: string (nullable = true)\n",
            "\n"
          ]
        }
      ]
    },
    {
      "cell_type": "code",
      "source": [
        "#Step 13.b. Create a lambda function and change the type of item price\n",
        "\n",
        "#solution1\n",
        "from pyspark.sql.functions import regexp_replace\n",
        "\n",
        "price=chio.withColumn(\"price\",regexp_replace(\"item_price\",\"\\$\",\" \"))\n",
        "price.show(2)\n",
        "price.printSchema()"
      ],
      "metadata": {
        "colab": {
          "base_uri": "https://localhost:8080/",
          "height": 0
        },
        "id": "13-7Qnw0idwc",
        "outputId": "14f44ce5-930d-4458-cf1f-a0403c78a0cc"
      },
      "execution_count": 18,
      "outputs": [
        {
          "output_type": "stream",
          "name": "stdout",
          "text": [
            "+--------+--------+--------------------+------------------+----------+------+\n",
            "|order_id|quantity|           item_name|choice_description|item_price| price|\n",
            "+--------+--------+--------------------+------------------+----------+------+\n",
            "|       1|       1|Chips and Fresh T...|              NULL|    $2.39 | 2.39 |\n",
            "|       1|       1|                Izze|      [Clementine]|    $3.39 | 3.39 |\n",
            "+--------+--------+--------------------+------------------+----------+------+\n",
            "only showing top 2 rows\n",
            "\n",
            "root\n",
            " |-- order_id: integer (nullable = true)\n",
            " |-- quantity: integer (nullable = true)\n",
            " |-- item_name: string (nullable = true)\n",
            " |-- choice_description: string (nullable = true)\n",
            " |-- item_price: string (nullable = true)\n",
            " |-- price: string (nullable = true)\n",
            "\n"
          ]
        }
      ]
    },
    {
      "cell_type": "code",
      "source": [
        "#solution2\n",
        "\n",
        "from pyspark.sql.functions import udf,col\n",
        "from pyspark.sql.types import StringType,FloatType\n",
        "\n",
        "def dolariser(x):\n",
        "  return str(x[1:-1])\n",
        "\n",
        "\n",
        "udf_dolariser=udf(lambda x:dolariser(x),StringType())\n",
        "price_df=chio.withColumn(\"item_price\",udf_dolariser(col(\"item_price\")))\n",
        "price_df.printSchema()\n",
        "price_df=price_df.withColumn(\"item_price\",price_df[\"item_price\"].cast(\"float\"))\n",
        "price_df.show()\n",
        "price_df.printSchema()"
      ],
      "metadata": {
        "id": "sVMmja7cZs84",
        "colab": {
          "base_uri": "https://localhost:8080/",
          "height": 0
        },
        "outputId": "435874e0-d02a-482e-9339-569ff64ef5f2"
      },
      "execution_count": 19,
      "outputs": [
        {
          "output_type": "stream",
          "name": "stdout",
          "text": [
            "root\n",
            " |-- order_id: integer (nullable = true)\n",
            " |-- quantity: integer (nullable = true)\n",
            " |-- item_name: string (nullable = true)\n",
            " |-- choice_description: string (nullable = true)\n",
            " |-- item_price: string (nullable = true)\n",
            "\n",
            "+--------+--------+--------------------+--------------------+----------+\n",
            "|order_id|quantity|           item_name|  choice_description|item_price|\n",
            "+--------+--------+--------------------+--------------------+----------+\n",
            "|       1|       1|Chips and Fresh T...|                NULL|      2.39|\n",
            "|       1|       1|                Izze|        [Clementine]|      3.39|\n",
            "|       1|       1|    Nantucket Nectar|             [Apple]|      3.39|\n",
            "|       1|       1|Chips and Tomatil...|                NULL|      2.39|\n",
            "|       2|       2|        Chicken Bowl|[Tomatillo-Red Ch...|     16.98|\n",
            "|       3|       1|        Chicken Bowl|[Fresh Tomato Sal...|     10.98|\n",
            "|       3|       1|       Side of Chips|                NULL|      1.69|\n",
            "|       4|       1|       Steak Burrito|[Tomatillo Red Ch...|     11.75|\n",
            "|       4|       1|    Steak Soft Tacos|[Tomatillo Green ...|      9.25|\n",
            "|       5|       1|       Steak Burrito|[Fresh Tomato Sal...|      9.25|\n",
            "|       5|       1| Chips and Guacamole|                NULL|      4.45|\n",
            "|       6|       1|Chicken Crispy Tacos|[Roasted Chili Co...|      8.75|\n",
            "|       6|       1|  Chicken Soft Tacos|[Roasted Chili Co...|      8.75|\n",
            "|       7|       1|        Chicken Bowl|[Fresh Tomato Sal...|     11.25|\n",
            "|       7|       1| Chips and Guacamole|                NULL|      4.45|\n",
            "|       8|       1|Chips and Tomatil...|                NULL|      2.39|\n",
            "|       8|       1|     Chicken Burrito|[Tomatillo-Green ...|      8.49|\n",
            "|       9|       1|     Chicken Burrito|[Fresh Tomato Sal...|      8.49|\n",
            "|       9|       2|         Canned Soda|            [Sprite]|      2.18|\n",
            "|      10|       1|        Chicken Bowl|[Tomatillo Red Ch...|      8.75|\n",
            "+--------+--------+--------------------+--------------------+----------+\n",
            "only showing top 20 rows\n",
            "\n",
            "root\n",
            " |-- order_id: integer (nullable = true)\n",
            " |-- quantity: integer (nullable = true)\n",
            " |-- item_name: string (nullable = true)\n",
            " |-- choice_description: string (nullable = true)\n",
            " |-- item_price: float (nullable = true)\n",
            "\n"
          ]
        }
      ]
    },
    {
      "cell_type": "code",
      "source": [
        "#Step 14. How much was the revenue for the period in the dataset?\n",
        "\n",
        "revenue_result=price_df.withColumn(\"revenue\",price_df[\"item_price\"] * price_df[\"quantity\"])\n",
        "total_revenue=revenue_result.agg({\"revenue\":\"sum\"})\n",
        "total_revenue.show()"
      ],
      "metadata": {
        "id": "MiYYbO7NbR1K",
        "colab": {
          "base_uri": "https://localhost:8080/",
          "height": 0
        },
        "outputId": "5398d1ff-b7e6-42c9-950d-3b5c63a0fb4d"
      },
      "execution_count": 20,
      "outputs": [
        {
          "output_type": "stream",
          "name": "stdout",
          "text": [
            "+----------------+\n",
            "|    sum(revenue)|\n",
            "+----------------+\n",
            "|39237.0197327137|\n",
            "+----------------+\n",
            "\n"
          ]
        }
      ]
    },
    {
      "cell_type": "code",
      "source": [
        "print(\"Total Revenue: $\",total_revenue.head()[0])"
      ],
      "metadata": {
        "id": "XFq7-CPufpVl",
        "colab": {
          "base_uri": "https://localhost:8080/",
          "height": 0
        },
        "outputId": "ff3f7efd-504f-49e3-ca59-769b5f2c64fe"
      },
      "execution_count": 21,
      "outputs": [
        {
          "output_type": "stream",
          "name": "stdout",
          "text": [
            "Total Revenue: $ 39237.0197327137\n"
          ]
        }
      ]
    },
    {
      "cell_type": "code",
      "source": [
        "#Step 15. How many orders were made in the period?\n",
        "from pyspark.sql.functions import countDistinct\n",
        "\n",
        "total_orders = price_df.select(countDistinct(\"order_id\"))\n",
        "total_orders.show()\n",
        "total_orders.head()\n",
        "total_orders.head(1)[0]\n",
        "\n",
        "print(\"Total Orders: \",total_orders.head(1)[0][0])"
      ],
      "metadata": {
        "id": "w-iLhZ9af1Jn",
        "colab": {
          "base_uri": "https://localhost:8080/",
          "height": 0
        },
        "outputId": "70545d56-4b5f-461a-f4b8-c34e0bea711b"
      },
      "execution_count": 22,
      "outputs": [
        {
          "output_type": "stream",
          "name": "stdout",
          "text": [
            "+------------------------+\n",
            "|count(DISTINCT order_id)|\n",
            "+------------------------+\n",
            "|                    1834|\n",
            "+------------------------+\n",
            "\n",
            "Total Orders:  1834\n"
          ]
        }
      ]
    },
    {
      "cell_type": "code",
      "source": [
        "#Step 16. What is the average revenue amount per order?\n",
        "avg_revenue = revenue_result.groupBy(\"order_id\").sum()"
      ],
      "metadata": {
        "id": "039hWg6TrmpJ"
      },
      "execution_count": 23,
      "outputs": []
    },
    {
      "cell_type": "code",
      "source": [
        "avg_revenue.show(5)"
      ],
      "metadata": {
        "id": "85KUjr-vsL3L",
        "colab": {
          "base_uri": "https://localhost:8080/",
          "height": 0
        },
        "outputId": "5f02ada6-245e-4222-e7ac-847e32912ba7"
      },
      "execution_count": 24,
      "outputs": [
        {
          "output_type": "stream",
          "name": "stdout",
          "text": [
            "+--------+-------------+-------------+------------------+------------------+\n",
            "|order_id|sum(order_id)|sum(quantity)|   sum(item_price)|      sum(revenue)|\n",
            "+--------+-------------+-------------+------------------+------------------+\n",
            "|     148|          592|            4|  30.9399995803833|  30.9399995803833|\n",
            "|     463|          926|            2|10.679999828338623|10.679999828338623|\n",
            "|     471|         2355|            5|24.149999618530273|24.149999618530273|\n",
            "|     496|         2480|            5|17.549999952316284|17.549999952316284|\n",
            "|     833|         1666|            2|             12.75|             12.75|\n",
            "+--------+-------------+-------------+------------------+------------------+\n",
            "only showing top 5 rows\n",
            "\n"
          ]
        }
      ]
    },
    {
      "cell_type": "code",
      "source": [
        "avg_revenue"
      ],
      "metadata": {
        "colab": {
          "base_uri": "https://localhost:8080/",
          "height": 0
        },
        "id": "WwETl7lktXRx",
        "outputId": "836df862-5f43-4ecd-c722-515ac4d58519"
      },
      "execution_count": 25,
      "outputs": [
        {
          "output_type": "execute_result",
          "data": {
            "text/plain": [
              "DataFrame[order_id: int, sum(order_id): bigint, sum(quantity): bigint, sum(item_price): double, sum(revenue): double]"
            ]
          },
          "metadata": {},
          "execution_count": 25
        }
      ]
    },
    {
      "cell_type": "code",
      "source": [
        "avg_revenue.describe().show()"
      ],
      "metadata": {
        "id": "_5HZRNVxsYpK",
        "colab": {
          "base_uri": "https://localhost:8080/",
          "height": 0
        },
        "outputId": "284b1879-d2be-45fc-a4c4-88ae13eba9a6"
      },
      "execution_count": 26,
      "outputs": [
        {
          "output_type": "stream",
          "name": "stdout",
          "text": [
            "+-------+-----------------+------------------+------------------+------------------+------------------+\n",
            "|summary|         order_id|     sum(order_id)|     sum(quantity)|   sum(item_price)|      sum(revenue)|\n",
            "+-------+-----------------+------------------+------------------+------------------+------------------+\n",
            "|  count|             1834|              1834|              1834|              1834|              1834|\n",
            "|   mean|            917.5|2336.8440567066523| 2.711014176663032| 18.81142843757617|21.394231042919138|\n",
            "| stddev|529.5745147443052|1861.6693582520409|1.6776242381295468|11.652511679485094|30.216891178957045|\n",
            "|    min|                1|                 2|                 1|10.079999804496765|10.079999804496765|\n",
            "|    max|             1834|             21298|                35|            205.25|1074.2399997711182|\n",
            "+-------+-----------------+------------------+------------------+------------------+------------------+\n",
            "\n"
          ]
        }
      ]
    },
    {
      "cell_type": "code",
      "source": [
        "avg_revenue.describe().select('sum(revenue)').head(2)[1][0]"
      ],
      "metadata": {
        "id": "j6ilZwu7tJWN",
        "colab": {
          "base_uri": "https://localhost:8080/",
          "height": 35
        },
        "outputId": "4793a3a4-ba2d-49cb-bb96-b929ffe0f84c"
      },
      "execution_count": 27,
      "outputs": [
        {
          "output_type": "execute_result",
          "data": {
            "text/plain": [
              "'21.394231042919138'"
            ],
            "application/vnd.google.colaboratory.intrinsic+json": {
              "type": "string"
            }
          },
          "metadata": {},
          "execution_count": 27
        }
      ]
    },
    {
      "cell_type": "code",
      "source": [
        "#Step 17.How many different items are sold?\n",
        "total_items = price_df.select(countDistinct(\"item_name\"))\n",
        "total_items.show()"
      ],
      "metadata": {
        "id": "8zJEL5_GuCeh",
        "colab": {
          "base_uri": "https://localhost:8080/",
          "height": 0
        },
        "outputId": "f9d51e9b-02d5-4f6a-a9da-29203e01a12c"
      },
      "execution_count": 28,
      "outputs": [
        {
          "output_type": "stream",
          "name": "stdout",
          "text": [
            "+-------------------------+\n",
            "|count(DISTINCT item_name)|\n",
            "+-------------------------+\n",
            "|                       50|\n",
            "+-------------------------+\n",
            "\n"
          ]
        }
      ]
    }
  ]
}