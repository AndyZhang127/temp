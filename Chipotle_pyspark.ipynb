{
  "nbformat": 4,
  "nbformat_minor": 0,
  "metadata": {
    "colab": {
      "name": "Chipotle_pyspark.ipynb",
      "provenance": [],
      "authorship_tag": "ABX9TyPr1GSWX0ZQDTgZx3WgijPE",
      "include_colab_link": true
    },
    "kernelspec": {
      "name": "python3",
      "display_name": "Python 3"
    },
    "language_info": {
      "name": "python"
    }
  },
  "cells": [
    {
      "cell_type": "markdown",
      "metadata": {
        "id": "view-in-github",
        "colab_type": "text"
      },
      "source": [
        "<a href=\"https://colab.research.google.com/github/AndyZhang127/temp/blob/main/Chipotle_pyspark.ipynb\" target=\"_parent\"><img src=\"https://colab.research.google.com/assets/colab-badge.svg\" alt=\"Open In Colab\"/></a>"
      ]
    },
    {
      "cell_type": "markdown",
      "source": [
        "# Excercise3.Chipotle_pyspark\n",
        "\n",
        "\n",
        "\n"
      ],
      "metadata": {
        "id": "dMpN5B1kee_u"
      }
    },
    {
      "cell_type": "markdown",
      "source": [
        "\n",
        "\n",
        "1.   read url: SparkFiles.get();addFile()\n",
        "2.   def a function-->lambda--->udf()--->withColumn()\n",
        "3.   types\n",
        "4.   functions\n",
        "5.   printSchema()\n",
        "6.   select()\n",
        "7.   orderBy()\n",
        "8.   groupBy()\n",
        "9.   filter()\n",
        "10.  where()\n",
        "11.  distinct()\n",
        "12.  count()\n",
        "\n"
      ],
      "metadata": {
        "id": "KjSyM0pv1kjn"
      }
    },
    {
      "cell_type": "code",
      "source": [
        "# Step 1. Import the necessary libraries\n",
        "\n",
        "import pandas as pd\n",
        "from pyspark.sql  import SparkSession\n",
        "from pyspark  import SparkFiles\n",
        "\n",
        "spark=SparkSession.builder.appName('Chipotle').getOrCreate()\n",
        "spark"
      ],
      "metadata": {
        "id": "t-ggon5Se75B"
      },
      "execution_count": null,
      "outputs": []
    },
    {
      "cell_type": "code",
      "source": [
        "# Step 2. Import the dataset from this address.\n",
        "url=\"https://raw.githubusercontent.com/justmarkham/DAT8/master/data/chipotle.tsv\"\n",
        "spark.sparkContext.addFile(url)"
      ],
      "metadata": {
        "id": "0nI3HNTygnAV"
      },
      "execution_count": null,
      "outputs": []
    },
    {
      "cell_type": "code",
      "source": [
        "# Step 3. Assign it to a variable called chipo.\n",
        "chipo=spark.read.csv(SparkFiles.get('chipotle.tsv'),sep='\\t',header=True,inferSchema=True)\n",
        "chipo.show()"
      ],
      "metadata": {
        "id": "hrPUFbH4hFJ3"
      },
      "execution_count": null,
      "outputs": []
    },
    {
      "cell_type": "code",
      "source": [
        "# Step 4. How many products cost more than $10.00?\n",
        "from pyspark.sql.functions import udf,col\n",
        "from pyspark.sql.types import FloatType,StringType\n",
        "\n",
        "# processing item_price, cast string into float : def a function-->lambda--->udf()--->withColumn()\n",
        "def dolariser(x):\n",
        "  return str(x[1:-1])\n",
        "\n",
        "udf_dolariser=udf(lambda x:dolariser(x),StringType())\n",
        "\n",
        "chipo_df = chipo.withColumn(\"item_price\",udf_dolariser(col(\"item_price\")))\n",
        "\n",
        "chipo_df.printSchema()\n",
        "\n",
        "chipo_df = chipo_df.withColumn(\"item_price\",chipo_df[\"item_price\"].cast('float'))\n",
        "\n",
        "chipo_df.printSchema()\n",
        "\n",
        "chipo_df.filter(col('item_price')>10).select('item_name').distinct().count()"
      ],
      "metadata": {
        "id": "P9m2OzsjimeX"
      },
      "execution_count": null,
      "outputs": []
    },
    {
      "cell_type": "code",
      "source": [
        "# Step 5. What is the price of each item?\n",
        "chipo.select('item_name','item_price').show()"
      ],
      "metadata": {
        "id": "oYmawI4Nj_xn"
      },
      "execution_count": null,
      "outputs": []
    },
    {
      "cell_type": "code",
      "source": [
        "# Step 6. Sort by the name of the item\n",
        "chipo.select('item_name','item_price').orderBy('item_name').show()"
      ],
      "metadata": {
        "id": "F4Z6Nz6FkRbe"
      },
      "execution_count": null,
      "outputs": []
    },
    {
      "cell_type": "code",
      "source": [
        "# Step 7. What was the quantity of the most expensive item ordered?\n",
        "\n",
        "#chipo_df.groupBy(\"item_name\").agg({\"item_price\":\"sum\",\"quantity\":\"sum\"}).orderBy(\"sum(item_price)\",ascending=0).select(\"sum(quantity)\").head(1)[0][0]\n",
        "\n",
        "chipo_df.orderBy(chipo_df[\"item_price\"], ascending=0).select(\"item_name\",\"quantity\").show(1)"
      ],
      "metadata": {
        "id": "fM3CZEu7kniZ"
      },
      "execution_count": null,
      "outputs": []
    },
    {
      "cell_type": "code",
      "source": [
        "#Step 8. How many times was a Veggie Salad Bowl ordered?\n",
        "\n",
        "chipo.groupBy(\"item_name\").count().filter(chipo.item_name=='Veggie Salad Bowl').show()"
      ],
      "metadata": {
        "id": "eVWlid2268jm"
      },
      "execution_count": null,
      "outputs": []
    },
    {
      "cell_type": "code",
      "source": [
        "#Step 9. How many times did someone order more than one Canned Soda?\n",
        "\n",
        "chipo_df.where((chipo_df.item_name==\"Canned Soda\") & (chipo_df.quantity>1)).count()"
      ],
      "metadata": {
        "id": "_2i6WwOc7vVI"
      },
      "execution_count": null,
      "outputs": []
    }
  ]
}