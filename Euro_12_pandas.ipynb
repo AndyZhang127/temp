{
  "nbformat": 4,
  "nbformat_minor": 0,
  "metadata": {
    "colab": {
      "name": "Euro_12_pandas.ipynb",
      "provenance": [],
      "collapsed_sections": [],
      "authorship_tag": "ABX9TyOR2KNNqOb0Vjbtuh4axyRY",
      "include_colab_link": true
    },
    "kernelspec": {
      "name": "python3",
      "display_name": "Python 3"
    },
    "language_info": {
      "name": "python"
    }
  },
  "cells": [
    {
      "cell_type": "markdown",
      "metadata": {
        "id": "view-in-github",
        "colab_type": "text"
      },
      "source": [
        "<a href=\"https://colab.research.google.com/github/AndyZhang127/temp/blob/main/Euro_12_pandas.ipynb\" target=\"_parent\"><img src=\"https://colab.research.google.com/assets/colab-badge.svg\" alt=\"Open In Colab\"/></a>"
      ]
    },
    {
      "cell_type": "markdown",
      "source": [
        "# Excercise2.Euro_12_pandas\n",
        "\n"
      ],
      "metadata": {
        "id": "56FYWlcA3iTI"
      }
    },
    {
      "cell_type": "markdown",
      "source": [
        "\n",
        "1.   loc[]\n",
        "2.   iloc[]\n",
        "3.   drop_duplicates()\n",
        "4.   shape\n",
        "5.   info()\n",
        "6.   columns\n",
        "7.   sort_values()\n",
        "8.   groupby()\n",
        "9.   agg()\n",
        "10.  count()\n",
        "11.  startswith()\n",
        "12.  isin()\n",
        "13.  str\n",
        "\n"
      ],
      "metadata": {
        "id": "MYu6_7eAKyVJ"
      }
    },
    {
      "cell_type": "code",
      "source": [
        "#Step 1. Import the necessary libraries\n",
        "import pandas as pd"
      ],
      "metadata": {
        "id": "jnND2oZYBByT"
      },
      "execution_count": null,
      "outputs": []
    },
    {
      "cell_type": "code",
      "source": [
        "#Step 2. Import the dataset from this address.\n",
        "url='https://raw.githubusercontent.com/guipsamora/pandas_exercises/master/02_Filtering_%26_Sorting/Euro12/Euro_2012_stats_TEAM.csv'"
      ],
      "metadata": {
        "id": "cMfDP6bvCVWW"
      },
      "execution_count": null,
      "outputs": []
    },
    {
      "cell_type": "code",
      "source": [
        "#Step 3. Assign it to a variable called euro12.\n",
        "euro12=pd.read_csv(url,sep=',')"
      ],
      "metadata": {
        "id": "DoJKmhosCcre"
      },
      "execution_count": null,
      "outputs": []
    },
    {
      "cell_type": "code",
      "source": [
        "#Step 4. Select only the Goal column.\n",
        "euro12['Goals']"
      ],
      "metadata": {
        "id": "FF1_AF-bDydY"
      },
      "execution_count": null,
      "outputs": []
    },
    {
      "cell_type": "code",
      "source": [
        "#Step 5. How many team participated in the Euro2012?\n",
        "euro12['Team'].drop_duplicates().count()\n",
        "euro12.shape\n",
        "euro12.shape[0]"
      ],
      "metadata": {
        "colab": {
          "base_uri": "https://localhost:8080/"
        },
        "id": "y5CWbeNDD5ZC",
        "outputId": "cf61d7bf-56ac-4d4d-c8dd-8e3b85c7293f"
      },
      "execution_count": null,
      "outputs": [
        {
          "output_type": "execute_result",
          "data": {
            "text/plain": [
              "16"
            ]
          },
          "metadata": {},
          "execution_count": 126
        }
      ]
    },
    {
      "cell_type": "code",
      "source": [
        "#Step 6. What is the number of columns in the dataset?\n",
        "len(euro12)\n",
        "euro12.shape\n",
        "euro12.shape[1]\n",
        "euro12.info()"
      ],
      "metadata": {
        "id": "aiUgU-dcEJWk"
      },
      "execution_count": null,
      "outputs": []
    },
    {
      "cell_type": "code",
      "source": [
        "#Step 7. View only the columns Team, Yellow Cards and Red Cards and assign them to a dataframe called discipline\n",
        "columns=['Team','Yellow Cards','Red Cards']\n",
        "\n",
        "discipline=euro12[columns]\n",
        "discipline\n"
      ],
      "metadata": {
        "id": "I91kVJQxERYt"
      },
      "execution_count": null,
      "outputs": []
    },
    {
      "cell_type": "code",
      "source": [
        "#Step 8. Sort the teams by Red Cards, then to Yellow Cards\n",
        "discipline.sort_values(['Red Cards','Yellow Cards'])"
      ],
      "metadata": {
        "id": "Qo38zBi6EpQw"
      },
      "execution_count": null,
      "outputs": []
    },
    {
      "cell_type": "code",
      "source": [
        "#Step 9. Calculate the mean Yellow Cards given per Team\n",
        "discipline.groupby('Team').agg({'Yellow Cards':'mean'})"
      ],
      "metadata": {
        "id": "kmCsQPgTEziZ"
      },
      "execution_count": null,
      "outputs": []
    },
    {
      "cell_type": "code",
      "source": [
        "#Step 10. Filter teams that scored more than 6 goals\n",
        "euro12[euro12.Goals>6]"
      ],
      "metadata": {
        "id": "fojnxe2_FEC5"
      },
      "execution_count": null,
      "outputs": []
    },
    {
      "cell_type": "code",
      "source": [
        "#Step 11. Select the teams that start with G\n",
        "euro12[euro12.Team.str.startswith('G')]\n"
      ],
      "metadata": {
        "id": "_lUx7bs-F4S1"
      },
      "execution_count": null,
      "outputs": []
    },
    {
      "cell_type": "code",
      "source": [
        "#Step 12. Select the first 7 column\n",
        "euro12[euro12.columns[:7]]"
      ],
      "metadata": {
        "id": "vx6I98CdGqI1"
      },
      "execution_count": null,
      "outputs": []
    },
    {
      "cell_type": "code",
      "source": [
        "euro12.iloc[: , 0:7]"
      ],
      "metadata": {
        "id": "MKLVGiClKGEK"
      },
      "execution_count": null,
      "outputs": []
    },
    {
      "cell_type": "code",
      "source": [
        "#Step 13. Select all columns except the last 3.\n",
        "euro12[euro12.columns[:-3]]"
      ],
      "metadata": {
        "id": "-TjHONh2Gvws"
      },
      "execution_count": null,
      "outputs": []
    },
    {
      "cell_type": "code",
      "source": [
        "euro12.iloc[: , :-3]"
      ],
      "metadata": {
        "id": "9j1QjjsJKSzy"
      },
      "execution_count": null,
      "outputs": []
    },
    {
      "cell_type": "code",
      "source": [
        "#Step 14. Present only the Shooting Accuracy from England, Italy and Russia\n",
        "Teams=['England','Italy','Russia']\n",
        "euro12[euro12.Team.isin(Teams)]['Shooting Accuracy']"
      ],
      "metadata": {
        "id": "6wlX_bCCHSSU"
      },
      "execution_count": null,
      "outputs": []
    },
    {
      "cell_type": "code",
      "source": [
        "euro12.loc[euro12.Team.isin(['England', 'Italy', 'Russia']), ['Team','Shooting Accuracy']]"
      ],
      "metadata": {
        "id": "1H4EU-etKsVq"
      },
      "execution_count": null,
      "outputs": []
    }
  ]
}