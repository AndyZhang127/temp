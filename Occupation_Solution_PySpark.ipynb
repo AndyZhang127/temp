{
  "nbformat": 4,
  "nbformat_minor": 0,
  "metadata": {
    "colab": {
      "name": "Occupation_Solution_PySpark.ipynb",
      "provenance": [],
      "authorship_tag": "ABX9TyMMAbu265v+nu6qN4iGt3rc",
      "include_colab_link": true
    },
    "kernelspec": {
      "name": "python3",
      "display_name": "Python 3"
    },
    "language_info": {
      "name": "python"
    }
  },
  "cells": [
    {
      "cell_type": "markdown",
      "metadata": {
        "id": "view-in-github",
        "colab_type": "text"
      },
      "source": [
        "<a href=\"https://colab.research.google.com/github/AndyZhang127/temp/blob/main/Occupation_Solution_PySpark.ipynb\" target=\"_parent\"><img src=\"https://colab.research.google.com/assets/colab-badge.svg\" alt=\"Open In Colab\"/></a>"
      ]
    },
    {
      "cell_type": "code",
      "source": [
        "pip install pyspark"
      ],
      "metadata": {
        "colab": {
          "base_uri": "https://localhost:8080/"
        },
        "id": "9e73rxgBjoWP",
        "outputId": "f1b3dfc9-1821-42ec-85de-4d7a6c7934eb"
      },
      "execution_count": 1,
      "outputs": [
        {
          "output_type": "stream",
          "name": "stdout",
          "text": [
            "Looking in indexes: https://pypi.org/simple, https://us-python.pkg.dev/colab-wheels/public/simple/\n",
            "Collecting pyspark\n",
            "  Downloading pyspark-3.3.0.tar.gz (281.3 MB)\n",
            "\u001b[K     |████████████████████████████████| 281.3 MB 43 kB/s \n",
            "\u001b[?25hCollecting py4j==0.10.9.5\n",
            "  Downloading py4j-0.10.9.5-py2.py3-none-any.whl (199 kB)\n",
            "\u001b[K     |████████████████████████████████| 199 kB 67.5 MB/s \n",
            "\u001b[?25hBuilding wheels for collected packages: pyspark\n",
            "  Building wheel for pyspark (setup.py) ... \u001b[?25l\u001b[?25hdone\n",
            "  Created wheel for pyspark: filename=pyspark-3.3.0-py2.py3-none-any.whl size=281764026 sha256=8b1e9b5b986c86e4a67c25ea3bcd1f173525db07f466126c23b9f550e1e30046\n",
            "  Stored in directory: /root/.cache/pip/wheels/7a/8e/1b/f73a52650d2e5f337708d9f6a1750d451a7349a867f928b885\n",
            "Successfully built pyspark\n",
            "Installing collected packages: py4j, pyspark\n",
            "Successfully installed py4j-0.10.9.5 pyspark-3.3.0\n"
          ]
        }
      ]
    },
    {
      "cell_type": "code",
      "source": [
        "# Step 1. Import the necessary libraries\n",
        "\n",
        "import pyspark\n",
        "from pyspark.sql import SparkSession\n",
        "\n",
        "spark=SparkSession.builder.appName('ex3').getOrCreate()\n",
        "spark"
      ],
      "metadata": {
        "id": "klpExNrn5KPW",
        "colab": {
          "base_uri": "https://localhost:8080/",
          "height": 221
        },
        "outputId": "5670483c-dea7-4ab4-baf3-fa0fd6c81359"
      },
      "execution_count": 2,
      "outputs": [
        {
          "output_type": "execute_result",
          "data": {
            "text/plain": [
              "<pyspark.sql.session.SparkSession at 0x7eff9f036050>"
            ],
            "text/html": [
              "\n",
              "            <div>\n",
              "                <p><b>SparkSession - in-memory</b></p>\n",
              "                \n",
              "        <div>\n",
              "            <p><b>SparkContext</b></p>\n",
              "\n",
              "            <p><a href=\"http://2cd90a2949a0:4040\">Spark UI</a></p>\n",
              "\n",
              "            <dl>\n",
              "              <dt>Version</dt>\n",
              "                <dd><code>v3.3.0</code></dd>\n",
              "              <dt>Master</dt>\n",
              "                <dd><code>local[*]</code></dd>\n",
              "              <dt>AppName</dt>\n",
              "                <dd><code>ex3</code></dd>\n",
              "            </dl>\n",
              "        </div>\n",
              "        \n",
              "            </div>\n",
              "        "
            ]
          },
          "metadata": {},
          "execution_count": 2
        }
      ]
    },
    {
      "cell_type": "code",
      "source": [
        "# Step 2. Import the dataset from this address.\n",
        "\n",
        "from pyspark import SparkFiles\n",
        "\n",
        "url=\"https://raw.githubusercontent.com/justmarkham/DAT8/master/data/u.user\"\n",
        "spark.sparkContext.addFile(url)\n"
      ],
      "metadata": {
        "id": "MWRX8rkJ6c4f"
      },
      "execution_count": 3,
      "outputs": []
    },
    {
      "cell_type": "code",
      "source": [
        "#Step 3. Assign it to a variable called users and use the 'user_id' as index\n",
        "users=spark.read.csv(SparkFiles.get(\"u.user\"),header=True,inferSchema=True,sep='|')\n"
      ],
      "metadata": {
        "id": "HngF2uiE7IZt"
      },
      "execution_count": 4,
      "outputs": []
    },
    {
      "cell_type": "code",
      "source": [
        "users.show()"
      ],
      "metadata": {
        "id": "rstzpCCf8HaG",
        "colab": {
          "base_uri": "https://localhost:8080/"
        },
        "outputId": "c4385053-cea8-4af5-bdac-4d8deee55354"
      },
      "execution_count": 5,
      "outputs": [
        {
          "output_type": "stream",
          "name": "stdout",
          "text": [
            "+-------+---+------+-------------+--------+\n",
            "|user_id|age|gender|   occupation|zip_code|\n",
            "+-------+---+------+-------------+--------+\n",
            "|      1| 24|     M|   technician|   85711|\n",
            "|      2| 53|     F|        other|   94043|\n",
            "|      3| 23|     M|       writer|   32067|\n",
            "|      4| 24|     M|   technician|   43537|\n",
            "|      5| 33|     F|        other|   15213|\n",
            "|      6| 42|     M|    executive|   98101|\n",
            "|      7| 57|     M|administrator|   91344|\n",
            "|      8| 36|     M|administrator|   05201|\n",
            "|      9| 29|     M|      student|   01002|\n",
            "|     10| 53|     M|       lawyer|   90703|\n",
            "|     11| 39|     F|        other|   30329|\n",
            "|     12| 28|     F|        other|   06405|\n",
            "|     13| 47|     M|     educator|   29206|\n",
            "|     14| 45|     M|    scientist|   55106|\n",
            "|     15| 49|     F|     educator|   97301|\n",
            "|     16| 21|     M|entertainment|   10309|\n",
            "|     17| 30|     M|   programmer|   06355|\n",
            "|     18| 35|     F|        other|   37212|\n",
            "|     19| 40|     M|    librarian|   02138|\n",
            "|     20| 42|     F|    homemaker|   95660|\n",
            "+-------+---+------+-------------+--------+\n",
            "only showing top 20 rows\n",
            "\n"
          ]
        }
      ]
    },
    {
      "cell_type": "code",
      "source": [
        "#See the first 25 entries\n",
        "users.show(25)"
      ],
      "metadata": {
        "id": "YdHS6W3-SfDn",
        "colab": {
          "base_uri": "https://localhost:8080/"
        },
        "outputId": "3c8967de-f02a-4187-8015-69e718a6314f"
      },
      "execution_count": 6,
      "outputs": [
        {
          "output_type": "stream",
          "name": "stdout",
          "text": [
            "+-------+---+------+-------------+--------+\n",
            "|user_id|age|gender|   occupation|zip_code|\n",
            "+-------+---+------+-------------+--------+\n",
            "|      1| 24|     M|   technician|   85711|\n",
            "|      2| 53|     F|        other|   94043|\n",
            "|      3| 23|     M|       writer|   32067|\n",
            "|      4| 24|     M|   technician|   43537|\n",
            "|      5| 33|     F|        other|   15213|\n",
            "|      6| 42|     M|    executive|   98101|\n",
            "|      7| 57|     M|administrator|   91344|\n",
            "|      8| 36|     M|administrator|   05201|\n",
            "|      9| 29|     M|      student|   01002|\n",
            "|     10| 53|     M|       lawyer|   90703|\n",
            "|     11| 39|     F|        other|   30329|\n",
            "|     12| 28|     F|        other|   06405|\n",
            "|     13| 47|     M|     educator|   29206|\n",
            "|     14| 45|     M|    scientist|   55106|\n",
            "|     15| 49|     F|     educator|   97301|\n",
            "|     16| 21|     M|entertainment|   10309|\n",
            "|     17| 30|     M|   programmer|   06355|\n",
            "|     18| 35|     F|        other|   37212|\n",
            "|     19| 40|     M|    librarian|   02138|\n",
            "|     20| 42|     F|    homemaker|   95660|\n",
            "|     21| 26|     M|       writer|   30068|\n",
            "|     22| 25|     M|       writer|   40206|\n",
            "|     23| 30|     F|       artist|   48197|\n",
            "|     24| 21|     F|       artist|   94533|\n",
            "|     25| 39|     M|     engineer|   55107|\n",
            "+-------+---+------+-------------+--------+\n",
            "only showing top 25 rows\n",
            "\n"
          ]
        }
      ]
    },
    {
      "cell_type": "code",
      "source": [
        "#See the last 10 entries\n",
        "users.tail(10)"
      ],
      "metadata": {
        "id": "J84yvBarSwUj",
        "colab": {
          "base_uri": "https://localhost:8080/"
        },
        "outputId": "2b4dfc21-3ddc-4c85-d6b0-3eaad1181546"
      },
      "execution_count": 7,
      "outputs": [
        {
          "output_type": "execute_result",
          "data": {
            "text/plain": [
              "[Row(user_id=934, age=61, gender='M', occupation='engineer', zip_code='22902'),\n",
              " Row(user_id=935, age=42, gender='M', occupation='doctor', zip_code='66221'),\n",
              " Row(user_id=936, age=24, gender='M', occupation='other', zip_code='32789'),\n",
              " Row(user_id=937, age=48, gender='M', occupation='educator', zip_code='98072'),\n",
              " Row(user_id=938, age=38, gender='F', occupation='technician', zip_code='55038'),\n",
              " Row(user_id=939, age=26, gender='F', occupation='student', zip_code='33319'),\n",
              " Row(user_id=940, age=32, gender='M', occupation='administrator', zip_code='02215'),\n",
              " Row(user_id=941, age=20, gender='M', occupation='student', zip_code='97229'),\n",
              " Row(user_id=942, age=48, gender='F', occupation='librarian', zip_code='78209'),\n",
              " Row(user_id=943, age=22, gender='M', occupation='student', zip_code='77841')]"
            ]
          },
          "metadata": {},
          "execution_count": 7
        }
      ]
    },
    {
      "cell_type": "code",
      "source": [
        "#Step 6. What is the number of observations in the dataset?\n",
        "(users.count(),len(users.columns))"
      ],
      "metadata": {
        "colab": {
          "base_uri": "https://localhost:8080/"
        },
        "id": "lVnfN_esS6Fj",
        "outputId": "b3051d55-2c68-4868-f2ec-1fac22ea0681"
      },
      "execution_count": 8,
      "outputs": [
        {
          "output_type": "execute_result",
          "data": {
            "text/plain": [
              "(943, 5)"
            ]
          },
          "metadata": {},
          "execution_count": 8
        }
      ]
    },
    {
      "cell_type": "code",
      "source": [
        "#Step 7. What is the number of columns in the dataset?\n",
        "len(users.columns)"
      ],
      "metadata": {
        "id": "c_V0OerHTPAU",
        "colab": {
          "base_uri": "https://localhost:8080/"
        },
        "outputId": "769d3253-715d-4614-c2f3-970941ebbe5b"
      },
      "execution_count": 9,
      "outputs": [
        {
          "output_type": "execute_result",
          "data": {
            "text/plain": [
              "5"
            ]
          },
          "metadata": {},
          "execution_count": 9
        }
      ]
    },
    {
      "cell_type": "code",
      "source": [
        "#Step 8. Print the name of all the columns.\n",
        "users.columns"
      ],
      "metadata": {
        "id": "SLU5VZhUTTc8",
        "colab": {
          "base_uri": "https://localhost:8080/"
        },
        "outputId": "099a9855-ce57-4457-c06f-01d4a9b5fced"
      },
      "execution_count": 10,
      "outputs": [
        {
          "output_type": "execute_result",
          "data": {
            "text/plain": [
              "['user_id', 'age', 'gender', 'occupation', 'zip_code']"
            ]
          },
          "metadata": {},
          "execution_count": 10
        }
      ]
    },
    {
      "cell_type": "code",
      "source": [
        "#Step 9. How is the dataset indexed?"
      ],
      "metadata": {
        "id": "UFzQZyuWUKL-"
      },
      "execution_count": null,
      "outputs": []
    },
    {
      "cell_type": "code",
      "source": [
        "#Step 10. What is the data type of each column?\n",
        "users.describe()"
      ],
      "metadata": {
        "colab": {
          "base_uri": "https://localhost:8080/"
        },
        "id": "CK7o042mURB1",
        "outputId": "4301bb9d-ba4c-430a-ef4c-59cb0c6ffa20"
      },
      "execution_count": 11,
      "outputs": [
        {
          "output_type": "execute_result",
          "data": {
            "text/plain": [
              "DataFrame[summary: string, user_id: string, age: string, gender: string, occupation: string, zip_code: string]"
            ]
          },
          "metadata": {},
          "execution_count": 11
        }
      ]
    },
    {
      "cell_type": "code",
      "source": [
        "#Step 11. Print only the occupation column\n",
        "\n",
        "users.select(\"occupation\").show()"
      ],
      "metadata": {
        "id": "SRz4htgRUdJP",
        "colab": {
          "base_uri": "https://localhost:8080/"
        },
        "outputId": "51bde0f6-6473-4fcb-91b0-ce4f8fedfbf5"
      },
      "execution_count": 12,
      "outputs": [
        {
          "output_type": "stream",
          "name": "stdout",
          "text": [
            "+-------------+\n",
            "|   occupation|\n",
            "+-------------+\n",
            "|   technician|\n",
            "|        other|\n",
            "|       writer|\n",
            "|   technician|\n",
            "|        other|\n",
            "|    executive|\n",
            "|administrator|\n",
            "|administrator|\n",
            "|      student|\n",
            "|       lawyer|\n",
            "|        other|\n",
            "|        other|\n",
            "|     educator|\n",
            "|    scientist|\n",
            "|     educator|\n",
            "|entertainment|\n",
            "|   programmer|\n",
            "|        other|\n",
            "|    librarian|\n",
            "|    homemaker|\n",
            "+-------------+\n",
            "only showing top 20 rows\n",
            "\n"
          ]
        }
      ]
    },
    {
      "cell_type": "code",
      "source": [
        "#Step 12. How many different occupations are in this dataset?\n",
        "from pyspark.sql.functions import countDistinct\n",
        "\n",
        "users.select(countDistinct(\"occupation\")).head(1)[0][0]"
      ],
      "metadata": {
        "id": "sE-qszwsU1eO",
        "colab": {
          "base_uri": "https://localhost:8080/"
        },
        "outputId": "64f8eef8-a302-4e5c-f7d9-76ab7ef5a119"
      },
      "execution_count": 13,
      "outputs": [
        {
          "output_type": "execute_result",
          "data": {
            "text/plain": [
              "21"
            ]
          },
          "metadata": {},
          "execution_count": 13
        }
      ]
    },
    {
      "cell_type": "code",
      "source": [
        "#Step 13. What is the most frequent occupation?\n",
        "users.show(5)\n",
        "frequent_occupation=users.groupBy(\"occupation\").count().orderBy(\"count\",ascending=0)\n",
        "print(\"occupation_name:\", frequent_occupation.head(1)[0][0])\n",
        "print(\"occupation_count:\", frequent_occupation.head(1)[0][1])"
      ],
      "metadata": {
        "id": "XPwaHLeXtKol",
        "colab": {
          "base_uri": "https://localhost:8080/"
        },
        "outputId": "eff702bf-fbce-4157-8333-721fc61b06b1"
      },
      "execution_count": 14,
      "outputs": [
        {
          "output_type": "stream",
          "name": "stdout",
          "text": [
            "+-------+---+------+----------+--------+\n",
            "|user_id|age|gender|occupation|zip_code|\n",
            "+-------+---+------+----------+--------+\n",
            "|      1| 24|     M|technician|   85711|\n",
            "|      2| 53|     F|     other|   94043|\n",
            "|      3| 23|     M|    writer|   32067|\n",
            "|      4| 24|     M|technician|   43537|\n",
            "|      5| 33|     F|     other|   15213|\n",
            "+-------+---+------+----------+--------+\n",
            "only showing top 5 rows\n",
            "\n",
            "occupation_name: student\n",
            "occupation_count: 196\n"
          ]
        }
      ]
    },
    {
      "cell_type": "code",
      "source": [
        "#Step 14. Summarize the DataFrame\n",
        "users.describe().show()"
      ],
      "metadata": {
        "id": "NucAV8Bb0Fkn",
        "colab": {
          "base_uri": "https://localhost:8080/"
        },
        "outputId": "3517af94-42dd-420a-f301-fe1b0a76f865"
      },
      "execution_count": 15,
      "outputs": [
        {
          "output_type": "stream",
          "name": "stdout",
          "text": [
            "+-------+-----------------+-----------------+------+-------------+------------------+\n",
            "|summary|          user_id|              age|gender|   occupation|          zip_code|\n",
            "+-------+-----------------+-----------------+------+-------------+------------------+\n",
            "|  count|              943|              943|   943|          943|               943|\n",
            "|   mean|            472.0|34.05196182396607|  null|         null| 50868.78810810811|\n",
            "| stddev|272.3649512449549|12.19273973305903|  null|         null|30891.373254138176|\n",
            "|    min|                1|                7|     F|administrator|             00000|\n",
            "|    max|              943|               73|     M|       writer|             Y1A6B|\n",
            "+-------+-----------------+-----------------+------+-------------+------------------+\n",
            "\n"
          ]
        }
      ]
    },
    {
      "cell_type": "code",
      "source": [
        "#Step 15. Summarize all the columns\n",
        "users.describe().show()"
      ],
      "metadata": {
        "id": "In3sUo7L1cqK",
        "colab": {
          "base_uri": "https://localhost:8080/"
        },
        "outputId": "b15e56e5-617e-420a-c4a4-4ed30e68dfec"
      },
      "execution_count": 16,
      "outputs": [
        {
          "output_type": "stream",
          "name": "stdout",
          "text": [
            "+-------+-----------------+-----------------+------+-------------+------------------+\n",
            "|summary|          user_id|              age|gender|   occupation|          zip_code|\n",
            "+-------+-----------------+-----------------+------+-------------+------------------+\n",
            "|  count|              943|              943|   943|          943|               943|\n",
            "|   mean|            472.0|34.05196182396607|  null|         null| 50868.78810810811|\n",
            "| stddev|272.3649512449549|12.19273973305903|  null|         null|30891.373254138176|\n",
            "|    min|                1|                7|     F|administrator|             00000|\n",
            "|    max|              943|               73|     M|       writer|             Y1A6B|\n",
            "+-------+-----------------+-----------------+------+-------------+------------------+\n",
            "\n"
          ]
        }
      ]
    },
    {
      "cell_type": "code",
      "source": [
        "#Step 16. Summarize only the occupation column\n",
        "users.describe(\"occupation\").show()"
      ],
      "metadata": {
        "id": "bJZoDreB1nW6",
        "colab": {
          "base_uri": "https://localhost:8080/"
        },
        "outputId": "952629e3-7c90-44e1-cfef-fc611a979a52"
      },
      "execution_count": 17,
      "outputs": [
        {
          "output_type": "stream",
          "name": "stdout",
          "text": [
            "+-------+-------------+\n",
            "|summary|   occupation|\n",
            "+-------+-------------+\n",
            "|  count|          943|\n",
            "|   mean|         null|\n",
            "| stddev|         null|\n",
            "|    min|administrator|\n",
            "|    max|       writer|\n",
            "+-------+-------------+\n",
            "\n"
          ]
        }
      ]
    },
    {
      "cell_type": "code",
      "source": [
        "#Step 17. What is the mean age of users?\n",
        "#solution1\n",
        "users.describe('age').head(2)[1][1]"
      ],
      "metadata": {
        "colab": {
          "base_uri": "https://localhost:8080/",
          "height": 35
        },
        "id": "UA9ElyGt1_qr",
        "outputId": "03043cbb-df07-4228-fc6e-2f712d47b58b"
      },
      "execution_count": 18,
      "outputs": [
        {
          "output_type": "execute_result",
          "data": {
            "text/plain": [
              "'34.05196182396607'"
            ],
            "application/vnd.google.colaboratory.intrinsic+json": {
              "type": "string"
            }
          },
          "metadata": {},
          "execution_count": 18
        }
      ]
    },
    {
      "cell_type": "code",
      "source": [
        "#solution2\n",
        "import pyspark.sql.functions as func\n",
        "from pyspark.sql import DataFrameStatFunctions as statFunc\n",
        "\n",
        "age_mean=users.agg(func.mean('age').alias('age_avg'))\n",
        "age_mean.show()"
      ],
      "metadata": {
        "id": "px6BuDIW6F7Q",
        "colab": {
          "base_uri": "https://localhost:8080/"
        },
        "outputId": "b8d300d2-1371-4058-88b0-05d5f0083cfb"
      },
      "execution_count": 19,
      "outputs": [
        {
          "output_type": "stream",
          "name": "stdout",
          "text": [
            "+-----------------+\n",
            "|          age_avg|\n",
            "+-----------------+\n",
            "|34.05196182396607|\n",
            "+-----------------+\n",
            "\n"
          ]
        }
      ]
    },
    {
      "cell_type": "code",
      "source": [
        "#solution3\n",
        "age_mean=users.agg({'age':'mean'}).withColumnRenamed(\"avg(age)\",\"age_avg\")\n",
        "age_mean.show()"
      ],
      "metadata": {
        "id": "A8h-L8Sl7PP5",
        "colab": {
          "base_uri": "https://localhost:8080/"
        },
        "outputId": "82337640-012a-47df-e8aa-1093de740102"
      },
      "execution_count": 20,
      "outputs": [
        {
          "output_type": "stream",
          "name": "stdout",
          "text": [
            "+-----------------+\n",
            "|          age_avg|\n",
            "+-----------------+\n",
            "|34.05196182396607|\n",
            "+-----------------+\n",
            "\n"
          ]
        }
      ]
    },
    {
      "cell_type": "code",
      "source": [
        "#Step 18.What is the age with least occurrence?\n",
        "age_count=users.groupBy('age').count().orderBy(\"count\",ascending=True)\n",
        "age_count.show()"
      ],
      "metadata": {
        "id": "e8UUsnv4-Kmp",
        "colab": {
          "base_uri": "https://localhost:8080/"
        },
        "outputId": "5cbf1323-5037-4c7b-b8a4-e2b9b4917130"
      },
      "execution_count": 24,
      "outputs": [
        {
          "output_type": "stream",
          "name": "stdout",
          "text": [
            "+---+-----+\n",
            "|age|count|\n",
            "+---+-----+\n",
            "| 73|    1|\n",
            "|  7|    1|\n",
            "| 11|    1|\n",
            "| 10|    1|\n",
            "| 66|    1|\n",
            "| 62|    2|\n",
            "| 69|    2|\n",
            "| 68|    2|\n",
            "| 64|    2|\n",
            "| 59|    3|\n",
            "| 63|    3|\n",
            "| 70|    3|\n",
            "| 14|    3|\n",
            "| 65|    3|\n",
            "| 58|    3|\n",
            "| 61|    3|\n",
            "| 54|    4|\n",
            "| 13|    5|\n",
            "| 16|    5|\n",
            "| 52|    6|\n",
            "+---+-----+\n",
            "only showing top 20 rows\n",
            "\n"
          ]
        }
      ]
    }
  ]
}