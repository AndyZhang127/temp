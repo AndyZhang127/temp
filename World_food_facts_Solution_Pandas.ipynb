{
  "nbformat": 4,
  "nbformat_minor": 0,
  "metadata": {
    "colab": {
      "name": "World food facts_Solution_Pandas.ipynb",
      "provenance": [],
      "collapsed_sections": [],
      "authorship_tag": "ABX9TyP42RbXAEjns3tVK3FI9As/",
      "include_colab_link": true
    },
    "kernelspec": {
      "name": "python3",
      "display_name": "Python 3"
    },
    "language_info": {
      "name": "python"
    }
  },
  "cells": [
    {
      "cell_type": "markdown",
      "metadata": {
        "id": "view-in-github",
        "colab_type": "text"
      },
      "source": [
        "<a href=\"https://colab.research.google.com/github/AndyZhang127/temp/blob/main/World_food_facts_Solution_Pandas.ipynb\" target=\"_parent\"><img src=\"https://colab.research.google.com/assets/colab-badge.svg\" alt=\"Open In Colab\"/></a>"
      ]
    },
    {
      "cell_type": "code",
      "source": [
        "# Import all dependencies\n",
        "import pandas as pd\n",
        "import numpy as np"
      ],
      "metadata": {
        "id": "wUCSqSe7R4IZ"
      },
      "execution_count": 3,
      "outputs": []
    },
    {
      "cell_type": "code",
      "source": [
        "# step 3 Use the tsv file and assign it to a dataframe called food\n",
        "food=pd.read_csv(\"/content/en.openfoodfacts.org.products.tsv\",sep='\\t')"
      ],
      "metadata": {
        "id": "fb02C1SuSP87"
      },
      "execution_count": null,
      "outputs": []
    },
    {
      "cell_type": "code",
      "source": [
        "# step 4 See the first 5 entires\n",
        "food.head()"
      ],
      "metadata": {
        "id": "uebnE0OXsDr2"
      },
      "execution_count": null,
      "outputs": []
    },
    {
      "cell_type": "code",
      "source": [
        "# step 5 What is the number of observations in the dataset? (observations/rows, columns)\n",
        "food.shape\n",
        "food.shape[0]"
      ],
      "metadata": {
        "id": "giGL5EAlTEmI"
      },
      "execution_count": null,
      "outputs": []
    },
    {
      "cell_type": "code",
      "source": [
        "# step 6 What is the number of columns in the dataset?\n",
        "food.shape\n",
        "food.shape[1]\n",
        "food.info()"
      ],
      "metadata": {
        "id": "byvQvD2kVjNR"
      },
      "execution_count": null,
      "outputs": []
    },
    {
      "cell_type": "code",
      "source": [
        "# step 7 Print the name of all the columns\n",
        "food.columns"
      ],
      "metadata": {
        "id": "VJyo7xeUV5A2"
      },
      "execution_count": null,
      "outputs": []
    },
    {
      "cell_type": "code",
      "source": [
        "#Step 8. What is the name of 105th column?\n",
        "food.columns[104]"
      ],
      "metadata": {
        "id": "rLQAGMtwzWUY"
      },
      "execution_count": null,
      "outputs": []
    },
    {
      "cell_type": "code",
      "source": [
        "#Step 9. What is the type of the observations of the 105th column?\n",
        "food.dtypes['-glucose_100g']"
      ],
      "metadata": {
        "id": "Y2lg8L3Wztte"
      },
      "execution_count": null,
      "outputs": []
    },
    {
      "cell_type": "code",
      "source": [
        "#Step 10. How is the dataset indexed?\n",
        "food.index"
      ],
      "metadata": {
        "id": "X0MyYUeGWj6K"
      },
      "execution_count": null,
      "outputs": []
    },
    {
      "cell_type": "code",
      "source": [
        "#Step 11.What is the product name of the 19th observation?\n",
        "food.values[18][7]"
      ],
      "metadata": {
        "id": "w-ZDjYk6XFZS"
      },
      "execution_count": null,
      "outputs": []
    }
  ]
}