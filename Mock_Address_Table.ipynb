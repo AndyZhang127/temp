{
 "cells": [
  {
   "cell_type": "code",
   "execution_count": 139,
   "id": "f68d6362",
   "metadata": {},
   "outputs": [
    {
     "name": "stdout",
     "output_type": "stream",
     "text": [
      "Requirement already satisfied: faker in /Users/zhangdi/anaconda3/lib/python3.11/site-packages (19.13.0)\n",
      "Requirement already satisfied: python-dateutil>=2.4 in /Users/zhangdi/anaconda3/lib/python3.11/site-packages (from faker) (2.8.2)\n",
      "Requirement already satisfied: six>=1.5 in /Users/zhangdi/anaconda3/lib/python3.11/site-packages (from python-dateutil>=2.4->faker) (1.16.0)\n",
      "Note: you may need to restart the kernel to use updated packages.\n"
     ]
    }
   ],
   "source": [
    "pip install faker"
   ]
  },
  {
   "cell_type": "markdown",
   "id": "93581985",
   "metadata": {},
   "source": [
    "# Import & Install package"
   ]
  },
  {
   "cell_type": "code",
   "execution_count": null,
   "id": "5f46be9d",
   "metadata": {},
   "outputs": [],
   "source": [
    "import random\n",
    "from datetime import datetime, timedelta\n",
    "from faker import Faker\n",
    "import pandas as pd"
   ]
  },
  {
   "cell_type": "markdown",
   "id": "22c616b0",
   "metadata": {},
   "source": [
    "# Define Function"
   ]
  },
  {
   "cell_type": "markdown",
   "id": "62800e40",
   "metadata": {},
   "source": [
    "## Add mapping between country and faker parameter"
   ]
  },
  {
   "cell_type": "code",
   "execution_count": 140,
   "id": "0db2afc5",
   "metadata": {},
   "outputs": [],
   "source": [
    "def get_locale_by_country(country):\n",
    "    COUNTRY_CODE_MAPPING = {\n",
    "    \"United Kingdom\": 'en_GB',\n",
    "    \"United States\": 'en_US',\n",
    "    \"India\": 'hi_IN',\n",
    "    }\n",
    "    return COUNTRY_CODE_MAPPING.get(country, 'en_US') \n"
   ]
  },
  {
   "cell_type": "markdown",
   "id": "0cd79d8e",
   "metadata": {},
   "source": [
    "## Create address information"
   ]
  },
  {
   "cell_type": "code",
   "execution_count": 142,
   "id": "333735d0",
   "metadata": {},
   "outputs": [],
   "source": [
    "def generate_address_lines(country=\"United Kingdom\"):\n",
    "    locale = get_locale_by_country(country)\n",
    "    fake = Faker(locale) \n",
    "\n",
    "    address = {}\n",
    "        \n",
    "    try:\n",
    "        address['building_number'] = fake.building_number()\n",
    "    except Exception as e:\n",
    "        print(\"An error occurred:\", e)\n",
    "        address['building_number'] = ''    \n",
    "        \n",
    "    try:\n",
    "        address['street_address'] = fake.street_address()\n",
    "    except Exception as e:\n",
    "        print(\"An error occurred:\", e)\n",
    "        address['street_address'] = ''\n",
    "        \n",
    "    try:\n",
    "        address['secondary_address'] = fake.secondary_address()\n",
    "    except Exception as e:\n",
    "        print(\"An error occurred:\", e)\n",
    "        address['secondary_address'] = ''\n",
    "        \n",
    "    try:\n",
    "        address['city_suffix'] = fake.city_suffix()\n",
    "    except Exception as e:\n",
    "        print(\"An error occurred:\", e)\n",
    "        address['city_suffix'] = ''\n",
    "        \n",
    "    try:\n",
    "        address['city'] = fake.city()\n",
    "    except Exception as e:\n",
    "        print(\"An error occurred:\", e)\n",
    "        address['city'] = ''\n",
    "        \n",
    "    try:\n",
    "        address['county'] = fake.county()\n",
    "    except Exception as e:\n",
    "        print(\"An error occurred:\", e)\n",
    "        address['county'] = ''\n",
    "    \n",
    "    try:\n",
    "        address['postcode'] = fake.postcode()\n",
    "    except Exception as e:\n",
    "        print(\"An error occurred:\", e)\n",
    "        address['postcode'] = fake.postcode()\n",
    "        \n",
    "    address['address_line1'] = address['street_address']\n",
    "    address['address_line2'] = address['secondary_address'] \n",
    "    address['address_line3'] = address['city'] \n",
    "    address['address_line4'] = address['county'] \n",
    "    address['partial_address'] =  f\"{address['address_line1']}, {address['address_line2']}\"\n",
    "    address['full_address'] =  f\"{address['address_line1']}, {address['address_line2']}, {address['address_line3']}, {address['address_line4']}, {address['postcode']},{country}\"\n",
    "    \n",
    "    return address"
   ]
  },
  {
   "cell_type": "markdown",
   "id": "1e7ac603",
   "metadata": {},
   "source": [
    "## Generate date randmly"
   ]
  },
  {
   "cell_type": "code",
   "execution_count": 143,
   "id": "f01e4fd3",
   "metadata": {},
   "outputs": [],
   "source": [
    "def generate_random_date(start_date, end_date, date_format='%Y-%m-%d'):\n",
    "    start_date = datetime.strptime(start_date, date_format)\n",
    "    end_date = datetime.strptime(end_date, date_format)\n",
    "\n",
    "    time_between_dates = end_date - start_date\n",
    "    days_between_dates = time_between_dates.days\n",
    "    random_number_of_days = random.randrange(days_between_dates)\n",
    "    random_date = start_date + timedelta(days=random_number_of_days)\n",
    "\n",
    "    return random_date.strftime(date_format)"
   ]
  },
  {
   "cell_type": "markdown",
   "id": "52218fc4",
   "metadata": {},
   "source": [
    "## Generate enumerate value randmly"
   ]
  },
  {
   "cell_type": "code",
   "execution_count": 144,
   "id": "60229dbc",
   "metadata": {},
   "outputs": [],
   "source": [
    "def choose_random_element(elements=None):\n",
    "    if elements is None:\n",
    "        elements = ['']  # 默认元素列表\n",
    "\n",
    "    if not isinstance(elements, list) or len(elements) == 0:\n",
    "        raise ValueError(\"Elements should be a non-empty list.\")\n",
    "\n",
    "    return random.choice(elements)"
   ]
  },
  {
   "cell_type": "markdown",
   "id": "8b940274",
   "metadata": {},
   "source": [
    "## Generate random numbers"
   ]
  },
  {
   "cell_type": "code",
   "execution_count": 145,
   "id": "95bc9f7c",
   "metadata": {},
   "outputs": [],
   "source": [
    "def generate_random_number(digits):\n",
    "    if digits <= 0:\n",
    "        raise ValueError(\"Digits should be a positive integer.\")\n",
    "\n",
    "    min_value = 10 ** (digits - 1)\n",
    "    max_value = (10 ** digits) - 1\n",
    "    return random.randint(min_value, max_value)"
   ]
  },
  {
   "cell_type": "markdown",
   "id": "6cadd7dd",
   "metadata": {},
   "source": [
    "# Test Function"
   ]
  },
  {
   "cell_type": "markdown",
   "id": "f53a1c3e",
   "metadata": {},
   "source": [
    "## test address funtion - generate_address_lines"
   ]
  },
  {
   "cell_type": "code",
   "execution_count": 146,
   "id": "f955cf84",
   "metadata": {},
   "outputs": [
    {
     "name": "stdout",
     "output_type": "stream",
     "text": [
      "Address Line 1: Flat 7\n",
      "Joe estates\n",
      "Address Line 2: Flat 33\n",
      "Address Line 3: Port Kylestad\n",
      "Address Line 4: Tyrone\n",
      "town: mouth\n",
      "city: Port Kylestad\n",
      "county: Tyrone\n",
      "country: United Kingdom\n",
      "postcode: PR6 2DN\n",
      "partial_address: Flat 7\n",
      "Joe estates, Flat 33\n",
      "Full Address: Flat 7\n",
      "Joe estates, Flat 33, Port Kylestad, Tyrone, PR6 2DN,United Kingdom\n",
      "\n",
      "\n",
      "Address Line 1: 6 Blackburn shores\n",
      "Address Line 2: Studio 4\n",
      "Address Line 3: Jodieport\n",
      "Address Line 4: Pembrokeshire\n",
      "town: bury\n",
      "city: Jodieport\n",
      "county: Pembrokeshire\n",
      "country: United Kingdom\n",
      "postcode: SK75 2HY\n",
      "partial_address: 6 Blackburn shores, Studio 4\n",
      "Full Address: 6 Blackburn shores, Studio 4, Jodieport, Pembrokeshire, SK75 2HY,United Kingdom\n",
      "\n",
      "\n",
      "Address Line 1: Flat 54\n",
      "Davies station\n",
      "Address Line 2: Flat 74J\n",
      "Address Line 3: Morleychester\n",
      "Address Line 4: Worcestershire\n",
      "town: berg\n",
      "city: Morleychester\n",
      "county: Worcestershire\n",
      "country: United Kingdom\n",
      "postcode: L6H 2EX\n",
      "partial_address: Flat 54\n",
      "Davies station, Flat 74J\n",
      "Full Address: Flat 54\n",
      "Davies station, Flat 74J, Morleychester, Worcestershire, L6H 2EX,United Kingdom\n",
      "\n",
      "\n",
      "Address Line 1: 1 Ward dale\n",
      "Address Line 2: Studio 14\n",
      "Address Line 3: O'Connormouth\n",
      "Address Line 4: Tyrone\n",
      "town: fort\n",
      "city: O'Connormouth\n",
      "county: Tyrone\n",
      "country: United Kingdom\n",
      "postcode: IG0W 7UY\n",
      "partial_address: 1 Ward dale, Studio 14\n",
      "Full Address: 1 Ward dale, Studio 14, O'Connormouth, Tyrone, IG0W 7UY,United Kingdom\n",
      "\n",
      "\n",
      "Address Line 1: Flat 4\n",
      "June creek\n",
      "Address Line 2: Studio 8\n",
      "Address Line 3: East John\n",
      "Address Line 4: Derbyshire\n",
      "town: fort\n",
      "city: East John\n",
      "county: Derbyshire\n",
      "country: United Kingdom\n",
      "postcode: S6 6HX\n",
      "partial_address: Flat 4\n",
      "June creek, Studio 8\n",
      "Full Address: Flat 4\n",
      "June creek, Studio 8, East John, Derbyshire, S6 6HX,United Kingdom\n",
      "\n",
      "\n"
     ]
    }
   ],
   "source": [
    "country = \"United Kingdom\"  \n",
    "\n",
    "for _ in range(5):\n",
    "    address = generate_address_lines(country)\n",
    "    \n",
    "    print(\"Address Line 1:\", address['address_line1'])\n",
    "    print(\"Address Line 2:\", address['address_line2'])\n",
    "    print(\"Address Line 3:\", address['address_line3'])\n",
    "    print(\"Address Line 4:\", address['address_line4'])\n",
    "    print(\"town:\", address['city_suffix'])\n",
    "    print(\"city:\", address['city'])\n",
    "    print(\"county:\", address['county'])\n",
    "    print(\"country:\", country)\n",
    "    print(\"postcode:\", address['postcode'])\n",
    "    print(\"partial_address:\", address['partial_address'])\n",
    "    print(\"Full Address:\", address['full_address'])\n",
    "    print(\"\\n\")\n"
   ]
  },
  {
   "cell_type": "markdown",
   "id": "c08cf4a6",
   "metadata": {},
   "source": [
    "## test date function - generate_random_date"
   ]
  },
  {
   "cell_type": "code",
   "execution_count": 147,
   "id": "2d2df53f",
   "metadata": {},
   "outputs": [
    {
     "name": "stdout",
     "output_type": "stream",
     "text": [
      "2023-08-21\n"
     ]
    }
   ],
   "source": [
    "start_date = '2023-01-01'\n",
    "end_date = '2023-12-31'\n",
    "\n",
    "random_date = generate_random_date(start_date, end_date)\n",
    "print(random_date)"
   ]
  },
  {
   "cell_type": "markdown",
   "id": "3d64cff8",
   "metadata": {},
   "source": [
    "## test enumerate value function - choose_random_element"
   ]
  },
  {
   "cell_type": "code",
   "execution_count": 148,
   "id": "d4913bbd",
   "metadata": {},
   "outputs": [
    {
     "name": "stdout",
     "output_type": "stream",
     "text": [
      "F\n"
     ]
    }
   ],
   "source": [
    "elements = ['J','F']\n",
    "random_choice = choose_random_element(elements)\n",
    "print(random_choice)"
   ]
  },
  {
   "cell_type": "markdown",
   "id": "9d363246",
   "metadata": {},
   "source": [
    "## test random numbers function - generate_random_number"
   ]
  },
  {
   "cell_type": "code",
   "execution_count": 149,
   "id": "2e5380ea",
   "metadata": {},
   "outputs": [
    {
     "name": "stdout",
     "output_type": "stream",
     "text": [
      "30214\n"
     ]
    }
   ],
   "source": [
    "digits = 5 \n",
    "random_number = generate_random_number(digits)\n",
    "print(random_number)"
   ]
  },
  {
   "cell_type": "code",
   "execution_count": 150,
   "id": "4608819b",
   "metadata": {},
   "outputs": [],
   "source": [
    "data = []\n",
    "for _ in range(1000):\n",
    "    address = generate_address_lines('United Kingdom')\n",
    "    cust_id=generate_random_number(10)\n",
    "    id1=_\n",
    "    num=''\n",
    "    addr_typ_desc=choose_random_element(['Residential'])\n",
    "    addr_format_desc=''\n",
    "    postbox_typ_desc=''\n",
    "    active_from=generate_random_date('1900-01-01', '2023-12-31')\n",
    "    active_to=generate_random_date('1900-01-01', '2023-12-31')\n",
    "    update_date=generate_random_date('1900-01-01', '2023-12-31')\n",
    "    permise_id=address['building_number']\n",
    "    alt_premise_name=address['secondary_address']\n",
    "    address_line_1=address['address_line1']\n",
    "    address_line_2=address['address_line2']\n",
    "    address_line_3=address['address_line3']\n",
    "    address_line_4=address['address_line4']\n",
    "    address_post_code=address['postcode']\n",
    "    address_post_town=address['city_suffix']\n",
    "    address_country='United Kingdom'\n",
    "    extra_info=''\n",
    "    consolidated_address_partial=address['partial_address']\n",
    "    consolidated_address_full=address['full_address']\n",
    "    \n",
    "    data_column=['cust_id','id1','num','addr_typ_desc','addr_format_desc','postbox_typ_desc','active_from','active_to', 'update_date','permise_id','alt_premise_name','address_line_1','address_line_2','address_line_3','address_line_4','address_post_code','address_post_town','address_country','extra_info','consolidated_address_partial','consolidated_address_full']\n",
    "    data_list=[cust_id,id1,num,addr_typ_desc,addr_format_desc,postbox_typ_desc,active_from,active_to,update_date,permise_id,alt_premise_name,address_line_1,address_line_2,address_line_3,address_line_4,address_post_code,address_post_town,address_country,extra_info,consolidated_address_partial,consolidated_address_full]\n",
    "    data.append(data_list)\n",
    "    \n",
    "df = pd.DataFrame(data, columns=data_column)\n"
   ]
  },
  {
   "cell_type": "code",
   "execution_count": 151,
   "id": "ef4114b6",
   "metadata": {},
   "outputs": [],
   "source": [
    "df.to_excel('/Users/zhangdi/Desktop/mock_address_data.xlsx', index=False)"
   ]
  },
  {
   "cell_type": "code",
   "execution_count": null,
   "id": "acf68d72",
   "metadata": {},
   "outputs": [],
   "source": []
  }
 ],
 "metadata": {
  "kernelspec": {
   "display_name": "Python 3 (ipykernel)",
   "language": "python",
   "name": "python3"
  },
  "language_info": {
   "codemirror_mode": {
    "name": "ipython",
    "version": 3
   },
   "file_extension": ".py",
   "mimetype": "text/x-python",
   "name": "python",
   "nbconvert_exporter": "python",
   "pygments_lexer": "ipython3",
   "version": "3.11.3"
  },
  "toc": {
   "base_numbering": 1,
   "nav_menu": {},
   "number_sections": true,
   "sideBar": true,
   "skip_h1_title": false,
   "title_cell": "Table of Contents",
   "title_sidebar": "Contents",
   "toc_cell": false,
   "toc_position": {
    "height": "calc(100% - 180px)",
    "left": "10px",
    "top": "150px",
    "width": "296.391px"
   },
   "toc_section_display": true,
   "toc_window_display": true
  },
  "varInspector": {
   "cols": {
    "lenName": 16,
    "lenType": 16,
    "lenVar": 40
   },
   "kernels_config": {
    "python": {
     "delete_cmd_postfix": "",
     "delete_cmd_prefix": "del ",
     "library": "var_list.py",
     "varRefreshCmd": "print(var_dic_list())"
    },
    "r": {
     "delete_cmd_postfix": ") ",
     "delete_cmd_prefix": "rm(",
     "library": "var_list.r",
     "varRefreshCmd": "cat(var_dic_list()) "
    }
   },
   "types_to_exclude": [
    "module",
    "function",
    "builtin_function_or_method",
    "instance",
    "_Feature"
   ],
   "window_display": false
  }
 },
 "nbformat": 4,
 "nbformat_minor": 5
}
