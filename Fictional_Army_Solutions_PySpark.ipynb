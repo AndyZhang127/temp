{
  "nbformat": 4,
  "nbformat_minor": 0,
  "metadata": {
    "colab": {
      "name": "Fictional Army_Solutions_PySpark.ipynb",
      "provenance": [],
      "collapsed_sections": [],
      "authorship_tag": "ABX9TyP/pJxrLlBcD33nuBqW6ujL",
      "include_colab_link": true
    },
    "kernelspec": {
      "name": "python3",
      "display_name": "Python 3"
    },
    "language_info": {
      "name": "python"
    }
  },
  "cells": [
    {
      "cell_type": "markdown",
      "metadata": {
        "id": "view-in-github",
        "colab_type": "text"
      },
      "source": [
        "<a href=\"https://colab.research.google.com/github/AndyZhang127/temp/blob/main/Fictional_Army_Solutions_PySpark.ipynb\" target=\"_parent\"><img src=\"https://colab.research.google.com/assets/colab-badge.svg\" alt=\"Open In Colab\"/></a>"
      ]
    },
    {
      "cell_type": "code",
      "source": [
        "pip install pyspark"
      ],
      "metadata": {
        "id": "zV1x0Fu4SagB",
        "colab": {
          "base_uri": "https://localhost:8080/",
          "height": 0
        },
        "outputId": "b0a3666c-7515-4ca8-e46c-2b2c27219ed9"
      },
      "execution_count": 1,
      "outputs": [
        {
          "output_type": "stream",
          "name": "stdout",
          "text": [
            "Looking in indexes: https://pypi.org/simple, https://us-python.pkg.dev/colab-wheels/public/simple/\n",
            "Collecting pyspark\n",
            "  Downloading pyspark-3.3.0.tar.gz (281.3 MB)\n",
            "\u001b[K     |████████████████████████████████| 281.3 MB 43 kB/s \n",
            "\u001b[?25hCollecting py4j==0.10.9.5\n",
            "  Downloading py4j-0.10.9.5-py2.py3-none-any.whl (199 kB)\n",
            "\u001b[K     |████████████████████████████████| 199 kB 61.3 MB/s \n",
            "\u001b[?25hBuilding wheels for collected packages: pyspark\n",
            "  Building wheel for pyspark (setup.py) ... \u001b[?25l\u001b[?25hdone\n",
            "  Created wheel for pyspark: filename=pyspark-3.3.0-py2.py3-none-any.whl size=281764026 sha256=17eb4894efe7bc9643b1726d304d2f3c02409cfb36afd4ed482301cb92db0a73\n",
            "  Stored in directory: /root/.cache/pip/wheels/7a/8e/1b/f73a52650d2e5f337708d9f6a1750d451a7349a867f928b885\n",
            "Successfully built pyspark\n",
            "Installing collected packages: py4j, pyspark\n",
            "Successfully installed py4j-0.10.9.5 pyspark-3.3.0\n"
          ]
        }
      ]
    },
    {
      "cell_type": "code",
      "execution_count": 2,
      "metadata": {
        "id": "HDg4-SgDOcJP",
        "colab": {
          "base_uri": "https://localhost:8080/",
          "height": 221
        },
        "outputId": "691f9384-b875-406b-876c-0641961b7fea"
      },
      "outputs": [
        {
          "output_type": "execute_result",
          "data": {
            "text/plain": [
              "<pyspark.sql.session.SparkSession at 0x7f8a3064e490>"
            ],
            "text/html": [
              "\n",
              "            <div>\n",
              "                <p><b>SparkSession - in-memory</b></p>\n",
              "                \n",
              "        <div>\n",
              "            <p><b>SparkContext</b></p>\n",
              "\n",
              "            <p><a href=\"http://479df98761dd:4040\">Spark UI</a></p>\n",
              "\n",
              "            <dl>\n",
              "              <dt>Version</dt>\n",
              "                <dd><code>v3.3.0</code></dd>\n",
              "              <dt>Master</dt>\n",
              "                <dd><code>local[*]</code></dd>\n",
              "              <dt>AppName</dt>\n",
              "                <dd><code>EX1</code></dd>\n",
              "            </dl>\n",
              "        </div>\n",
              "        \n",
              "            </div>\n",
              "        "
            ]
          },
          "metadata": {},
          "execution_count": 2
        }
      ],
      "source": [
        "# Step 1.Import the necessary libraries\n",
        "import pandas as pd\n",
        "from pyspark.sql import SparkSession\n",
        "\n",
        "spark=SparkSession.builder.appName(\"EX1\").getOrCreate()\n",
        "spark"
      ]
    },
    {
      "cell_type": "code",
      "source": [
        "# Step 2.This is the data given as a dictionary\n",
        "raw_data = {'regiment': ['Nighthawks', 'Nighthawks', 'Nighthawks', 'Nighthawks', 'Dragoons', 'Dragoons', 'Dragoons', 'Dragoons', 'Scouts', 'Scouts', 'Scouts', 'Scouts'],\n",
        "            'company': ['1st', '1st', '2nd', '2nd', '1st', '1st', '2nd', '2nd','1st', '1st', '2nd', '2nd'],\n",
        "            'deaths': [523, 52, 25, 616, 43, 234, 523, 62, 62, 73, 37, 35],\n",
        "            'battles': [5, 42, 2, 2, 4, 7, 8, 3, 4, 7, 8, 9],\n",
        "            'size': [1045, 957, 1099, 1400, 1592, 1006, 987, 849, 973, 1005, 1099, 1523],\n",
        "            'veterans': [1, 5, 62, 26, 73, 37, 949, 48, 48, 435, 63, 345],\n",
        "            'readiness': [1, 2, 3, 3, 2, 1, 2, 3, 2, 1, 2, 3],\n",
        "            'armored': [1, 0, 1, 1, 0, 1, 0, 1, 0, 0, 1, 1],\n",
        "            'deserters': [4, 24, 31, 2, 3, 4, 24, 31, 2, 3, 2, 3],\n",
        "            'origin':['Arizona', 'California', 'Texas', 'Florida', 'Maine', 'Iowa', 'Alaska','Nighthawks','Dragoons','Washington','Scouts','Wyoming'],\n",
        "\n",
        "            }\n"
      ],
      "metadata": {
        "id": "ZLUNPCzPPYP4"
      },
      "execution_count": 3,
      "outputs": []
    },
    {
      "cell_type": "code",
      "source": [
        "raw_data_df=pd.DataFrame(data=raw_data)\n",
        "raw_data_df"
      ],
      "metadata": {
        "id": "i4dYpm0TW-kd",
        "colab": {
          "base_uri": "https://localhost:8080/",
          "height": 426
        },
        "outputId": "5cb94a65-fe56-48f8-e2b9-2f2aa73ca580"
      },
      "execution_count": 4,
      "outputs": [
        {
          "output_type": "execute_result",
          "data": {
            "text/plain": [
              "      regiment company  deaths  battles  size  veterans  readiness  armored  \\\n",
              "0   Nighthawks     1st     523        5  1045         1          1        1   \n",
              "1   Nighthawks     1st      52       42   957         5          2        0   \n",
              "2   Nighthawks     2nd      25        2  1099        62          3        1   \n",
              "3   Nighthawks     2nd     616        2  1400        26          3        1   \n",
              "4     Dragoons     1st      43        4  1592        73          2        0   \n",
              "5     Dragoons     1st     234        7  1006        37          1        1   \n",
              "6     Dragoons     2nd     523        8   987       949          2        0   \n",
              "7     Dragoons     2nd      62        3   849        48          3        1   \n",
              "8       Scouts     1st      62        4   973        48          2        0   \n",
              "9       Scouts     1st      73        7  1005       435          1        0   \n",
              "10      Scouts     2nd      37        8  1099        63          2        1   \n",
              "11      Scouts     2nd      35        9  1523       345          3        1   \n",
              "\n",
              "    deserters      origin  \n",
              "0           4     Arizona  \n",
              "1          24  California  \n",
              "2          31       Texas  \n",
              "3           2     Florida  \n",
              "4           3       Maine  \n",
              "5           4        Iowa  \n",
              "6          24      Alaska  \n",
              "7          31  Nighthawks  \n",
              "8           2    Dragoons  \n",
              "9           3  Washington  \n",
              "10          2      Scouts  \n",
              "11          3     Wyoming  "
            ],
            "text/html": [
              "\n",
              "  <div id=\"df-2ab385ea-6fa3-43f5-ae32-ef3e90308b68\">\n",
              "    <div class=\"colab-df-container\">\n",
              "      <div>\n",
              "<style scoped>\n",
              "    .dataframe tbody tr th:only-of-type {\n",
              "        vertical-align: middle;\n",
              "    }\n",
              "\n",
              "    .dataframe tbody tr th {\n",
              "        vertical-align: top;\n",
              "    }\n",
              "\n",
              "    .dataframe thead th {\n",
              "        text-align: right;\n",
              "    }\n",
              "</style>\n",
              "<table border=\"1\" class=\"dataframe\">\n",
              "  <thead>\n",
              "    <tr style=\"text-align: right;\">\n",
              "      <th></th>\n",
              "      <th>regiment</th>\n",
              "      <th>company</th>\n",
              "      <th>deaths</th>\n",
              "      <th>battles</th>\n",
              "      <th>size</th>\n",
              "      <th>veterans</th>\n",
              "      <th>readiness</th>\n",
              "      <th>armored</th>\n",
              "      <th>deserters</th>\n",
              "      <th>origin</th>\n",
              "    </tr>\n",
              "  </thead>\n",
              "  <tbody>\n",
              "    <tr>\n",
              "      <th>0</th>\n",
              "      <td>Nighthawks</td>\n",
              "      <td>1st</td>\n",
              "      <td>523</td>\n",
              "      <td>5</td>\n",
              "      <td>1045</td>\n",
              "      <td>1</td>\n",
              "      <td>1</td>\n",
              "      <td>1</td>\n",
              "      <td>4</td>\n",
              "      <td>Arizona</td>\n",
              "    </tr>\n",
              "    <tr>\n",
              "      <th>1</th>\n",
              "      <td>Nighthawks</td>\n",
              "      <td>1st</td>\n",
              "      <td>52</td>\n",
              "      <td>42</td>\n",
              "      <td>957</td>\n",
              "      <td>5</td>\n",
              "      <td>2</td>\n",
              "      <td>0</td>\n",
              "      <td>24</td>\n",
              "      <td>California</td>\n",
              "    </tr>\n",
              "    <tr>\n",
              "      <th>2</th>\n",
              "      <td>Nighthawks</td>\n",
              "      <td>2nd</td>\n",
              "      <td>25</td>\n",
              "      <td>2</td>\n",
              "      <td>1099</td>\n",
              "      <td>62</td>\n",
              "      <td>3</td>\n",
              "      <td>1</td>\n",
              "      <td>31</td>\n",
              "      <td>Texas</td>\n",
              "    </tr>\n",
              "    <tr>\n",
              "      <th>3</th>\n",
              "      <td>Nighthawks</td>\n",
              "      <td>2nd</td>\n",
              "      <td>616</td>\n",
              "      <td>2</td>\n",
              "      <td>1400</td>\n",
              "      <td>26</td>\n",
              "      <td>3</td>\n",
              "      <td>1</td>\n",
              "      <td>2</td>\n",
              "      <td>Florida</td>\n",
              "    </tr>\n",
              "    <tr>\n",
              "      <th>4</th>\n",
              "      <td>Dragoons</td>\n",
              "      <td>1st</td>\n",
              "      <td>43</td>\n",
              "      <td>4</td>\n",
              "      <td>1592</td>\n",
              "      <td>73</td>\n",
              "      <td>2</td>\n",
              "      <td>0</td>\n",
              "      <td>3</td>\n",
              "      <td>Maine</td>\n",
              "    </tr>\n",
              "    <tr>\n",
              "      <th>5</th>\n",
              "      <td>Dragoons</td>\n",
              "      <td>1st</td>\n",
              "      <td>234</td>\n",
              "      <td>7</td>\n",
              "      <td>1006</td>\n",
              "      <td>37</td>\n",
              "      <td>1</td>\n",
              "      <td>1</td>\n",
              "      <td>4</td>\n",
              "      <td>Iowa</td>\n",
              "    </tr>\n",
              "    <tr>\n",
              "      <th>6</th>\n",
              "      <td>Dragoons</td>\n",
              "      <td>2nd</td>\n",
              "      <td>523</td>\n",
              "      <td>8</td>\n",
              "      <td>987</td>\n",
              "      <td>949</td>\n",
              "      <td>2</td>\n",
              "      <td>0</td>\n",
              "      <td>24</td>\n",
              "      <td>Alaska</td>\n",
              "    </tr>\n",
              "    <tr>\n",
              "      <th>7</th>\n",
              "      <td>Dragoons</td>\n",
              "      <td>2nd</td>\n",
              "      <td>62</td>\n",
              "      <td>3</td>\n",
              "      <td>849</td>\n",
              "      <td>48</td>\n",
              "      <td>3</td>\n",
              "      <td>1</td>\n",
              "      <td>31</td>\n",
              "      <td>Nighthawks</td>\n",
              "    </tr>\n",
              "    <tr>\n",
              "      <th>8</th>\n",
              "      <td>Scouts</td>\n",
              "      <td>1st</td>\n",
              "      <td>62</td>\n",
              "      <td>4</td>\n",
              "      <td>973</td>\n",
              "      <td>48</td>\n",
              "      <td>2</td>\n",
              "      <td>0</td>\n",
              "      <td>2</td>\n",
              "      <td>Dragoons</td>\n",
              "    </tr>\n",
              "    <tr>\n",
              "      <th>9</th>\n",
              "      <td>Scouts</td>\n",
              "      <td>1st</td>\n",
              "      <td>73</td>\n",
              "      <td>7</td>\n",
              "      <td>1005</td>\n",
              "      <td>435</td>\n",
              "      <td>1</td>\n",
              "      <td>0</td>\n",
              "      <td>3</td>\n",
              "      <td>Washington</td>\n",
              "    </tr>\n",
              "    <tr>\n",
              "      <th>10</th>\n",
              "      <td>Scouts</td>\n",
              "      <td>2nd</td>\n",
              "      <td>37</td>\n",
              "      <td>8</td>\n",
              "      <td>1099</td>\n",
              "      <td>63</td>\n",
              "      <td>2</td>\n",
              "      <td>1</td>\n",
              "      <td>2</td>\n",
              "      <td>Scouts</td>\n",
              "    </tr>\n",
              "    <tr>\n",
              "      <th>11</th>\n",
              "      <td>Scouts</td>\n",
              "      <td>2nd</td>\n",
              "      <td>35</td>\n",
              "      <td>9</td>\n",
              "      <td>1523</td>\n",
              "      <td>345</td>\n",
              "      <td>3</td>\n",
              "      <td>1</td>\n",
              "      <td>3</td>\n",
              "      <td>Wyoming</td>\n",
              "    </tr>\n",
              "  </tbody>\n",
              "</table>\n",
              "</div>\n",
              "      <button class=\"colab-df-convert\" onclick=\"convertToInteractive('df-2ab385ea-6fa3-43f5-ae32-ef3e90308b68')\"\n",
              "              title=\"Convert this dataframe to an interactive table.\"\n",
              "              style=\"display:none;\">\n",
              "        \n",
              "  <svg xmlns=\"http://www.w3.org/2000/svg\" height=\"24px\"viewBox=\"0 0 24 24\"\n",
              "       width=\"24px\">\n",
              "    <path d=\"M0 0h24v24H0V0z\" fill=\"none\"/>\n",
              "    <path d=\"M18.56 5.44l.94 2.06.94-2.06 2.06-.94-2.06-.94-.94-2.06-.94 2.06-2.06.94zm-11 1L8.5 8.5l.94-2.06 2.06-.94-2.06-.94L8.5 2.5l-.94 2.06-2.06.94zm10 10l.94 2.06.94-2.06 2.06-.94-2.06-.94-.94-2.06-.94 2.06-2.06.94z\"/><path d=\"M17.41 7.96l-1.37-1.37c-.4-.4-.92-.59-1.43-.59-.52 0-1.04.2-1.43.59L10.3 9.45l-7.72 7.72c-.78.78-.78 2.05 0 2.83L4 21.41c.39.39.9.59 1.41.59.51 0 1.02-.2 1.41-.59l7.78-7.78 2.81-2.81c.8-.78.8-2.07 0-2.86zM5.41 20L4 18.59l7.72-7.72 1.47 1.35L5.41 20z\"/>\n",
              "  </svg>\n",
              "      </button>\n",
              "      \n",
              "  <style>\n",
              "    .colab-df-container {\n",
              "      display:flex;\n",
              "      flex-wrap:wrap;\n",
              "      gap: 12px;\n",
              "    }\n",
              "\n",
              "    .colab-df-convert {\n",
              "      background-color: #E8F0FE;\n",
              "      border: none;\n",
              "      border-radius: 50%;\n",
              "      cursor: pointer;\n",
              "      display: none;\n",
              "      fill: #1967D2;\n",
              "      height: 32px;\n",
              "      padding: 0 0 0 0;\n",
              "      width: 32px;\n",
              "    }\n",
              "\n",
              "    .colab-df-convert:hover {\n",
              "      background-color: #E2EBFA;\n",
              "      box-shadow: 0px 1px 2px rgba(60, 64, 67, 0.3), 0px 1px 3px 1px rgba(60, 64, 67, 0.15);\n",
              "      fill: #174EA6;\n",
              "    }\n",
              "\n",
              "    [theme=dark] .colab-df-convert {\n",
              "      background-color: #3B4455;\n",
              "      fill: #D2E3FC;\n",
              "    }\n",
              "\n",
              "    [theme=dark] .colab-df-convert:hover {\n",
              "      background-color: #434B5C;\n",
              "      box-shadow: 0px 1px 3px 1px rgba(0, 0, 0, 0.15);\n",
              "      filter: drop-shadow(0px 1px 2px rgba(0, 0, 0, 0.3));\n",
              "      fill: #FFFFFF;\n",
              "    }\n",
              "  </style>\n",
              "\n",
              "      <script>\n",
              "        const buttonEl =\n",
              "          document.querySelector('#df-2ab385ea-6fa3-43f5-ae32-ef3e90308b68 button.colab-df-convert');\n",
              "        buttonEl.style.display =\n",
              "          google.colab.kernel.accessAllowed ? 'block' : 'none';\n",
              "\n",
              "        async function convertToInteractive(key) {\n",
              "          const element = document.querySelector('#df-2ab385ea-6fa3-43f5-ae32-ef3e90308b68');\n",
              "          const dataTable =\n",
              "            await google.colab.kernel.invokeFunction('convertToInteractive',\n",
              "                                                     [key], {});\n",
              "          if (!dataTable) return;\n",
              "\n",
              "          const docLinkHtml = 'Like what you see? Visit the ' +\n",
              "            '<a target=\"_blank\" href=https://colab.research.google.com/notebooks/data_table.ipynb>data table notebook</a>'\n",
              "            + ' to learn more about interactive tables.';\n",
              "          element.innerHTML = '';\n",
              "          dataTable['output_type'] = 'display_data';\n",
              "          await google.colab.output.renderOutput(dataTable, element);\n",
              "          const docLink = document.createElement('div');\n",
              "          docLink.innerHTML = docLinkHtml;\n",
              "          element.appendChild(docLink);\n",
              "        }\n",
              "      </script>\n",
              "    </div>\n",
              "  </div>\n",
              "  "
            ]
          },
          "metadata": {},
          "execution_count": 4
        }
      ]
    },
    {
      "cell_type": "code",
      "source": [
        "# Step 3. Create a dataframe and assign it to a variable called army.\n",
        "army=spark.createDataFrame(data=pd.DataFrame(data=raw_data))\n",
        "army.show()"
      ],
      "metadata": {
        "id": "WqmXGEkmQAz7",
        "colab": {
          "base_uri": "https://localhost:8080/",
          "height": 0
        },
        "outputId": "b582b8b6-b392-4b3d-97a2-bdd10a470ad5"
      },
      "execution_count": 5,
      "outputs": [
        {
          "output_type": "stream",
          "name": "stdout",
          "text": [
            "+----------+-------+------+-------+----+--------+---------+-------+---------+----------+\n",
            "|  regiment|company|deaths|battles|size|veterans|readiness|armored|deserters|    origin|\n",
            "+----------+-------+------+-------+----+--------+---------+-------+---------+----------+\n",
            "|Nighthawks|    1st|   523|      5|1045|       1|        1|      1|        4|   Arizona|\n",
            "|Nighthawks|    1st|    52|     42| 957|       5|        2|      0|       24|California|\n",
            "|Nighthawks|    2nd|    25|      2|1099|      62|        3|      1|       31|     Texas|\n",
            "|Nighthawks|    2nd|   616|      2|1400|      26|        3|      1|        2|   Florida|\n",
            "|  Dragoons|    1st|    43|      4|1592|      73|        2|      0|        3|     Maine|\n",
            "|  Dragoons|    1st|   234|      7|1006|      37|        1|      1|        4|      Iowa|\n",
            "|  Dragoons|    2nd|   523|      8| 987|     949|        2|      0|       24|    Alaska|\n",
            "|  Dragoons|    2nd|    62|      3| 849|      48|        3|      1|       31|Nighthawks|\n",
            "|    Scouts|    1st|    62|      4| 973|      48|        2|      0|        2|  Dragoons|\n",
            "|    Scouts|    1st|    73|      7|1005|     435|        1|      0|        3|Washington|\n",
            "|    Scouts|    2nd|    37|      8|1099|      63|        2|      1|        2|    Scouts|\n",
            "|    Scouts|    2nd|    35|      9|1523|     345|        3|      1|        3|   Wyoming|\n",
            "+----------+-------+------+-------+----+--------+---------+-------+---------+----------+\n",
            "\n"
          ]
        }
      ]
    },
    {
      "cell_type": "code",
      "source": [
        "# Step 4.Set the 'origin' colum as the index of the dataframe\n"
      ],
      "metadata": {
        "id": "jJ-NvA0uWLk5"
      },
      "execution_count": null,
      "outputs": []
    },
    {
      "cell_type": "code",
      "source": [
        "# Step 5.Print only the column veterans\n",
        "army.select(\"veterans\").show()"
      ],
      "metadata": {
        "id": "DPoYk1fxlc1_",
        "colab": {
          "base_uri": "https://localhost:8080/",
          "height": 0
        },
        "outputId": "a04f225e-22b0-4539-97b3-e43e138fc298"
      },
      "execution_count": 6,
      "outputs": [
        {
          "output_type": "stream",
          "name": "stdout",
          "text": [
            "+--------+\n",
            "|veterans|\n",
            "+--------+\n",
            "|       1|\n",
            "|       5|\n",
            "|      62|\n",
            "|      26|\n",
            "|      73|\n",
            "|      37|\n",
            "|     949|\n",
            "|      48|\n",
            "|      48|\n",
            "|     435|\n",
            "|      63|\n",
            "|     345|\n",
            "+--------+\n",
            "\n"
          ]
        }
      ]
    },
    {
      "cell_type": "code",
      "source": [
        "# Step 6. Print the columns 'veterans' and 'deaths'\n",
        "army.select(\"veterans\",\"deaths\").show()"
      ],
      "metadata": {
        "id": "dO6uBZsQmimP",
        "colab": {
          "base_uri": "https://localhost:8080/",
          "height": 0
        },
        "outputId": "d5ff5dac-2a76-4f65-de5c-b7adcf0826bb"
      },
      "execution_count": 7,
      "outputs": [
        {
          "output_type": "stream",
          "name": "stdout",
          "text": [
            "+--------+------+\n",
            "|veterans|deaths|\n",
            "+--------+------+\n",
            "|       1|   523|\n",
            "|       5|    52|\n",
            "|      62|    25|\n",
            "|      26|   616|\n",
            "|      73|    43|\n",
            "|      37|   234|\n",
            "|     949|   523|\n",
            "|      48|    62|\n",
            "|      48|    62|\n",
            "|     435|    73|\n",
            "|      63|    37|\n",
            "|     345|    35|\n",
            "+--------+------+\n",
            "\n"
          ]
        }
      ]
    },
    {
      "cell_type": "code",
      "source": [
        "# Step 7. Print the name of all the columns\n",
        "army.columns"
      ],
      "metadata": {
        "id": "0yPPTGLVm8Ve",
        "colab": {
          "base_uri": "https://localhost:8080/",
          "height": 0
        },
        "outputId": "79156e30-f0ff-4cc6-b5a7-beb551b1fe4f"
      },
      "execution_count": 8,
      "outputs": [
        {
          "output_type": "execute_result",
          "data": {
            "text/plain": [
              "['regiment',\n",
              " 'company',\n",
              " 'deaths',\n",
              " 'battles',\n",
              " 'size',\n",
              " 'veterans',\n",
              " 'readiness',\n",
              " 'armored',\n",
              " 'deserters',\n",
              " 'origin']"
            ]
          },
          "metadata": {},
          "execution_count": 8
        }
      ]
    },
    {
      "cell_type": "code",
      "source": [
        "# Step 8. Select the 'deaths', 'size' and 'deserters' columns from Maine and Alaska\n",
        "origins=[\"Maine\",\"Alaska\"]\n",
        "cols=[\"deaths\",\"size\",\"deserters\"]\n",
        "army.select(cols).filter(army.origin.isin(origins)).show()"
      ],
      "metadata": {
        "id": "f1871zw9nFVz",
        "colab": {
          "base_uri": "https://localhost:8080/",
          "height": 0
        },
        "outputId": "04776200-0ad0-43b4-feb3-c9f385b9d1ec"
      },
      "execution_count": 9,
      "outputs": [
        {
          "output_type": "stream",
          "name": "stdout",
          "text": [
            "+------+----+---------+\n",
            "|deaths|size|deserters|\n",
            "+------+----+---------+\n",
            "|    43|1592|        3|\n",
            "|   523| 987|       24|\n",
            "+------+----+---------+\n",
            "\n"
          ]
        }
      ]
    },
    {
      "cell_type": "code",
      "source": [
        "# Step 9. Select the rows 3 to 7 and the columns 3 to 6\n",
        "army.select(army.columns[2:6]).collect()[2:7]"
      ],
      "metadata": {
        "colab": {
          "base_uri": "https://localhost:8080/",
          "height": 0
        },
        "id": "pQJC8DDknVjH",
        "outputId": "d7d8f690-42f9-4336-95da-9e9fc16d6b09"
      },
      "execution_count": 10,
      "outputs": [
        {
          "output_type": "execute_result",
          "data": {
            "text/plain": [
              "[Row(deaths=25, battles=2, size=1099, veterans=62),\n",
              " Row(deaths=616, battles=2, size=1400, veterans=26),\n",
              " Row(deaths=43, battles=4, size=1592, veterans=73),\n",
              " Row(deaths=234, battles=7, size=1006, veterans=37),\n",
              " Row(deaths=523, battles=8, size=987, veterans=949)]"
            ]
          },
          "metadata": {},
          "execution_count": 10
        }
      ]
    },
    {
      "cell_type": "code",
      "source": [
        "# Step 10. Select every row after the fourth row and all columns\n",
        "army.collect()[3:]"
      ],
      "metadata": {
        "id": "CQCteaGHn_Nu",
        "colab": {
          "base_uri": "https://localhost:8080/",
          "height": 0
        },
        "outputId": "b5811dc8-fa86-4687-fe7a-e25744818bca"
      },
      "execution_count": 11,
      "outputs": [
        {
          "output_type": "execute_result",
          "data": {
            "text/plain": [
              "[Row(regiment='Nighthawks', company='2nd', deaths=616, battles=2, size=1400, veterans=26, readiness=3, armored=1, deserters=2, origin='Florida'),\n",
              " Row(regiment='Dragoons', company='1st', deaths=43, battles=4, size=1592, veterans=73, readiness=2, armored=0, deserters=3, origin='Maine'),\n",
              " Row(regiment='Dragoons', company='1st', deaths=234, battles=7, size=1006, veterans=37, readiness=1, armored=1, deserters=4, origin='Iowa'),\n",
              " Row(regiment='Dragoons', company='2nd', deaths=523, battles=8, size=987, veterans=949, readiness=2, armored=0, deserters=24, origin='Alaska'),\n",
              " Row(regiment='Dragoons', company='2nd', deaths=62, battles=3, size=849, veterans=48, readiness=3, armored=1, deserters=31, origin='Nighthawks'),\n",
              " Row(regiment='Scouts', company='1st', deaths=62, battles=4, size=973, veterans=48, readiness=2, armored=0, deserters=2, origin='Dragoons'),\n",
              " Row(regiment='Scouts', company='1st', deaths=73, battles=7, size=1005, veterans=435, readiness=1, armored=0, deserters=3, origin='Washington'),\n",
              " Row(regiment='Scouts', company='2nd', deaths=37, battles=8, size=1099, veterans=63, readiness=2, armored=1, deserters=2, origin='Scouts'),\n",
              " Row(regiment='Scouts', company='2nd', deaths=35, battles=9, size=1523, veterans=345, readiness=3, armored=1, deserters=3, origin='Wyoming')]"
            ]
          },
          "metadata": {},
          "execution_count": 11
        }
      ]
    },
    {
      "cell_type": "code",
      "source": [
        "# Step 11. Select every row up to the 4th row and all columns\n",
        "army.collect()[:4]"
      ],
      "metadata": {
        "id": "u9n9FxOooOGv",
        "colab": {
          "base_uri": "https://localhost:8080/",
          "height": 0
        },
        "outputId": "7db9341b-5d09-4540-c736-d57390ac44b5"
      },
      "execution_count": 12,
      "outputs": [
        {
          "output_type": "execute_result",
          "data": {
            "text/plain": [
              "[Row(regiment='Nighthawks', company='1st', deaths=523, battles=5, size=1045, veterans=1, readiness=1, armored=1, deserters=4, origin='Arizona'),\n",
              " Row(regiment='Nighthawks', company='1st', deaths=52, battles=42, size=957, veterans=5, readiness=2, armored=0, deserters=24, origin='California'),\n",
              " Row(regiment='Nighthawks', company='2nd', deaths=25, battles=2, size=1099, veterans=62, readiness=3, armored=1, deserters=31, origin='Texas'),\n",
              " Row(regiment='Nighthawks', company='2nd', deaths=616, battles=2, size=1400, veterans=26, readiness=3, armored=1, deserters=2, origin='Florida')]"
            ]
          },
          "metadata": {},
          "execution_count": 12
        }
      ]
    },
    {
      "cell_type": "code",
      "source": [
        "# Step 12. Select the 3rd column up to the 7th column\n",
        "army.select(army.columns[2:7]).show(5)"
      ],
      "metadata": {
        "id": "VDDk-cgooaQD",
        "colab": {
          "base_uri": "https://localhost:8080/",
          "height": 0
        },
        "outputId": "89680c6e-4bfa-4bee-b621-62d91fdae327"
      },
      "execution_count": 13,
      "outputs": [
        {
          "output_type": "stream",
          "name": "stdout",
          "text": [
            "+------+-------+----+--------+---------+\n",
            "|deaths|battles|size|veterans|readiness|\n",
            "+------+-------+----+--------+---------+\n",
            "|   523|      5|1045|       1|        1|\n",
            "|    52|     42| 957|       5|        2|\n",
            "|    25|      2|1099|      62|        3|\n",
            "|   616|      2|1400|      26|        3|\n",
            "|    43|      4|1592|      73|        2|\n",
            "+------+-------+----+--------+---------+\n",
            "only showing top 5 rows\n",
            "\n"
          ]
        }
      ]
    },
    {
      "cell_type": "code",
      "source": [
        "# Step 13. Select rows where df.deaths is greater than 50\n",
        "army.filter(\"deaths>50\").show()"
      ],
      "metadata": {
        "id": "mPII9g-1ogXN",
        "colab": {
          "base_uri": "https://localhost:8080/",
          "height": 0
        },
        "outputId": "fa771750-a4d0-4ea3-f0a3-88bb7c71ea9a"
      },
      "execution_count": 14,
      "outputs": [
        {
          "output_type": "stream",
          "name": "stdout",
          "text": [
            "+----------+-------+------+-------+----+--------+---------+-------+---------+----------+\n",
            "|  regiment|company|deaths|battles|size|veterans|readiness|armored|deserters|    origin|\n",
            "+----------+-------+------+-------+----+--------+---------+-------+---------+----------+\n",
            "|Nighthawks|    1st|   523|      5|1045|       1|        1|      1|        4|   Arizona|\n",
            "|Nighthawks|    1st|    52|     42| 957|       5|        2|      0|       24|California|\n",
            "|Nighthawks|    2nd|   616|      2|1400|      26|        3|      1|        2|   Florida|\n",
            "|  Dragoons|    1st|   234|      7|1006|      37|        1|      1|        4|      Iowa|\n",
            "|  Dragoons|    2nd|   523|      8| 987|     949|        2|      0|       24|    Alaska|\n",
            "|  Dragoons|    2nd|    62|      3| 849|      48|        3|      1|       31|Nighthawks|\n",
            "|    Scouts|    1st|    62|      4| 973|      48|        2|      0|        2|  Dragoons|\n",
            "|    Scouts|    1st|    73|      7|1005|     435|        1|      0|        3|Washington|\n",
            "+----------+-------+------+-------+----+--------+---------+-------+---------+----------+\n",
            "\n"
          ]
        }
      ]
    },
    {
      "cell_type": "code",
      "source": [
        "# Step 14. Select rows where df.deaths is greater than 500 or less than 50\n",
        "# 1.solution1\n",
        "army.where((army.deaths>500) | (army.deaths <50)).show()"
      ],
      "metadata": {
        "id": "_n9IOEjaolZQ",
        "colab": {
          "base_uri": "https://localhost:8080/",
          "height": 0
        },
        "outputId": "b2495710-4bb8-488c-bfaf-a43e0861f236"
      },
      "execution_count": 15,
      "outputs": [
        {
          "output_type": "stream",
          "name": "stdout",
          "text": [
            "+----------+-------+------+-------+----+--------+---------+-------+---------+-------+\n",
            "|  regiment|company|deaths|battles|size|veterans|readiness|armored|deserters| origin|\n",
            "+----------+-------+------+-------+----+--------+---------+-------+---------+-------+\n",
            "|Nighthawks|    1st|   523|      5|1045|       1|        1|      1|        4|Arizona|\n",
            "|Nighthawks|    2nd|    25|      2|1099|      62|        3|      1|       31|  Texas|\n",
            "|Nighthawks|    2nd|   616|      2|1400|      26|        3|      1|        2|Florida|\n",
            "|  Dragoons|    1st|    43|      4|1592|      73|        2|      0|        3|  Maine|\n",
            "|  Dragoons|    2nd|   523|      8| 987|     949|        2|      0|       24| Alaska|\n",
            "|    Scouts|    2nd|    37|      8|1099|      63|        2|      1|        2| Scouts|\n",
            "|    Scouts|    2nd|    35|      9|1523|     345|        3|      1|        3|Wyoming|\n",
            "+----------+-------+------+-------+----+--------+---------+-------+---------+-------+\n",
            "\n"
          ]
        }
      ]
    },
    {
      "cell_type": "code",
      "source": [
        "# 2.solution2\n",
        "army.filter((army.deaths>500) | (army.deaths <50)).show()"
      ],
      "metadata": {
        "id": "RGBwuCxFtE1m",
        "colab": {
          "base_uri": "https://localhost:8080/",
          "height": 0
        },
        "outputId": "31a0d7a8-7ced-4713-c2cd-6bc888c71252"
      },
      "execution_count": 16,
      "outputs": [
        {
          "output_type": "stream",
          "name": "stdout",
          "text": [
            "+----------+-------+------+-------+----+--------+---------+-------+---------+-------+\n",
            "|  regiment|company|deaths|battles|size|veterans|readiness|armored|deserters| origin|\n",
            "+----------+-------+------+-------+----+--------+---------+-------+---------+-------+\n",
            "|Nighthawks|    1st|   523|      5|1045|       1|        1|      1|        4|Arizona|\n",
            "|Nighthawks|    2nd|    25|      2|1099|      62|        3|      1|       31|  Texas|\n",
            "|Nighthawks|    2nd|   616|      2|1400|      26|        3|      1|        2|Florida|\n",
            "|  Dragoons|    1st|    43|      4|1592|      73|        2|      0|        3|  Maine|\n",
            "|  Dragoons|    2nd|   523|      8| 987|     949|        2|      0|       24| Alaska|\n",
            "|    Scouts|    2nd|    37|      8|1099|      63|        2|      1|        2| Scouts|\n",
            "|    Scouts|    2nd|    35|      9|1523|     345|        3|      1|        3|Wyoming|\n",
            "+----------+-------+------+-------+----+--------+---------+-------+---------+-------+\n",
            "\n"
          ]
        }
      ]
    },
    {
      "cell_type": "code",
      "source": [
        "from numpy import isnat\n",
        "# Step 15. Select all the regiments not named \"Dragoons\"\n",
        "filters=[\"Dragoons\"]\n",
        "army.where(army.regiment != \"Dragoons\").show()"
      ],
      "metadata": {
        "id": "1wHVuEOloob5",
        "colab": {
          "base_uri": "https://localhost:8080/",
          "height": 0
        },
        "outputId": "2af43a42-f6a6-4f5b-dfcf-01e5286f28bd"
      },
      "execution_count": 17,
      "outputs": [
        {
          "output_type": "stream",
          "name": "stdout",
          "text": [
            "+----------+-------+------+-------+----+--------+---------+-------+---------+----------+\n",
            "|  regiment|company|deaths|battles|size|veterans|readiness|armored|deserters|    origin|\n",
            "+----------+-------+------+-------+----+--------+---------+-------+---------+----------+\n",
            "|Nighthawks|    1st|   523|      5|1045|       1|        1|      1|        4|   Arizona|\n",
            "|Nighthawks|    1st|    52|     42| 957|       5|        2|      0|       24|California|\n",
            "|Nighthawks|    2nd|    25|      2|1099|      62|        3|      1|       31|     Texas|\n",
            "|Nighthawks|    2nd|   616|      2|1400|      26|        3|      1|        2|   Florida|\n",
            "|    Scouts|    1st|    62|      4| 973|      48|        2|      0|        2|  Dragoons|\n",
            "|    Scouts|    1st|    73|      7|1005|     435|        1|      0|        3|Washington|\n",
            "|    Scouts|    2nd|    37|      8|1099|      63|        2|      1|        2|    Scouts|\n",
            "|    Scouts|    2nd|    35|      9|1523|     345|        3|      1|        3|   Wyoming|\n",
            "+----------+-------+------+-------+----+--------+---------+-------+---------+----------+\n",
            "\n"
          ]
        }
      ]
    },
    {
      "cell_type": "code",
      "source": [
        "# Step 16. Select the rows called Texas and Arizona\n",
        "origins=[\"Texas\",\"Arizona\"]\n",
        "army.where(army.origin.isin(origins)).show()"
      ],
      "metadata": {
        "id": "n3vx-T7poxAM",
        "colab": {
          "base_uri": "https://localhost:8080/",
          "height": 0
        },
        "outputId": "3ed997c0-3f5a-4444-9cc9-8e79ec1ce538"
      },
      "execution_count": 18,
      "outputs": [
        {
          "output_type": "stream",
          "name": "stdout",
          "text": [
            "+----------+-------+------+-------+----+--------+---------+-------+---------+-------+\n",
            "|  regiment|company|deaths|battles|size|veterans|readiness|armored|deserters| origin|\n",
            "+----------+-------+------+-------+----+--------+---------+-------+---------+-------+\n",
            "|Nighthawks|    1st|   523|      5|1045|       1|        1|      1|        4|Arizona|\n",
            "|Nighthawks|    2nd|    25|      2|1099|      62|        3|      1|       31|  Texas|\n",
            "+----------+-------+------+-------+----+--------+---------+-------+---------+-------+\n",
            "\n"
          ]
        }
      ]
    },
    {
      "cell_type": "code",
      "source": [
        "# Step 17. Select the third cell in the row named Arizona\n",
        "army.filter(army.origin=='Arizona').select(army.columns[2]).show()"
      ],
      "metadata": {
        "id": "9iMRt5Blo0hg",
        "colab": {
          "base_uri": "https://localhost:8080/",
          "height": 0
        },
        "outputId": "ed4feacf-faeb-421f-80d1-704ce6b329cc"
      },
      "execution_count": 19,
      "outputs": [
        {
          "output_type": "stream",
          "name": "stdout",
          "text": [
            "+------+\n",
            "|deaths|\n",
            "+------+\n",
            "|   523|\n",
            "+------+\n",
            "\n"
          ]
        }
      ]
    },
    {
      "cell_type": "code",
      "source": [
        "# Step 18. Select the third cell down in the column named deaths\n",
        "army.select(\"deaths\").collect()[2]"
      ],
      "metadata": {
        "id": "XVGjel9co6Bl",
        "colab": {
          "base_uri": "https://localhost:8080/",
          "height": 0
        },
        "outputId": "8d9b94d0-64d1-4cb2-9428-0d361aa7985c"
      },
      "execution_count": 20,
      "outputs": [
        {
          "output_type": "execute_result",
          "data": {
            "text/plain": [
              "Row(deaths=25)"
            ]
          },
          "metadata": {},
          "execution_count": 20
        }
      ]
    }
  ]
}