{
  "nbformat": 4,
  "nbformat_minor": 0,
  "metadata": {
    "colab": {
      "name": "Fictional Army_pyspark.ipynb",
      "provenance": [],
      "authorship_tag": "ABX9TyP/pJxrLlBcD33nuBqW6ujL",
      "include_colab_link": true
    },
    "kernelspec": {
      "name": "python3",
      "display_name": "Python 3"
    },
    "language_info": {
      "name": "python"
    }
  },
  "cells": [
    {
      "cell_type": "markdown",
      "metadata": {
        "id": "view-in-github",
        "colab_type": "text"
      },
      "source": [
        "<a href=\"https://colab.research.google.com/github/AndyZhang127/temp/blob/main/Fictional_Army_pyspark.ipynb\" target=\"_parent\"><img src=\"https://colab.research.google.com/assets/colab-badge.svg\" alt=\"Open In Colab\"/></a>"
      ]
    },
    {
      "cell_type": "code",
      "source": [
        "pip install pyspark"
      ],
      "metadata": {
        "id": "zV1x0Fu4SagB"
      },
      "execution_count": null,
      "outputs": []
    },
    {
      "cell_type": "code",
      "execution_count": null,
      "metadata": {
        "id": "HDg4-SgDOcJP",
        "colab": {
          "base_uri": "https://localhost:8080/",
          "height": 221
        },
        "outputId": "9dd7b09d-ae5b-4ed9-dec3-8d63ff49704e"
      },
      "outputs": [
        {
          "output_type": "execute_result",
          "data": {
            "text/plain": [
              "<pyspark.sql.session.SparkSession at 0x7f6163973b50>"
            ],
            "text/html": [
              "\n",
              "            <div>\n",
              "                <p><b>SparkSession - in-memory</b></p>\n",
              "                \n",
              "        <div>\n",
              "            <p><b>SparkContext</b></p>\n",
              "\n",
              "            <p><a href=\"http://2f9862b404d1:4040\">Spark UI</a></p>\n",
              "\n",
              "            <dl>\n",
              "              <dt>Version</dt>\n",
              "                <dd><code>v3.3.0</code></dd>\n",
              "              <dt>Master</dt>\n",
              "                <dd><code>local[*]</code></dd>\n",
              "              <dt>AppName</dt>\n",
              "                <dd><code>EX1</code></dd>\n",
              "            </dl>\n",
              "        </div>\n",
              "        \n",
              "            </div>\n",
              "        "
            ]
          },
          "metadata": {},
          "execution_count": 30
        }
      ],
      "source": [
        "# Step 1.Import the necessary libraries\n",
        "import pandas as pd\n",
        "from pyspark.sql import SparkSession\n",
        "\n",
        "spark=SparkSession.builder.appName(\"EX1\").getOrCreate()\n",
        "spark"
      ]
    },
    {
      "cell_type": "code",
      "source": [
        "# Step 2.This is the data given as a dictionary\n",
        "raw_data = {'regiment': ['Nighthawks', 'Nighthawks', 'Nighthawks', 'Nighthawks', 'Dragoons', 'Dragoons', 'Dragoons', 'Dragoons', 'Scouts', 'Scouts', 'Scouts', 'Scouts'],\n",
        "            'company': ['1st', '1st', '2nd', '2nd', '1st', '1st', '2nd', '2nd','1st', '1st', '2nd', '2nd'],\n",
        "            'deaths': [523, 52, 25, 616, 43, 234, 523, 62, 62, 73, 37, 35],\n",
        "            'battles': [5, 42, 2, 2, 4, 7, 8, 3, 4, 7, 8, 9],\n",
        "            'size': [1045, 957, 1099, 1400, 1592, 1006, 987, 849, 973, 1005, 1099, 1523],\n",
        "            'veterans': [1, 5, 62, 26, 73, 37, 949, 48, 48, 435, 63, 345],\n",
        "            'readiness': [1, 2, 3, 3, 2, 1, 2, 3, 2, 1, 2, 3],\n",
        "            'armored': [1, 0, 1, 1, 0, 1, 0, 1, 0, 0, 1, 1],\n",
        "            'deserters': [4, 24, 31, 2, 3, 4, 24, 31, 2, 3, 2, 3],\n",
        "            'origin':['Arizona', 'California', 'Texas', 'Florida', 'Maine', 'Iowa', 'Alaska','Nighthawks','Dragoons','Washington','Scouts','Wyoming'],\n",
        "\n",
        "            }\n"
      ],
      "metadata": {
        "id": "ZLUNPCzPPYP4"
      },
      "execution_count": null,
      "outputs": []
    },
    {
      "cell_type": "code",
      "source": [
        "raw_data_df=pd.DataFrame(data=raw_data)\n",
        "raw_data_df"
      ],
      "metadata": {
        "id": "i4dYpm0TW-kd"
      },
      "execution_count": null,
      "outputs": []
    },
    {
      "cell_type": "code",
      "source": [
        "# Step 3. Create a dataframe and assign it to a variable called army.\n",
        "army=spark.createDataFrame(data=pd.DataFrame(data=raw_data))\n",
        "army.show()"
      ],
      "metadata": {
        "id": "WqmXGEkmQAz7"
      },
      "execution_count": null,
      "outputs": []
    },
    {
      "cell_type": "code",
      "source": [
        "# Step 4.Set the 'origin' colum as the index of the dataframe\n"
      ],
      "metadata": {
        "id": "jJ-NvA0uWLk5"
      },
      "execution_count": null,
      "outputs": []
    },
    {
      "cell_type": "code",
      "source": [
        "# Step 5.Print only the column veterans\n",
        "army.select(\"veterans\").show()"
      ],
      "metadata": {
        "id": "DPoYk1fxlc1_"
      },
      "execution_count": null,
      "outputs": []
    },
    {
      "cell_type": "code",
      "source": [
        "# Step 6. Print the columns 'veterans' and 'deaths'\n",
        "army.select(\"veterans\",\"deaths\").show()"
      ],
      "metadata": {
        "id": "dO6uBZsQmimP"
      },
      "execution_count": null,
      "outputs": []
    },
    {
      "cell_type": "code",
      "source": [
        "# Step 7. Print the name of all the columns\n",
        "army.columns"
      ],
      "metadata": {
        "id": "0yPPTGLVm8Ve"
      },
      "execution_count": null,
      "outputs": []
    },
    {
      "cell_type": "code",
      "source": [
        "# Step 8. Select the 'deaths', 'size' and 'deserters' columns from Maine and Alaska\n",
        "origins=[\"Maine\",\"Alaska\"]\n",
        "cols=[\"deaths\",\"size\",\"deserters\"]\n",
        "army.select(cols).filter(army.origin.isin(origins)).show()"
      ],
      "metadata": {
        "id": "f1871zw9nFVz"
      },
      "execution_count": null,
      "outputs": []
    },
    {
      "cell_type": "code",
      "source": [
        "# Step 9. Select the rows 3 to 7 and the columns 3 to 6\n",
        "army.select(army.columns[2:6]).collect()[2:7]"
      ],
      "metadata": {
        "colab": {
          "base_uri": "https://localhost:8080/"
        },
        "id": "pQJC8DDknVjH",
        "outputId": "32fc953c-b5cd-4ad3-b5b3-d910e665ee4b"
      },
      "execution_count": null,
      "outputs": [
        {
          "output_type": "execute_result",
          "data": {
            "text/plain": [
              "[Row(deaths=25, battles=2, size=1099, veterans=62),\n",
              " Row(deaths=616, battles=2, size=1400, veterans=26),\n",
              " Row(deaths=43, battles=4, size=1592, veterans=73),\n",
              " Row(deaths=234, battles=7, size=1006, veterans=37),\n",
              " Row(deaths=523, battles=8, size=987, veterans=949)]"
            ]
          },
          "metadata": {},
          "execution_count": 11
        }
      ]
    },
    {
      "cell_type": "code",
      "source": [
        "# Step 10. Select every row after the fourth row and all columns\n",
        "army.collect()[3:]"
      ],
      "metadata": {
        "id": "CQCteaGHn_Nu"
      },
      "execution_count": null,
      "outputs": []
    },
    {
      "cell_type": "code",
      "source": [
        "# Step 11. Select every row up to the 4th row and all columns\n",
        "army.collect()[:4]"
      ],
      "metadata": {
        "id": "u9n9FxOooOGv"
      },
      "execution_count": null,
      "outputs": []
    },
    {
      "cell_type": "code",
      "source": [
        "# Step 12. Select the 3rd column up to the 7th column\n",
        "army.select(army.columns[2:7]).show(5)"
      ],
      "metadata": {
        "id": "VDDk-cgooaQD"
      },
      "execution_count": null,
      "outputs": []
    },
    {
      "cell_type": "code",
      "source": [
        "# Step 13. Select rows where df.deaths is greater than 50\n",
        "army.filter(\"deaths>50\").show()"
      ],
      "metadata": {
        "id": "mPII9g-1ogXN"
      },
      "execution_count": null,
      "outputs": []
    },
    {
      "cell_type": "code",
      "source": [
        "# Step 14. Select rows where df.deaths is greater than 500 or less than 50\n",
        "# 1.solution1\n",
        "army.where((army.deaths>500) | (army.deaths <50)).show()"
      ],
      "metadata": {
        "id": "_n9IOEjaolZQ"
      },
      "execution_count": null,
      "outputs": []
    },
    {
      "cell_type": "code",
      "source": [
        "# 2.solution2\n",
        "army.filter((army.deaths>500) | (army.deaths <50)).show()"
      ],
      "metadata": {
        "id": "RGBwuCxFtE1m"
      },
      "execution_count": null,
      "outputs": []
    },
    {
      "cell_type": "code",
      "source": [
        "from numpy import isnat\n",
        "# Step 15. Select all the regiments not named \"Dragoons\"\n",
        "filters=[\"Dragoons\"]\n",
        "army.where(army.regiment != \"Dragoons\").show()"
      ],
      "metadata": {
        "id": "1wHVuEOloob5"
      },
      "execution_count": null,
      "outputs": []
    },
    {
      "cell_type": "code",
      "source": [
        "# Step 16. Select the rows called Texas and Arizona\n",
        "origins=[\"Texas\",\"Arizona\"]\n",
        "army.where(army.origin.isin(origins)).show()"
      ],
      "metadata": {
        "id": "n3vx-T7poxAM"
      },
      "execution_count": null,
      "outputs": []
    },
    {
      "cell_type": "code",
      "source": [
        "# Step 17. Select the third cell in the row named Arizona\n",
        "army.filter(army.origin=='Arizona').select(army.columns[2]).show()"
      ],
      "metadata": {
        "id": "9iMRt5Blo0hg"
      },
      "execution_count": null,
      "outputs": []
    },
    {
      "cell_type": "code",
      "source": [
        "# Step 18. Select the third cell down in the column named deaths\n",
        "army.select(\"deaths\").collect()[2]"
      ],
      "metadata": {
        "id": "XVGjel9co6Bl"
      },
      "execution_count": null,
      "outputs": []
    }
  ]
}